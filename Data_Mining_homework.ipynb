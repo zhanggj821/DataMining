{
 "cells": [
  {
   "cell_type": "code",
   "execution_count": 7,
   "metadata": {},
   "outputs": [],
   "source": [
    "#本次作业的数据集Wien reviews 和 Oakland Crime Statistics 2011 to 2016\n",
    "import numpy as np\n",
    "import pandas as pd\n",
    "import matplotlib.pyplot as plt\n",
    "import seaborn as sns\n",
    "import os"
   ]
  },
  {
   "cell_type": "markdown",
   "metadata": {},
   "source": [
    "# 首先分析wine reviews数据集\n",
    "\n",
    "## 1. 数据可视化和摘要 ##\n",
    "### 1.1 数据摘要"
   ]
  },
  {
   "cell_type": "code",
   "execution_count": 12,
   "metadata": {},
   "outputs": [
    {
     "name": "stdout",
     "output_type": "stream",
     "text": [
      "(150930, 11) (129971, 14)\n",
      "['Unnamed: 0', 'country', 'description', 'designation', 'points', 'price', 'province', 'region_1', 'region_2', 'variety', 'winery'] ['Unnamed: 0', 'country', 'description', 'designation', 'points', 'price', 'province', 'region_1', 'region_2', 'taster_name', 'taster_twitter_handle', 'title', 'variety', 'winery']\n"
     ]
    }
   ],
   "source": [
    "#导入数据\n",
    "wine_1 = pd.read_csv(\"D:\\\\datamining2021\\\\datasets\\\\winemag\\\\winemag-data_first150k.csv\")\n",
    "wine_2 = pd.read_csv(\"D:\\\\datamining2021\\\\datasets\\\\winemag\\\\winemag-data-130k-v2.csv\")\n",
    "print(wine_1.shape,wine_2.shape)\n",
    "print(wine_1.columns.values.tolist(),wine_2.columns.values.tolist()  ) #输出各列名"
   ]
  },
  {
   "cell_type": "code",
   "execution_count": 15,
   "metadata": {},
   "outputs": [
    {
     "name": "stdout",
     "output_type": "stream",
     "text": [
      "<class 'pandas.core.frame.DataFrame'>\n",
      "RangeIndex: 280901 entries, 0 to 280900\n",
      "Data columns (total 13 columns):\n",
      " #   Column                 Non-Null Count   Dtype  \n",
      "---  ------                 --------------   -----  \n",
      " 0   country                280833 non-null  object \n",
      " 1   description            280901 non-null  object \n",
      " 2   designation            197701 non-null  object \n",
      " 3   points                 280901 non-null  int64  \n",
      " 4   price                  258210 non-null  float64\n",
      " 5   province               280833 non-null  object \n",
      " 6   region_1               234594 non-null  object \n",
      " 7   region_2               111464 non-null  object \n",
      " 8   variety                280900 non-null  object \n",
      " 9   winery                 280901 non-null  object \n",
      " 10  taster_name            103727 non-null  object \n",
      " 11  taster_twitter_handle  98758 non-null   object \n",
      " 12  title                  129971 non-null  object \n",
      "dtypes: float64(1), int64(1), object(11)\n",
      "memory usage: 27.9+ MB\n"
     ]
    }
   ],
   "source": [
    "#合并数据\n",
    "wine = pd.concat([wine_1, wine_2], ignore_index=True)\n",
    "wine=wine.drop(labels='Unnamed: 0', axis=1)\n",
    "wine.info()"
   ]
  },
  {
   "cell_type": "code",
   "execution_count": 17,
   "metadata": {},
   "outputs": [
    {
     "data": {
      "text/html": [
       "<div>\n",
       "<style scoped>\n",
       "    .dataframe tbody tr th:only-of-type {\n",
       "        vertical-align: middle;\n",
       "    }\n",
       "\n",
       "    .dataframe tbody tr th {\n",
       "        vertical-align: top;\n",
       "    }\n",
       "\n",
       "    .dataframe thead th {\n",
       "        text-align: right;\n",
       "    }\n",
       "</style>\n",
       "<table border=\"1\" class=\"dataframe\">\n",
       "  <thead>\n",
       "    <tr style=\"text-align: right;\">\n",
       "      <th></th>\n",
       "      <th>country</th>\n",
       "      <th>description</th>\n",
       "      <th>designation</th>\n",
       "      <th>points</th>\n",
       "      <th>price</th>\n",
       "      <th>province</th>\n",
       "      <th>region_1</th>\n",
       "      <th>region_2</th>\n",
       "      <th>variety</th>\n",
       "      <th>winery</th>\n",
       "      <th>taster_name</th>\n",
       "      <th>taster_twitter_handle</th>\n",
       "      <th>title</th>\n",
       "    </tr>\n",
       "  </thead>\n",
       "  <tbody>\n",
       "    <tr>\n",
       "      <th>0</th>\n",
       "      <td>US</td>\n",
       "      <td>This tremendous 100% varietal wine hails from ...</td>\n",
       "      <td>Martha's Vineyard</td>\n",
       "      <td>96</td>\n",
       "      <td>235.0</td>\n",
       "      <td>California</td>\n",
       "      <td>Napa Valley</td>\n",
       "      <td>Napa</td>\n",
       "      <td>Cabernet Sauvignon</td>\n",
       "      <td>Heitz</td>\n",
       "      <td>NaN</td>\n",
       "      <td>NaN</td>\n",
       "      <td>NaN</td>\n",
       "    </tr>\n",
       "    <tr>\n",
       "      <th>1</th>\n",
       "      <td>Spain</td>\n",
       "      <td>Ripe aromas of fig, blackberry and cassis are ...</td>\n",
       "      <td>Carodorum Selección Especial Reserva</td>\n",
       "      <td>96</td>\n",
       "      <td>110.0</td>\n",
       "      <td>Northern Spain</td>\n",
       "      <td>Toro</td>\n",
       "      <td>NaN</td>\n",
       "      <td>Tinta de Toro</td>\n",
       "      <td>Bodega Carmen Rodríguez</td>\n",
       "      <td>NaN</td>\n",
       "      <td>NaN</td>\n",
       "      <td>NaN</td>\n",
       "    </tr>\n",
       "    <tr>\n",
       "      <th>2</th>\n",
       "      <td>US</td>\n",
       "      <td>Mac Watson honors the memory of a wine once ma...</td>\n",
       "      <td>Special Selected Late Harvest</td>\n",
       "      <td>96</td>\n",
       "      <td>90.0</td>\n",
       "      <td>California</td>\n",
       "      <td>Knights Valley</td>\n",
       "      <td>Sonoma</td>\n",
       "      <td>Sauvignon Blanc</td>\n",
       "      <td>Macauley</td>\n",
       "      <td>NaN</td>\n",
       "      <td>NaN</td>\n",
       "      <td>NaN</td>\n",
       "    </tr>\n",
       "    <tr>\n",
       "      <th>3</th>\n",
       "      <td>US</td>\n",
       "      <td>This spent 20 months in 30% new French oak, an...</td>\n",
       "      <td>Reserve</td>\n",
       "      <td>96</td>\n",
       "      <td>65.0</td>\n",
       "      <td>Oregon</td>\n",
       "      <td>Willamette Valley</td>\n",
       "      <td>Willamette Valley</td>\n",
       "      <td>Pinot Noir</td>\n",
       "      <td>Ponzi</td>\n",
       "      <td>NaN</td>\n",
       "      <td>NaN</td>\n",
       "      <td>NaN</td>\n",
       "    </tr>\n",
       "    <tr>\n",
       "      <th>4</th>\n",
       "      <td>France</td>\n",
       "      <td>This is the top wine from La Bégude, named aft...</td>\n",
       "      <td>La Brûlade</td>\n",
       "      <td>95</td>\n",
       "      <td>66.0</td>\n",
       "      <td>Provence</td>\n",
       "      <td>Bandol</td>\n",
       "      <td>NaN</td>\n",
       "      <td>Provence red blend</td>\n",
       "      <td>Domaine de la Bégude</td>\n",
       "      <td>NaN</td>\n",
       "      <td>NaN</td>\n",
       "      <td>NaN</td>\n",
       "    </tr>\n",
       "  </tbody>\n",
       "</table>\n",
       "</div>"
      ],
      "text/plain": [
       "  country                                        description  \\\n",
       "0      US  This tremendous 100% varietal wine hails from ...   \n",
       "1   Spain  Ripe aromas of fig, blackberry and cassis are ...   \n",
       "2      US  Mac Watson honors the memory of a wine once ma...   \n",
       "3      US  This spent 20 months in 30% new French oak, an...   \n",
       "4  France  This is the top wine from La Bégude, named aft...   \n",
       "\n",
       "                            designation  points  price        province  \\\n",
       "0                     Martha's Vineyard      96  235.0      California   \n",
       "1  Carodorum Selección Especial Reserva      96  110.0  Northern Spain   \n",
       "2         Special Selected Late Harvest      96   90.0      California   \n",
       "3                               Reserve      96   65.0          Oregon   \n",
       "4                            La Brûlade      95   66.0        Provence   \n",
       "\n",
       "            region_1           region_2             variety  \\\n",
       "0        Napa Valley               Napa  Cabernet Sauvignon   \n",
       "1               Toro                NaN       Tinta de Toro   \n",
       "2     Knights Valley             Sonoma     Sauvignon Blanc   \n",
       "3  Willamette Valley  Willamette Valley          Pinot Noir   \n",
       "4             Bandol                NaN  Provence red blend   \n",
       "\n",
       "                    winery taster_name taster_twitter_handle title  \n",
       "0                    Heitz         NaN                   NaN   NaN  \n",
       "1  Bodega Carmen Rodríguez         NaN                   NaN   NaN  \n",
       "2                 Macauley         NaN                   NaN   NaN  \n",
       "3                    Ponzi         NaN                   NaN   NaN  \n",
       "4     Domaine de la Bégude         NaN                   NaN   NaN  "
      ]
     },
     "execution_count": 17,
     "metadata": {},
     "output_type": "execute_result"
    }
   ],
   "source": [
    "#去重\n",
    "wine.duplicated().value_counts()\n",
    "wine.drop_duplicates()\n",
    "wine.head()"
   ]
  },
  {
   "cell_type": "markdown",
   "metadata": {},
   "source": [
    "#### 1.1.1 标称属性"
   ]
  },
  {
   "cell_type": "code",
   "execution_count": 19,
   "metadata": {},
   "outputs": [
    {
     "data": {
      "text/plain": [
       "US                        116901\n",
       "France                     43191\n",
       "Italy                      43018\n",
       "Spain                      14913\n",
       "Portugal                   11013\n",
       "Chile                      10288\n",
       "Argentina                   9431\n",
       "Australia                   7286\n",
       "Austria                     6402\n",
       "New Zealand                 4739\n",
       "Germany                     4617\n",
       "South Africa                3659\n",
       "Greece                      1350\n",
       "Israel                      1135\n",
       "Canada                       453\n",
       "Hungary                      377\n",
       "Romania                      259\n",
       "Bulgaria                     218\n",
       "Uruguay                      201\n",
       "Slovenia                     181\n",
       "Croatia                      162\n",
       "Turkey                       142\n",
       "Mexico                       133\n",
       "Moldova                      130\n",
       "Georgia                      129\n",
       "England                       83\n",
       "Brazil                        77\n",
       "Lebanon                       72\n",
       "Cyprus                        42\n",
       "Morocco                       40\n",
       "Macedonia                     28\n",
       "Serbia                        26\n",
       "Ukraine                       19\n",
       "Czech Republic                18\n",
       "India                         17\n",
       "Peru                          16\n",
       "Luxembourg                    15\n",
       "Switzerland                   11\n",
       "Lithuania                      8\n",
       "Bosnia and Herzegovina         6\n",
       "Slovakia                       4\n",
       "South Korea                    4\n",
       "Egypt                          4\n",
       "China                          4\n",
       "Montenegro                     2\n",
       "Armenia                        2\n",
       "Albania                        2\n",
       "Japan                          2\n",
       "Tunisia                        2\n",
       "US-France                      1\n",
       "Name: country, dtype: int64"
      ]
     },
     "execution_count": 19,
     "metadata": {},
     "output_type": "execute_result"
    }
   ],
   "source": [
    "#显然该数据集的标称属性有country、province、region_1、region_2、variety、winery\n",
    "#统计各标称属性的数量\n",
    "wine['country'].value_counts()"
   ]
  },
  {
   "cell_type": "code",
   "execution_count": 20,
   "metadata": {},
   "outputs": [
    {
     "data": {
      "text/plain": [
       "California                       80755\n",
       "Washington                       18389\n",
       "Tuscany                          13178\n",
       "Bordeaux                         12052\n",
       "Oregon                            9962\n",
       "                                 ...  \n",
       "Santa Barbara County-Condrieu        1\n",
       "Paardeberg                           1\n",
       "Ceres Plateau                        1\n",
       "Hawaii                               1\n",
       "Rose Valley                          1\n",
       "Name: province, Length: 490, dtype: int64"
      ]
     },
     "execution_count": 20,
     "metadata": {},
     "output_type": "execute_result"
    }
   ],
   "source": [
    "wine['province'].value_counts()"
   ]
  },
  {
   "cell_type": "code",
   "execution_count": 21,
   "metadata": {},
   "outputs": [
    {
     "data": {
      "text/plain": [
       "Napa Valley                               10689\n",
       "Columbia Valley (WA)                       9099\n",
       "Russian River Valley                       6662\n",
       "California                                 6091\n",
       "Mendoza                                    5887\n",
       "                                          ...  \n",
       "San Luis Obispo-Sonoma-Monterey               1\n",
       "San Martino della Battaglia                   1\n",
       "Aglianico d'Irpinia                           1\n",
       "Vin de Pays de Sainte-Marie la Blanche        1\n",
       "Hawaii                                        1\n",
       "Name: region_1, Length: 1332, dtype: int64"
      ]
     },
     "execution_count": 21,
     "metadata": {},
     "output_type": "execute_result"
    }
   ],
   "source": [
    "wine['region_1'].value_counts()"
   ]
  },
  {
   "cell_type": "code",
   "execution_count": 22,
   "metadata": {},
   "outputs": [
    {
     "data": {
      "text/plain": [
       "Central Coast              24122\n",
       "Sonoma                     20286\n",
       "Columbia Valley            17260\n",
       "Napa                       15615\n",
       "Willamette Valley           6604\n",
       "California Other            6179\n",
       "Finger Lakes                3287\n",
       "Sierra Foothills            3122\n",
       "Napa-Sonoma                 2814\n",
       "Mendocino/Lake Counties     2389\n",
       "Central Valley              2177\n",
       "Southern Oregon             1579\n",
       "Long Island                 1451\n",
       "Oregon Other                1388\n",
       "North Coast                 1216\n",
       "Washington Other            1127\n",
       "South Coast                  470\n",
       "New York Other               378\n",
       "Name: region_2, dtype: int64"
      ]
     },
     "execution_count": 22,
     "metadata": {},
     "output_type": "execute_result"
    }
   ],
   "source": [
    "wine['region_2'].value_counts()"
   ]
  },
  {
   "cell_type": "code",
   "execution_count": 23,
   "metadata": {},
   "outputs": [
    {
     "data": {
      "text/plain": [
       "Pinot Noir                  27563\n",
       "Chardonnay                  26235\n",
       "Cabernet Sauvignon          22272\n",
       "Red Blend                   19008\n",
       "Bordeaux-style Red Blend    14262\n",
       "                            ...  \n",
       "Bombino Nero                    1\n",
       "Kangoun                         1\n",
       "Malagouzia-Chardonnay           1\n",
       "Tinto Velasco                   1\n",
       "Biancale                        1\n",
       "Name: variety, Length: 756, dtype: int64"
      ]
     },
     "execution_count": 23,
     "metadata": {},
     "output_type": "execute_result"
    }
   ],
   "source": [
    "wine['variety'].value_counts()"
   ]
  },
  {
   "cell_type": "code",
   "execution_count": 24,
   "metadata": {},
   "outputs": [
    {
     "data": {
      "text/plain": [
       "Williams Selyem          585\n",
       "Testarossa               492\n",
       "DFJ Vinhos               473\n",
       "Chateau Ste. Michelle    419\n",
       "Wines & Winemakers       391\n",
       "                        ... \n",
       "WYSIWYG                    1\n",
       "Magpie Estate              1\n",
       "Château Pey de Pont        1\n",
       "Quinta Sardonia            1\n",
       "Mia Bea                    1\n",
       "Name: winery, Length: 19186, dtype: int64"
      ]
     },
     "execution_count": 24,
     "metadata": {},
     "output_type": "execute_result"
    }
   ],
   "source": [
    "wine['winery'].value_counts()"
   ]
  },
  {
   "cell_type": "markdown",
   "metadata": {},
   "source": [
    "#### 1.1.2 数值属性"
   ]
  },
  {
   "cell_type": "code",
   "execution_count": 25,
   "metadata": {},
   "outputs": [
    {
     "data": {
      "text/html": [
       "<div>\n",
       "<style scoped>\n",
       "    .dataframe tbody tr th:only-of-type {\n",
       "        vertical-align: middle;\n",
       "    }\n",
       "\n",
       "    .dataframe tbody tr th {\n",
       "        vertical-align: top;\n",
       "    }\n",
       "\n",
       "    .dataframe thead th {\n",
       "        text-align: right;\n",
       "    }\n",
       "</style>\n",
       "<table border=\"1\" class=\"dataframe\">\n",
       "  <thead>\n",
       "    <tr style=\"text-align: right;\">\n",
       "      <th></th>\n",
       "      <th>points</th>\n",
       "      <th>price</th>\n",
       "    </tr>\n",
       "  </thead>\n",
       "  <tbody>\n",
       "    <tr>\n",
       "      <th>count</th>\n",
       "      <td>280901.000000</td>\n",
       "      <td>258210.000000</td>\n",
       "    </tr>\n",
       "    <tr>\n",
       "      <th>mean</th>\n",
       "      <td>88.146934</td>\n",
       "      <td>34.177162</td>\n",
       "    </tr>\n",
       "    <tr>\n",
       "      <th>std</th>\n",
       "      <td>3.151528</td>\n",
       "      <td>38.611708</td>\n",
       "    </tr>\n",
       "    <tr>\n",
       "      <th>min</th>\n",
       "      <td>80.000000</td>\n",
       "      <td>4.000000</td>\n",
       "    </tr>\n",
       "    <tr>\n",
       "      <th>25%</th>\n",
       "      <td>86.000000</td>\n",
       "      <td>16.000000</td>\n",
       "    </tr>\n",
       "    <tr>\n",
       "      <th>50%</th>\n",
       "      <td>88.000000</td>\n",
       "      <td>25.000000</td>\n",
       "    </tr>\n",
       "    <tr>\n",
       "      <th>75%</th>\n",
       "      <td>90.000000</td>\n",
       "      <td>40.000000</td>\n",
       "    </tr>\n",
       "    <tr>\n",
       "      <th>max</th>\n",
       "      <td>100.000000</td>\n",
       "      <td>3300.000000</td>\n",
       "    </tr>\n",
       "  </tbody>\n",
       "</table>\n",
       "</div>"
      ],
      "text/plain": [
       "              points          price\n",
       "count  280901.000000  258210.000000\n",
       "mean       88.146934      34.177162\n",
       "std         3.151528      38.611708\n",
       "min        80.000000       4.000000\n",
       "25%        86.000000      16.000000\n",
       "50%        88.000000      25.000000\n",
       "75%        90.000000      40.000000\n",
       "max       100.000000    3300.000000"
      ]
     },
     "execution_count": 25,
     "metadata": {},
     "output_type": "execute_result"
    }
   ],
   "source": [
    "#wine reviews的数据集数值属性包括points 和 price\n",
    "#其五数概括如下\n",
    "wine.describe()"
   ]
  },
  {
   "cell_type": "markdown",
   "metadata": {},
   "source": [
    "**min 25% 50% 75% max 就是point和price这两个数值属性的五数概括**"
   ]
  },
  {
   "cell_type": "code",
   "execution_count": 26,
   "metadata": {},
   "outputs": [
    {
     "data": {
      "text/plain": [
       "country                      68\n",
       "description                   0\n",
       "designation               83200\n",
       "points                        0\n",
       "price                     22691\n",
       "province                     68\n",
       "region_1                  46307\n",
       "region_2                 169437\n",
       "variety                       1\n",
       "winery                        0\n",
       "taster_name              177174\n",
       "taster_twitter_handle    182143\n",
       "title                    150930\n",
       "dtype: int64"
      ]
     },
     "execution_count": 26,
     "metadata": {},
     "output_type": "execute_result"
    }
   ],
   "source": [
    "#每一列缺失值个数统计如下\n",
    "wine.isnull().sum(axis=0)"
   ]
  },
  {
   "cell_type": "markdown",
   "metadata": {},
   "source": [
    "**可以看到points属性没有缺失值，price确实22691个值**"
   ]
  },
  {
   "cell_type": "markdown",
   "metadata": {},
   "source": [
    "### 1.2 数据可视化"
   ]
  },
  {
   "cell_type": "code",
   "execution_count": 82,
   "metadata": {},
   "outputs": [
    {
     "data": {
      "image/png": "[encoded data removed]",
      "text/plain": [
       "<Figure size 432x288 with 1 Axes>"
      ]
     },
     "metadata": {
      "needs_background": "light"
     },
     "output_type": "display_data"
    }
   ],
   "source": [
    "#检查数据分布即离群点 \n",
    "#price属性有缺失值无法画盒图.因此先过滤掉缺失值\n",
    "#画盒图进行points与price的可视化\n",
    "plt.rcParams['font.sans-serif']=['SimHei'] #显示中文\n",
    "plt.rcParams['axes.unicode_minus'] = False # 正常显示负号\n",
    "plt.boxplot(wine['points'], notch=False, sym='y', vert=True)\n",
    "plt.xlabel('points')\n",
    "plt.title('总体酒的质量')\n",
    "plt.show()"
   ]
  },
  {
   "cell_type": "code",
   "execution_count": 83,
   "metadata": {},
   "outputs": [
    {
     "data": {
      "image/png": "[encoded data removed]",
      "text/plain": [
       "<Figure size 432x288 with 1 Axes>"
      ]
     },
     "metadata": {
      "needs_background": "light"
     },
     "output_type": "display_data"
    }
   ],
   "source": [
    "plt.boxplot(wine['price'].dropna(), notch=False, sym='y', vert=True)\n",
    "plt.xlabel('price')\n",
    "plt.title('总体酒的价格')\n",
    "plt.show()"
   ]
  },
  {
   "cell_type": "markdown",
   "metadata": {},
   "source": [
    "**price集中在某一小范围内。有大量离群点**"
   ]
  },
  {
   "cell_type": "code",
   "execution_count": 67,
   "metadata": {},
   "outputs": [
    {
     "data": {
      "text/plain": [
       "US             116901\n",
       "France          43191\n",
       "Italy           43018\n",
       "Spain           14913\n",
       "Portugal        11013\n",
       "Chile           10288\n",
       "Argentina        9431\n",
       "Australia        7286\n",
       "Austria          6402\n",
       "New Zealand      4739\n",
       "Name: country, dtype: int64"
      ]
     },
     "execution_count": 67,
     "metadata": {},
     "output_type": "execute_result"
    }
   ],
   "source": [
    "#统计数量最多的前10个国家红酒平均point\n",
    "Countries = wine['country'].value_counts()[:10]\n",
    "Countries\n"
   ]
  },
  {
   "cell_type": "code",
   "execution_count": 72,
   "metadata": {},
   "outputs": [
    {
     "name": "stdout",
     "output_type": "stream",
     "text": [
      "[88.16610636350416, 88.884559283184, 88.48114742665861, 86.93254207738215, 88.15717788068646, 86.3822900466563, 86.28385112925459, 88.11240735657425, 89.70759137769447, 87.77843426883308]\n"
     ]
    },
    {
     "data": {
      "image/png": "[encoded data removed]",
      "text/plain": [
       "<Figure size 432x288 with 1 Axes>"
      ]
     },
     "metadata": {
      "needs_background": "light"
     },
     "output_type": "display_data"
    }
   ],
   "source": [
    "country = Countries.index\n",
    "mean_points=[]\n",
    "for c in country:\n",
    "    temp = wine.loc[wine['country']==c]\n",
    "    sum_points = temp['points'].sum()\n",
    "    mean_points.append(sum_points*1.0/Countries[c])\n",
    "print(mean_points)\n",
    "    \n",
    "plt.bar(country, mean_points)\n",
    "plt.xticks(rotation=90)\n",
    "plt.title('销量前10的国家红酒平均point指标')\n",
    "plt.show()"
   ]
  },
  {
   "cell_type": "code",
   "execution_count": 73,
   "metadata": {},
   "outputs": [
    {
     "data": {
      "image/png": "[encoded data removed]",
      "text/plain": [
       "<Figure size 432x288 with 1 Axes>"
      ]
     },
     "metadata": {
      "needs_background": "light"
     },
     "output_type": "display_data"
    }
   ],
   "source": [
    "points = [Countries[i] for i in range(10)]\n",
    "plt.bar(country, points)\n",
    "plt.xticks(rotation=90)\n",
    "plt.title('酒的质量总和排在前10的国家')\n",
    "plt.show()"
   ]
  },
  {
   "cell_type": "code",
   "execution_count": 76,
   "metadata": {},
   "outputs": [
    {
     "data": {
      "text/plain": [
       "count    258210.000000\n",
       "mean         34.177162\n",
       "std          38.611708\n",
       "min           4.000000\n",
       "25%          16.000000\n",
       "50%          25.000000\n",
       "75%          40.000000\n",
       "max        3300.000000\n",
       "Name: price, dtype: float64"
      ]
     },
     "execution_count": 76,
     "metadata": {},
     "output_type": "execute_result"
    }
   ],
   "source": [
    "#对价格进行分析\n",
    "wine['price'].describe()"
   ]
  },
  {
   "cell_type": "markdown",
   "metadata": {},
   "source": [
    "**可以看到价格均值为34.17，最大值为3300，最小为4**"
   ]
  },
  {
   "cell_type": "code",
   "execution_count": 77,
   "metadata": {},
   "outputs": [
    {
     "data": {
      "image/png": "[encoded data removed]",
      "text/plain": [
       "<Figure size 432x288 with 1 Axes>"
      ]
     },
     "metadata": {
      "needs_background": "light"
     },
     "output_type": "display_data"
    }
   ],
   "source": [
    "#画出price的分布散点图\n",
    "sns.stripplot(y='price', data=wine)\n",
    "plt.show()"
   ]
  },
  {
   "cell_type": "code",
   "execution_count": 78,
   "metadata": {},
   "outputs": [
    {
     "name": "stderr",
     "output_type": "stream",
     "text": [
      "D:\\AnaConda\\lib\\site-packages\\seaborn\\distributions.py:2551: FutureWarning: `distplot` is a deprecated function and will be removed in a future version. Please adapt your code to use either `displot` (a figure-level function with similar flexibility) or `histplot` (an axes-level function for histograms).\n",
      "  warnings.warn(msg, FutureWarning)\n"
     ]
    },
    {
     "data": {
      "image/png": "[encoded data removed]",
      "text/plain": [
       "<Figure size 432x288 with 1 Axes>"
      ]
     },
     "metadata": {
      "needs_background": "light"
     },
     "output_type": "display_data"
    }
   ],
   "source": [
    "#画price的直方图与核概率密度图 过滤缺失值 \n",
    "sns.distplot(wine.price.dropna())\n",
    "plt.show()"
   ]
  },
  {
   "cell_type": "markdown",
   "metadata": {},
   "source": [
    "**价格分布较为集中，主要分布在0-200之间**"
   ]
  },
  {
   "cell_type": "code",
   "execution_count": 91,
   "metadata": {},
   "outputs": [
    {
     "data": {
      "text/plain": [
       "(array([ 0,  1,  2,  3,  4,  5,  6,  7,  8,  9, 10, 11, 12, 13, 14, 15, 16,\n",
       "        17, 18, 19, 20, 21, 22, 23]),\n",
       " [Text(0, 0, 'Grüner Veltliner'),\n",
       "  Text(1, 0, 'Chardonnay'),\n",
       "  Text(2, 0, 'Chardonnay'),\n",
       "  Text(3, 0, 'Bordeaux-style Red Blend'),\n",
       "  Text(4, 0, 'Bordeaux-style Red Blend'),\n",
       "  Text(5, 0, 'Bordeaux-style Red Blend'),\n",
       "  Text(6, 0, 'Bordeaux-style Red Blend'),\n",
       "  Text(7, 0, 'Bordeaux-style Red Blend'),\n",
       "  Text(8, 0, 'Chardonnay'),\n",
       "  Text(9, 0, 'Chardonnay'),\n",
       "  Text(10, 0, 'Bordeaux-style Red Blend'),\n",
       "  Text(11, 0, 'Bordeaux-style Red Blend'),\n",
       "  Text(12, 0, 'Bordeaux-style Red Blend'),\n",
       "  Text(13, 0, 'Bordeaux-style Red Blend'),\n",
       "  Text(14, 0, 'Bordeaux-style Red Blend'),\n",
       "  Text(15, 0, 'Bordeaux-style Red Blend'),\n",
       "  Text(16, 0, 'Bordeaux-style Red Blend'),\n",
       "  Text(17, 0, 'Grüner Veltliner'),\n",
       "  Text(18, 0, 'Pinot Noir'),\n",
       "  Text(19, 0, 'Bordeaux-style Red Blend'),\n",
       "  Text(20, 0, 'Bordeaux-style Red Blend'),\n",
       "  Text(21, 0, 'Pinot Noir'),\n",
       "  Text(22, 0, 'Pinot Noir'),\n",
       "  Text(23, 0, 'Chardonnay')])"
      ]
     },
     "execution_count": 91,
     "metadata": {},
     "output_type": "execute_result"
    },
    {
     "data": {
      "image/png": "[encoded data removed]",
      "text/plain": [
       "<Figure size 432x288 with 1 Axes>"
      ]
     },
     "metadata": {
      "needs_background": "light"
     },
     "output_type": "display_data"
    }
   ],
   "source": [
    "#讨论高价的酒是否与其原料有关\n",
    "High_price = wine[wine.price>1000]\n",
    "temp = High_price[['price','variety']]\n",
    "temp.plot(kind='bar', x='variety', y='price')\n",
    "plt.xticks(rotation=90)\n",
    "# plt.bar(temp.variety,temp.price)\n",
    "# plt.xticks(rotation=90)\n",
    "# plt.show()"
   ]
  },
  {
   "cell_type": "markdown",
   "metadata": {},
   "source": [
    "**可以看到不同原料酿造的酒价格各有不同**"
   ]
  },
  {
   "cell_type": "markdown",
   "metadata": {},
   "source": [
    "## 2. 数据缺失的处理"
   ]
  },
  {
   "cell_type": "code",
   "execution_count": 101,
   "metadata": {},
   "outputs": [],
   "source": [
    "#定义 标称属性数据基本信息及可视化数据函数\n",
    "def Visualization(Series):\n",
    "#     Dict = {}\n",
    "    data = Series.value_counts()\n",
    "#     name = data.index[:]\n",
    "    name = data.index[:20]\n",
    "#     counts = [data[name[i]] for i in range(len(data))]\n",
    "    counts = [data[name[i]] for i in range(20)]\n",
    "    frequence = [counts[i]/sum(counts) for i in range(20)]\n",
    "    dataframe = pd.DataFrame(counts, index=name, columns=['count'])\n",
    "    dataframe['freq'] = frequence\n",
    "    print(dataframe)\n",
    "    plt.bar(name, counts)\n",
    "    plt.xticks(rotation=90)\n",
    "    plt.show()"
   ]
  },
  {
   "cell_type": "code",
   "execution_count": 102,
   "metadata": {},
   "outputs": [
    {
     "name": "stdout",
     "output_type": "stream",
     "text": [
      "               count      freq\n",
      "US            116901  0.418053\n",
      "France         43191  0.154457\n",
      "Italy          43018  0.153838\n",
      "Spain          14913  0.053331\n",
      "Portugal       11013  0.039384\n",
      "Chile          10288  0.036791\n",
      "Argentina       9431  0.033726\n",
      "Australia       7286  0.026056\n",
      "Austria         6402  0.022894\n",
      "New Zealand     4739  0.016947\n",
      "Germany         4617  0.016511\n",
      "South Africa    3659  0.013085\n",
      "Greece          1350  0.004828\n",
      "Israel          1135  0.004059\n",
      "Canada           453  0.001620\n",
      "Hungary          377  0.001348\n",
      "Romania          259  0.000926\n",
      "Bulgaria         218  0.000780\n",
      "Uruguay          201  0.000719\n",
      "Slovenia         181  0.000647\n"
     ]
    },
    {
     "data": {
      "image/png": "[encoded data removed]",
      "text/plain": [
       "<Figure size 432x288 with 1 Axes>"
      ]
     },
     "metadata": {
      "needs_background": "light"
     },
     "output_type": "display_data"
    }
   ],
   "source": [
    "#wine['country']的原始数据\n",
    "Visualization(wine['country'])"
   ]
  },
  {
   "cell_type": "code",
   "execution_count": 104,
   "metadata": {},
   "outputs": [
    {
     "data": {
      "text/plain": [
       "0"
      ]
     },
     "execution_count": 104,
     "metadata": {},
     "output_type": "execute_result"
    }
   ],
   "source": [
    "#处理缺失值方式1：剔除缺失值\n",
    "country_1 = wine['country'].dropna()\n",
    "country_1.isnull().sum()"
   ]
  },
  {
   "cell_type": "code",
   "execution_count": 105,
   "metadata": {},
   "outputs": [
    {
     "name": "stdout",
     "output_type": "stream",
     "text": [
      "               count      freq\n",
      "US            116901  0.418053\n",
      "France         43191  0.154457\n",
      "Italy          43018  0.153838\n",
      "Spain          14913  0.053331\n",
      "Portugal       11013  0.039384\n",
      "Chile          10288  0.036791\n",
      "Argentina       9431  0.033726\n",
      "Australia       7286  0.026056\n",
      "Austria         6402  0.022894\n",
      "New Zealand     4739  0.016947\n",
      "Germany         4617  0.016511\n",
      "South Africa    3659  0.013085\n",
      "Greece          1350  0.004828\n",
      "Israel          1135  0.004059\n",
      "Canada           453  0.001620\n",
      "Hungary          377  0.001348\n",
      "Romania          259  0.000926\n",
      "Bulgaria         218  0.000780\n",
      "Uruguay          201  0.000719\n",
      "Slovenia         181  0.000647\n"
     ]
    },
    {
     "data": {
      "image/png": "[encoded data removed]",
      "text/plain": [
       "<Figure size 432x288 with 1 Axes>"
      ]
     },
     "metadata": {
      "needs_background": "light"
     },
     "output_type": "display_data"
    }
   ],
   "source": [
    "#可视化剔除之后的数据\n",
    "Visualization(country_1)"
   ]
  },
  {
   "cell_type": "code",
   "execution_count": 109,
   "metadata": {},
   "outputs": [
    {
     "data": {
      "text/plain": [
       "0"
      ]
     },
     "execution_count": 109,
     "metadata": {},
     "output_type": "execute_result"
    }
   ],
   "source": [
    "#处理缺失值方式2：高频填充 （众数）\n",
    "country_2 = wine['country'].fillna(wine['country'].mode()[0])\n",
    "country_2.isnull().sum()"
   ]
  },
  {
   "cell_type": "code",
   "execution_count": 110,
   "metadata": {},
   "outputs": [
    {
     "name": "stdout",
     "output_type": "stream",
     "text": [
      "               count      freq\n",
      "US            116969  0.418194\n",
      "France         43191  0.154419\n",
      "Italy          43018  0.153801\n",
      "Spain          14913  0.053318\n",
      "Portugal       11013  0.039374\n",
      "Chile          10288  0.036782\n",
      "Argentina       9431  0.033718\n",
      "Australia       7286  0.026049\n",
      "Austria         6402  0.022889\n",
      "New Zealand     4739  0.016943\n",
      "Germany         4617  0.016507\n",
      "South Africa    3659  0.013082\n",
      "Greece          1350  0.004827\n",
      "Israel          1135  0.004058\n",
      "Canada           453  0.001620\n",
      "Hungary          377  0.001348\n",
      "Romania          259  0.000926\n",
      "Bulgaria         218  0.000779\n",
      "Uruguay          201  0.000719\n",
      "Slovenia         181  0.000647\n"
     ]
    },
    {
     "data": {
      "image/png": "[encoded data removed]",
      "text/plain": [
       "<Figure size 432x288 with 1 Axes>"
      ]
     },
     "metadata": {
      "needs_background": "light"
     },
     "output_type": "display_data"
    }
   ],
   "source": [
    "#可视化高频填充后的数据\n",
    "Visualization(country_2)"
   ]
  },
  {
   "cell_type": "markdown",
   "metadata": {},
   "source": [
    "**可以看到填充后count 和 freq都增加了**"
   ]
  },
  {
   "cell_type": "markdown",
   "metadata": {},
   "source": [
    "**处理designation属性**"
   ]
  },
  {
   "cell_type": "code",
   "execution_count": 111,
   "metadata": {},
   "outputs": [
    {
     "data": {
      "text/plain": [
       "83200"
      ]
     },
     "execution_count": 111,
     "metadata": {},
     "output_type": "execute_result"
    }
   ],
   "source": [
    "wine.designation.isnull().sum()"
   ]
  },
  {
   "cell_type": "code",
   "execution_count": 112,
   "metadata": {},
   "outputs": [
    {
     "data": {
      "text/plain": [
       "Reserve                       4761\n",
       "Reserva                       3069\n",
       "Estate                        2893\n",
       "Barrel sample                 1701\n",
       "Riserva                       1452\n",
       "                              ... \n",
       "Signature Collection Amore       1\n",
       "Madame de                        1\n",
       "Fritz Willi Frizzante            1\n",
       "Proprietary Rosato di            1\n",
       "Padre Pedro Reserva Branco       1\n",
       "Name: designation, Length: 47239, dtype: int64"
      ]
     },
     "execution_count": 112,
     "metadata": {},
     "output_type": "execute_result"
    }
   ],
   "source": [
    "wine.designation.value_counts()"
   ]
  },
  {
   "cell_type": "code",
   "execution_count": 114,
   "metadata": {},
   "outputs": [
    {
     "name": "stdout",
     "output_type": "stream",
     "text": [
      "                      count      freq\n",
      "Reserve                4761  0.203880\n",
      "Reserva                3069  0.131423\n",
      "Estate                 2893  0.123887\n",
      "Barrel sample          1701  0.072842\n",
      "Riserva                1452  0.062179\n",
      "Brut                   1137  0.048690\n",
      "Estate Grown           1070  0.045820\n",
      "Barrel Sample           891  0.038155\n",
      "Crianza                 846  0.036228\n",
      "Dry                     787  0.033702\n",
      "Estate Bottled          738  0.031603\n",
      "Gran Reserva            591  0.025308\n",
      "Old Vine                552  0.023638\n",
      "Vieilles Vignes         533  0.022825\n",
      "Brut Rosé               524  0.022439\n",
      "Extra Dry               448  0.019185\n",
      "Tradition               379  0.016230\n",
      "Rosé                    346  0.014817\n",
      "Réserve                 319  0.013661\n",
      "Bien Nacido Vineyard    315  0.013489\n"
     ]
    },
    {
     "data": {
      "image/png": "[encoded data removed]",
      "text/plain": [
       "<Figure size 432x288 with 1 Axes>"
      ]
     },
     "metadata": {
      "needs_background": "light"
     },
     "output_type": "display_data"
    }
   ],
   "source": [
    "#可视化未处理前的designation数据\n",
    "Visualization(wine['designation'])"
   ]
  },
  {
   "cell_type": "code",
   "execution_count": 117,
   "metadata": {},
   "outputs": [
    {
     "name": "stdout",
     "output_type": "stream",
     "text": [
      "0\n",
      "                      count      freq\n",
      "Reserve                4761  0.203880\n",
      "Reserva                3069  0.131423\n",
      "Estate                 2893  0.123887\n",
      "Barrel sample          1701  0.072842\n",
      "Riserva                1452  0.062179\n",
      "Brut                   1137  0.048690\n",
      "Estate Grown           1070  0.045820\n",
      "Barrel Sample           891  0.038155\n",
      "Crianza                 846  0.036228\n",
      "Dry                     787  0.033702\n",
      "Estate Bottled          738  0.031603\n",
      "Gran Reserva            591  0.025308\n",
      "Old Vine                552  0.023638\n",
      "Vieilles Vignes         533  0.022825\n",
      "Brut Rosé               524  0.022439\n",
      "Extra Dry               448  0.019185\n",
      "Tradition               379  0.016230\n",
      "Rosé                    346  0.014817\n",
      "Réserve                 319  0.013661\n",
      "Bien Nacido Vineyard    315  0.013489\n"
     ]
    },
    {
     "data": {
      "image/png": "[encoded data removed]",
      "text/plain": [
       "<Figure size 432x288 with 1 Axes>"
      ]
     },
     "metadata": {
      "needs_background": "light"
     },
     "output_type": "display_data"
    }
   ],
   "source": [
    "#剔除缺失值\n",
    "designation_1 = wine.designation.dropna()\n",
    "print(designation_1.isnull().sum())\n",
    "Visualization(designation_1)"
   ]
  },
  {
   "cell_type": "code",
   "execution_count": 119,
   "metadata": {},
   "outputs": [
    {
     "data": {
      "text/plain": [
       "0"
      ]
     },
     "execution_count": 119,
     "metadata": {},
     "output_type": "execute_result"
    }
   ],
   "source": [
    "#高频填充缺失值\n",
    "designation_2 = wine.designation.fillna(wine_designation.mode()[0])\n",
    "designation_2.isnull().sum()"
   ]
  },
  {
   "cell_type": "code",
   "execution_count": 120,
   "metadata": {},
   "outputs": [
    {
     "name": "stdout",
     "output_type": "stream",
     "text": [
      "                      count      freq\n",
      "Reserve               87961  0.825522\n",
      "Reserva                3069  0.028803\n",
      "Estate                 2893  0.027151\n",
      "Barrel sample          1701  0.015964\n",
      "Riserva                1452  0.013627\n",
      "Brut                   1137  0.010671\n",
      "Estate Grown           1070  0.010042\n",
      "Barrel Sample           891  0.008362\n",
      "Crianza                 846  0.007940\n",
      "Dry                     787  0.007386\n",
      "Estate Bottled          738  0.006926\n",
      "Gran Reserva            591  0.005547\n",
      "Old Vine                552  0.005181\n",
      "Vieilles Vignes         533  0.005002\n",
      "Brut Rosé               524  0.004918\n",
      "Extra Dry               448  0.004205\n",
      "Tradition               379  0.003557\n",
      "Rosé                    346  0.003247\n",
      "Réserve                 319  0.002994\n",
      "Bien Nacido Vineyard    315  0.002956\n"
     ]
    },
    {
     "data": {
      "image/png": "[encoded data removed]",
      "text/plain": [
       "<Figure size 432x288 with 1 Axes>"
      ]
     },
     "metadata": {
      "needs_background": "light"
     },
     "output_type": "display_data"
    }
   ],
   "source": [
    "Visualization(designation_2)"
   ]
  },
  {
   "cell_type": "markdown",
   "metadata": {},
   "source": [
    "**可以看到reserve占比最大 为82.5%**"
   ]
  },
  {
   "cell_type": "markdown",
   "metadata": {},
   "source": [
    "**处理数值属性price缺失数据**"
   ]
  },
  {
   "cell_type": "code",
   "execution_count": 126,
   "metadata": {},
   "outputs": [],
   "source": [
    "#定义数值标签可视化函数\n",
    "def Visualization_1(Series):\n",
    "    print(Series.describe())\n",
    "    sns.distplot(Series)"
   ]
  },
  {
   "cell_type": "code",
   "execution_count": 122,
   "metadata": {},
   "outputs": [
    {
     "data": {
      "text/plain": [
       "22691"
      ]
     },
     "execution_count": 122,
     "metadata": {},
     "output_type": "execute_result"
    }
   ],
   "source": [
    "wine['price'].isnull().sum()"
   ]
  },
  {
   "cell_type": "code",
   "execution_count": 127,
   "metadata": {},
   "outputs": [
    {
     "name": "stdout",
     "output_type": "stream",
     "text": [
      "count    258210.000000\n",
      "mean         34.177162\n",
      "std          38.611708\n",
      "min           4.000000\n",
      "25%          16.000000\n",
      "50%          25.000000\n",
      "75%          40.000000\n",
      "max        3300.000000\n",
      "Name: price, dtype: float64\n"
     ]
    },
    {
     "name": "stderr",
     "output_type": "stream",
     "text": [
      "D:\\AnaConda\\lib\\site-packages\\seaborn\\distributions.py:2551: FutureWarning: `distplot` is a deprecated function and will be removed in a future version. Please adapt your code to use either `displot` (a figure-level function with similar flexibility) or `histplot` (an axes-level function for histograms).\n",
      "  warnings.warn(msg, FutureWarning)\n"
     ]
    },
    {
     "data": {
      "image/png": "[encoded data removed]",
      "text/plain": [
       "<Figure size 432x288 with 1 Axes>"
      ]
     },
     "metadata": {
      "needs_background": "light"
     },
     "output_type": "display_data"
    }
   ],
   "source": [
    "#原始数据可视化\n",
    "Visualization_1(wine['price'])"
   ]
  },
  {
   "cell_type": "code",
   "execution_count": 128,
   "metadata": {},
   "outputs": [],
   "source": [
    "#剔除缺失值\n",
    "price_1 = wine['price'].dropna()"
   ]
  },
  {
   "cell_type": "code",
   "execution_count": 129,
   "metadata": {},
   "outputs": [
    {
     "data": {
      "text/plain": [
       "0"
      ]
     },
     "execution_count": 129,
     "metadata": {},
     "output_type": "execute_result"
    }
   ],
   "source": [
    "price_1.isnull().sum()"
   ]
  },
  {
   "cell_type": "code",
   "execution_count": 133,
   "metadata": {},
   "outputs": [
    {
     "name": "stdout",
     "output_type": "stream",
     "text": [
      "count    258210.000000\n",
      "mean         34.177162\n",
      "std          38.611708\n",
      "min           4.000000\n",
      "25%          16.000000\n",
      "50%          25.000000\n",
      "75%          40.000000\n",
      "max        3300.000000\n",
      "Name: price, dtype: float64\n"
     ]
    },
    {
     "name": "stderr",
     "output_type": "stream",
     "text": [
      "D:\\AnaConda\\lib\\site-packages\\seaborn\\distributions.py:2551: FutureWarning: `distplot` is a deprecated function and will be removed in a future version. Please adapt your code to use either `displot` (a figure-level function with similar flexibility) or `histplot` (an axes-level function for histograms).\n",
      "  warnings.warn(msg, FutureWarning)\n"
     ]
    },
    {
     "data": {
      "image/png": "[encoded data removed]",
      "text/plain": [
       "<Figure size 432x288 with 1 Axes>"
      ]
     },
     "metadata": {
      "needs_background": "light"
     },
     "output_type": "display_data"
    }
   ],
   "source": [
    "#可视化剔除后的数据\n",
    "Visualization_1(price_1)"
   ]
  },
  {
   "cell_type": "markdown",
   "metadata": {},
   "source": [
    "**剔除后price五数概括分布于原始数据差别不大，所以price缺失值主要集中在高价位**"
   ]
  },
  {
   "cell_type": "code",
   "execution_count": 132,
   "metadata": {},
   "outputs": [
    {
     "data": {
      "text/plain": [
       "0"
      ]
     },
     "execution_count": 132,
     "metadata": {},
     "output_type": "execute_result"
    }
   ],
   "source": [
    "#高频填充缺失值\n",
    "price_2 = wine['price'].fillna(wine['price'].mode()[0])\n",
    "price_2.isnull().sum()"
   ]
  },
  {
   "cell_type": "code",
   "execution_count": 134,
   "metadata": {},
   "outputs": [
    {
     "name": "stdout",
     "output_type": "stream",
     "text": [
      "count    280901.000000\n",
      "mean         33.031940\n",
      "std          37.220385\n",
      "min           4.000000\n",
      "25%          17.000000\n",
      "50%          23.000000\n",
      "75%          40.000000\n",
      "max        3300.000000\n",
      "Name: price, dtype: float64\n"
     ]
    },
    {
     "name": "stderr",
     "output_type": "stream",
     "text": [
      "D:\\AnaConda\\lib\\site-packages\\seaborn\\distributions.py:2551: FutureWarning: `distplot` is a deprecated function and will be removed in a future version. Please adapt your code to use either `displot` (a figure-level function with similar flexibility) or `histplot` (an axes-level function for histograms).\n",
      "  warnings.warn(msg, FutureWarning)\n"
     ]
    },
    {
     "data": {
      "image/png": "[encoded data removed]",
      "text/plain": [
       "<Figure size 432x288 with 1 Axes>"
      ]
     },
     "metadata": {
      "needs_background": "light"
     },
     "output_type": "display_data"
    }
   ],
   "source": [
    "#可视化高频填充后的数据\n",
    "Visualization_1(price_2)"
   ]
  },
  {
   "cell_type": "markdown",
   "metadata": {},
   "source": [
    "# 分析crime record数据集\n",
    "## 1.数据摘要与可视化\n",
    "### 1.1 数据摘要"
   ]
  },
  {
   "cell_type": "code",
   "execution_count": 136,
   "metadata": {},
   "outputs": [
    {
     "name": "stdout",
     "output_type": "stream",
     "text": [
      "<class 'pandas.core.frame.DataFrame'>\n",
      "Int64Index: 1046388 entries, 0 to 180015\n",
      "Data columns (total 13 columns):\n",
      " #   Column                     Non-Null Count    Dtype  \n",
      "---  ------                     --------------    -----  \n",
      " 0   Agency                     1046384 non-null  object \n",
      " 1   Create Time                1046384 non-null  object \n",
      " 2   Location                   483425 non-null   object \n",
      " 3   Area Id                    864023 non-null   object \n",
      " 4   Beat                       1040583 non-null  object \n",
      " 5   Priority                   1046384 non-null  float64\n",
      " 6   Incident Type Id           1046384 non-null  object \n",
      " 7   Incident Type Description  1045996 non-null  object \n",
      " 8   Event Number               1046384 non-null  object \n",
      " 9   Closed Time                1046359 non-null  object \n",
      " 10  Location 1                 374799 non-null   object \n",
      " 11  Zip Codes                  352 non-null      float64\n",
      " 12  Location                   188052 non-null   object \n",
      "dtypes: float64(2), object(11)\n",
      "memory usage: 111.8+ MB\n"
     ]
    }
   ],
   "source": [
    "#将2011至2016年所有数据整合\n",
    "crime_data = pd.DataFrame()\n",
    "for i in range(2011,2017):\n",
    "    path = \"D:\\\\datamining2021\\\\datasets\\\\archive\\\\records-for-\" + str(i) + \".csv\"\n",
    "    crime_i = pd.read_csv(path)\n",
    "    crime_data = pd.concat([crime_i,crime_data])\n",
    "    \n",
    "crime_data.info()"
   ]
  },
  {
   "cell_type": "code",
   "execution_count": 137,
   "metadata": {},
   "outputs": [
    {
     "data": {
      "text/html": [
       "<div>\n",
       "<style scoped>\n",
       "    .dataframe tbody tr th:only-of-type {\n",
       "        vertical-align: middle;\n",
       "    }\n",
       "\n",
       "    .dataframe tbody tr th {\n",
       "        vertical-align: top;\n",
       "    }\n",
       "\n",
       "    .dataframe thead th {\n",
       "        text-align: right;\n",
       "    }\n",
       "</style>\n",
       "<table border=\"1\" class=\"dataframe\">\n",
       "  <thead>\n",
       "    <tr style=\"text-align: right;\">\n",
       "      <th></th>\n",
       "      <th>Agency</th>\n",
       "      <th>Create Time</th>\n",
       "      <th>Location</th>\n",
       "      <th>Area Id</th>\n",
       "      <th>Beat</th>\n",
       "      <th>Priority</th>\n",
       "      <th>Incident Type Id</th>\n",
       "      <th>Incident Type Description</th>\n",
       "      <th>Event Number</th>\n",
       "      <th>Closed Time</th>\n",
       "      <th>Location 1</th>\n",
       "      <th>Zip Codes</th>\n",
       "      <th>Location</th>\n",
       "    </tr>\n",
       "  </thead>\n",
       "  <tbody>\n",
       "    <tr>\n",
       "      <th>0</th>\n",
       "      <td>OP</td>\n",
       "      <td>2016-01-01T00:00:57.000</td>\n",
       "      <td>ST&amp;MARKET ST</td>\n",
       "      <td>P1</td>\n",
       "      <td>05X</td>\n",
       "      <td>2.0</td>\n",
       "      <td>415GS</td>\n",
       "      <td>415 GUNSHOTS</td>\n",
       "      <td>LOP160101000003</td>\n",
       "      <td>2016-01-01T00:32:30.000</td>\n",
       "      <td>NaN</td>\n",
       "      <td>NaN</td>\n",
       "      <td>NaN</td>\n",
       "    </tr>\n",
       "    <tr>\n",
       "      <th>1</th>\n",
       "      <td>OP</td>\n",
       "      <td>2016-01-01T00:01:25.000</td>\n",
       "      <td>AV&amp;HAMILTON ST</td>\n",
       "      <td>P3</td>\n",
       "      <td>26Y</td>\n",
       "      <td>2.0</td>\n",
       "      <td>415GS</td>\n",
       "      <td>415 GUNSHOTS</td>\n",
       "      <td>LOP160101000005</td>\n",
       "      <td>2016-01-01T00:48:23.000</td>\n",
       "      <td>NaN</td>\n",
       "      <td>NaN</td>\n",
       "      <td>NaN</td>\n",
       "    </tr>\n",
       "    <tr>\n",
       "      <th>2</th>\n",
       "      <td>OP</td>\n",
       "      <td>2016-01-01T00:01:43.000</td>\n",
       "      <td>ST&amp;CHESTNUT ST</td>\n",
       "      <td>P1</td>\n",
       "      <td>02X</td>\n",
       "      <td>2.0</td>\n",
       "      <td>415GS</td>\n",
       "      <td>415 GUNSHOTS</td>\n",
       "      <td>LOP160101000008</td>\n",
       "      <td>2016-01-01T00:21:24.000</td>\n",
       "      <td>NaN</td>\n",
       "      <td>NaN</td>\n",
       "      <td>NaN</td>\n",
       "    </tr>\n",
       "    <tr>\n",
       "      <th>3</th>\n",
       "      <td>OP</td>\n",
       "      <td>2016-01-01T00:01:48.000</td>\n",
       "      <td>WALLACE ST</td>\n",
       "      <td>P2</td>\n",
       "      <td>18Y</td>\n",
       "      <td>2.0</td>\n",
       "      <td>415GS</td>\n",
       "      <td>415 GUNSHOTS</td>\n",
       "      <td>LOP160101000007</td>\n",
       "      <td>2016-01-01T01:15:03.000</td>\n",
       "      <td>NaN</td>\n",
       "      <td>NaN</td>\n",
       "      <td>NaN</td>\n",
       "    </tr>\n",
       "    <tr>\n",
       "      <th>4</th>\n",
       "      <td>OP</td>\n",
       "      <td>2016-01-01T00:02:05.000</td>\n",
       "      <td>90TH AV</td>\n",
       "      <td>P3</td>\n",
       "      <td>34X</td>\n",
       "      <td>2.0</td>\n",
       "      <td>415GS</td>\n",
       "      <td>415 GUNSHOTS</td>\n",
       "      <td>LOP160101000009</td>\n",
       "      <td>2016-01-01T00:54:52.000</td>\n",
       "      <td>NaN</td>\n",
       "      <td>NaN</td>\n",
       "      <td>NaN</td>\n",
       "    </tr>\n",
       "  </tbody>\n",
       "</table>\n",
       "</div>"
      ],
      "text/plain": [
       "  Agency              Create Time             Location Area Id Beat  Priority  \\\n",
       "0     OP  2016-01-01T00:00:57.000     ST&MARKET ST          P1  05X       2.0   \n",
       "1     OP  2016-01-01T00:01:25.000   AV&HAMILTON ST          P3  26Y       2.0   \n",
       "2     OP  2016-01-01T00:01:43.000   ST&CHESTNUT ST          P1  02X       2.0   \n",
       "3     OP  2016-01-01T00:01:48.000       WALLACE ST          P2  18Y       2.0   \n",
       "4     OP  2016-01-01T00:02:05.000          90TH AV          P3  34X       2.0   \n",
       "\n",
       "  Incident Type Id Incident Type Description     Event Number  \\\n",
       "0            415GS              415 GUNSHOTS  LOP160101000003   \n",
       "1            415GS              415 GUNSHOTS  LOP160101000005   \n",
       "2            415GS              415 GUNSHOTS  LOP160101000008   \n",
       "3            415GS              415 GUNSHOTS  LOP160101000007   \n",
       "4            415GS              415 GUNSHOTS  LOP160101000009   \n",
       "\n",
       "               Closed Time Location 1  Zip Codes Location   \n",
       "0  2016-01-01T00:32:30.000        NaN        NaN       NaN  \n",
       "1  2016-01-01T00:48:23.000        NaN        NaN       NaN  \n",
       "2  2016-01-01T00:21:24.000        NaN        NaN       NaN  \n",
       "3  2016-01-01T01:15:03.000        NaN        NaN       NaN  \n",
       "4  2016-01-01T00:54:52.000        NaN        NaN       NaN  "
      ]
     },
     "execution_count": 137,
     "metadata": {},
     "output_type": "execute_result"
    }
   ],
   "source": [
    "crime_data.head()"
   ]
  },
  {
   "cell_type": "markdown",
   "metadata": {},
   "source": [
    "#### 1.1.1标称属性"
   ]
  },
  {
   "cell_type": "code",
   "execution_count": 138,
   "metadata": {},
   "outputs": [
    {
     "data": {
      "text/plain": [
       " INTERNATIONAL BLVD           5851\n",
       " AV&INTERNATIONAL BLVD        4935\n",
       " MACARTHUR BLVD               4918\n",
       " BROADWAY                     3879\n",
       " INTERNATIONAL BLVD           3866\n",
       "                              ... \n",
       "8TH CURRAN AV                    1\n",
       "46TH 39TH AV                     1\n",
       "5771-5888 FLORIDA ST             1\n",
       "64TH AV&ARTHUR ST                1\n",
       "80TH 20TH ST                     1\n",
       "Name: Location, Length: 83872, dtype: int64"
      ]
     },
     "execution_count": 138,
     "metadata": {},
     "output_type": "execute_result"
    }
   ],
   "source": [
    "#crime_data数据集的标称属性有Location 、Area Id、 Incident Type Id 无数值属性\n",
    "crime_data['Location'].value_counts()"
   ]
  },
  {
   "cell_type": "code",
   "execution_count": 139,
   "metadata": {},
   "outputs": [
    {
     "data": {
      "text/plain": [
       "1.0    290452\n",
       "2.0    236700\n",
       "P3     129054\n",
       "P1     114560\n",
       "P2      53033\n",
       "3.0     32907\n",
       "POU      5960\n",
       "PCW       789\n",
       "5.0       320\n",
       "4.0       236\n",
       "TEC        10\n",
       "WAG         1\n",
       "JLS         1\n",
       "Name: Area Id, dtype: int64"
      ]
     },
     "execution_count": 139,
     "metadata": {},
     "output_type": "execute_result"
    }
   ],
   "source": [
    "crime_data['Area Id'].value_counts()"
   ]
  },
  {
   "cell_type": "code",
   "execution_count": 140,
   "metadata": {},
   "outputs": [
    {
     "data": {
      "text/plain": [
       "933R     98497\n",
       "SECCK    70965\n",
       "415      66720\n",
       "911H     54935\n",
       "10851    47958\n",
       "         ...  \n",
       "626_1        1\n",
       "666          1\n",
       "243C         1\n",
       "148_1        1\n",
       "SUB          1\n",
       "Name: Incident Type Id, Length: 288, dtype: int64"
      ]
     },
     "execution_count": 140,
     "metadata": {},
     "output_type": "execute_result"
    }
   ],
   "source": [
    "crime_data['Incident Type Id'].value_counts()"
   ]
  },
  {
   "cell_type": "code",
   "execution_count": 141,
   "metadata": {},
   "outputs": [
    {
     "data": {
      "text/plain": [
       "2.0    814818\n",
       "1.0    231542\n",
       "0.0        24\n",
       "Name: Priority, dtype: int64"
      ]
     },
     "execution_count": 141,
     "metadata": {},
     "output_type": "execute_result"
    }
   ],
   "source": [
    "crime_data['Priority'].value_counts()"
   ]
  },
  {
   "cell_type": "code",
   "execution_count": 143,
   "metadata": {},
   "outputs": [
    {
     "data": {
      "text/plain": [
       "4560.0     8\n",
       "1481.0     5\n",
       "14519.0    5\n",
       "4380.0     4\n",
       "27099.0    3\n",
       "          ..\n",
       "22477.0    1\n",
       "5572.0     1\n",
       "22281.0    1\n",
       "22247.0    1\n",
       "2050.0     1\n",
       "Name: Zip Codes, Length: 287, dtype: int64"
      ]
     },
     "execution_count": 143,
     "metadata": {},
     "output_type": "execute_result"
    }
   ],
   "source": [
    "crime_data['Zip Codes'].value_counts()"
   ]
  },
  {
   "cell_type": "markdown",
   "metadata": {},
   "source": [
    "### 1.2 数据可视化"
   ]
  },
  {
   "cell_type": "code",
   "execution_count": 145,
   "metadata": {},
   "outputs": [
    {
     "data": {
      "image/png": "[encoded data removed]",
      "text/plain": [
       "<Figure size 432x288 with 1 Axes>"
      ]
     },
     "metadata": {
      "needs_background": "light"
     },
     "output_type": "display_data"
    }
   ],
   "source": [
    "#显示犯罪最多的20个地区\n",
    "locations = crime_data['Location'].value_counts()[:20]\n",
    "loc = locations.index\n",
    "num = [locations[i] for i in range(20)]\n",
    "plt.bar(loc, num)\n",
    "plt.xticks(rotation = 90)\n",
    "plt.title('犯罪次数最高的20个地区')\n",
    "plt.show()"
   ]
  },
  {
   "cell_type": "code",
   "execution_count": 147,
   "metadata": {},
   "outputs": [
    {
     "data": {
      "image/png": "[encoded data removed]",
      "text/plain": [
       "<Figure size 432x288 with 1 Axes>"
      ]
     },
     "metadata": {
      "needs_background": "light"
     },
     "output_type": "display_data"
    }
   ],
   "source": [
    "#可视化犯罪最多的类型\n",
    "crime_types = crime_data['Incident Type Id'].value_counts()[:20]\n",
    "type_ids = crime_types.index\n",
    "num = [crime_types[i] for i in range(20)]\n",
    "plt.bar(type_ids, num)\n",
    "plt.xticks(rotation = 90)\n",
    "plt.title('犯罪案例最多的20个类型')\n",
    "plt.show()"
   ]
  },
  {
   "cell_type": "code",
   "execution_count": 161,
   "metadata": {},
   "outputs": [
    {
     "data": {
      "image/png": "[encoded data removed]",
      "text/plain": [
       "<Figure size 432x288 with 1 Axes>"
      ]
     },
     "metadata": {
      "needs_background": "light"
     },
     "output_type": "display_data"
    }
   ],
   "source": [
    "#犯罪等级统计\n",
    "prioritys = crime_data['Priority'].value_counts()\n",
    "priority_name = prioritys.index\n",
    "num = [prioritys[i] for i in range(len(prioritys))]\n",
    "plt.bar(['0.0','1.0','2.0'], num)\n",
    "plt.title('犯罪等级统计')\n",
    "plt.show()"
   ]
  },
  {
   "cell_type": "markdown",
   "metadata": {},
   "source": [
    "**可以看到二级犯罪数量是最高的，0.0级犯罪数量相对极少**"
   ]
  },
  {
   "cell_type": "markdown",
   "metadata": {},
   "source": [
    "## 2. 缺失值处理"
   ]
  },
  {
   "cell_type": "code",
   "execution_count": 163,
   "metadata": {},
   "outputs": [
    {
     "data": {
      "text/plain": [
       "Agency                             4\n",
       "Create Time                        4\n",
       "Location                      562963\n",
       "Area Id                       182365\n",
       "Beat                            5805\n",
       "Priority                           4\n",
       "Incident Type Id                   4\n",
       "Incident Type Description        392\n",
       "Event Number                       4\n",
       "Closed Time                       29\n",
       "Location 1                    671589\n",
       "Zip Codes                    1046036\n",
       "Location                      858336\n",
       "dtype: int64"
      ]
     },
     "execution_count": 163,
     "metadata": {},
     "output_type": "execute_result"
    }
   ],
   "source": [
    "crime_data.isnull().sum()"
   ]
  },
  {
   "cell_type": "code",
   "execution_count": 164,
   "metadata": {},
   "outputs": [
    {
     "data": {
      "text/plain": [
       "0"
      ]
     },
     "execution_count": 164,
     "metadata": {},
     "output_type": "execute_result"
    }
   ],
   "source": [
    "#location属性缺失值较多，以location为例\n",
    "#先剔除缺失值\n",
    "location_1 = crime_data['Location'].dropna()\n",
    "location_1.isnull().sum()"
   ]
  },
  {
   "cell_type": "code",
   "execution_count": 171,
   "metadata": {},
   "outputs": [
    {
     "data": {
      "image/png": "[encoded data removed]",
      "text/plain": [
       "<Figure size 432x288 with 1 Axes>"
      ]
     },
     "metadata": {
      "needs_background": "light"
     },
     "output_type": "display_data"
    }
   ],
   "source": [
    "#可视化剔除后的数据\n",
    "dropna_locs = location_1.value_counts()[:20]\n",
    "dropna_locs_name = dropna_locs.index\n",
    "dropna_locs_num = [dropna_locs[i] for i in range(20)]\n",
    "plt.bar(dropna_locs_name,dropna_locs_num)\n",
    "plt.xticks(rotation = 90)\n",
    "plt.title('剔除缺失值后犯罪案例最多的20个地区')\n",
    "plt.show()"
   ]
  },
  {
   "cell_type": "code",
   "execution_count": 170,
   "metadata": {},
   "outputs": [
    {
     "data": {
      "text/plain": [
       "0"
      ]
     },
     "execution_count": 170,
     "metadata": {},
     "output_type": "execute_result"
    }
   ],
   "source": [
    "#高频填充\n",
    "location_2 = crime_data['Location'].fillna(crime_data['Location'].mode()[0]) \n",
    "location_2.isnull().sum()"
   ]
  },
  {
   "cell_type": "code",
   "execution_count": 172,
   "metadata": {},
   "outputs": [
    {
     "data": {
      "image/png": "[encoded data removed]",
      "text/plain": [
       "<Figure size 432x288 with 1 Axes>"
      ]
     },
     "metadata": {
      "needs_background": "light"
     },
     "output_type": "display_data"
    }
   ],
   "source": [
    "#可视化高频填充后的数据\n",
    "fill_locs = location_2.value_counts()[:20]\n",
    "fill_locs_name = fill_locs.index\n",
    "fill_locs_num = [fill_locs[i] for i in range(20)]\n",
    "plt.bar(fill_locs_name, fill_locs_num)\n",
    "plt.xticks(rotation = 90)\n",
    "plt.title('高频填充缺失值后犯罪案例最多的20个地区')\n",
    "plt.show()"
   ]
  },
  {
   "cell_type": "markdown",
   "metadata": {},
   "source": [
    "**可以看到由于缺失值较多，高频填充后是情况如上**"
   ]
  },
  {
   "cell_type": "code",
   "execution_count": null,
   "metadata": {},
   "outputs": [],
   "source": []
  }
 ],
 "metadata": {
  "kernelspec": {
   "display_name": "Python 3",
   "language": "python",
   "name": "python3"
  },
  "language_info": {
   "codemirror_mode": {
    "name": "ipython",
    "version": 3
   },
   "file_extension": ".py",
   "mimetype": "text/x-python",
   "name": "python",
   "nbconvert_exporter": "python",
   "pygments_lexer": "ipython3",
   "version": "3.8.5"
  }
 },
 "nbformat": 4,
 "nbformat_minor": 4
}
