{
 "metadata": {
  "language_info": {
   "codemirror_mode": {
    "name": "ipython",
    "version": 3
   },
   "file_extension": ".py",
   "mimetype": "text/x-python",
   "name": "python",
   "nbconvert_exporter": "python",
   "pygments_lexer": "ipython3",
   "version": "3.8.5"
  },
  "orig_nbformat": 2,
  "kernelspec": {
   "name": "python385jvsc74a57bd0c5b4bba12cdc3e48dd2c0546114903af3170c63ae419e3035be9700a287ac98b",
   "display_name": "Python 3.8.5 64-bit ('base': conda)"
  }
 },
 "nbformat": 4,
 "nbformat_minor": 2,
 "cells": [
  {
   "source": [
    "# 互评作业2：频繁模式与关联规则挖掘"
   ],
   "cell_type": "markdown",
   "metadata": {}
  },
  {
   "source": [
    "1. **问题描述**\n",
    "* 对数据集进行处理，转换成适合进行关联规则挖掘的形式；\n",
    "* 找出频繁模式；\n",
    "* 导出关联规则，计算其支持度和置信度;\n",
    "* 对规则进行评价，可使用Lift、卡方和其它教材中提及的指标, 至少2种；\n",
    "* 对挖掘结果进行分析；\n",
    "* 可视化展示"
   ],
   "cell_type": "markdown",
   "metadata": {}
  },
  {
   "source": [
    "2. **数据处理**"
   ],
   "cell_type": "markdown",
   "metadata": {}
  },
  {
   "source": [
    "##本次作业数据集为wine——wine-review\n",
    "##导入数据集\n",
    "import matplotlib\n",
    "import numpy as np\n",
    "import pandas as pd\n",
    "%matplotlib inline\n",
    "path_15k = \"D:\\datamining2021\\datasets\\winemag-data_first150k.csv\\winemag-data_first150k.csv\"\n",
    "data_15k = pd.read_csv(path_15k)"
   ],
   "cell_type": "code",
   "metadata": {},
   "execution_count": 3,
   "outputs": []
  },
  {
   "source": [
    "*ID description等不做考虑 ，对country进行挖掘，对于其缺失值通过属性的相关关系填补缺失值，使用designation属性判断所属国家* "
   ],
   "cell_type": "markdown",
   "metadata": {}
  },
  {
   "cell_type": "code",
   "execution_count": 4,
   "metadata": {},
   "outputs": [],
   "source": [
    "#根据空值的分布，定义一个从designation到country的转换字典\n",
    "designation2country = {\n",
    "    \"Askitikos\":\"Greece\",    \n",
    "    \"Shah\":\"US\",\n",
    "    \"Piedra Feliz\":\"Chile\",\n",
    "}\n",
    "#处理country的空值\n",
    "def country_nan_hander(data):\n",
    "    for i in range(0,len(data)):\n",
    "        tmp = data.iloc[i,1]\n",
    "        if pd.isnull(tmp):\n",
    "            designation = data.iloc[i,3]\n",
    "            data.iloc[i,1] = designation2country[designation]\n",
    "    return data"
   ]
  },
  {
   "source": [
    "*price、points是数值属性，对price进行离散化处理，此外points和price属性需要加上前缀，方便区分频繁项生成结果。*"
   ],
   "cell_type": "markdown",
   "metadata": {}
  },
  {
   "cell_type": "code",
   "execution_count": 5,
   "metadata": {},
   "outputs": [],
   "source": [
    "def points_discretization(value):\n",
    "    return \"points-\"+str(int(value/5))\n",
    "\n",
    "def price_discretization(value):\n",
    "    if value < 100:\n",
    "        return \"price-\"+str(int(value/10))\n",
    "    else:\n",
    "        return \"price-10\""
   ]
  },
  {
   "source": [
    "*variety、winery、designation三个标称属性聚类数目过多（分别达到了632、14810、30622项），出于计算复杂度的考虑，在初步分析之后，单独选取选取variety中出现频数大于4000和winery中出现频数大于200的非空聚类进行分析。\n",
    "初步分析过程中选取的属性包括designation、country、price、points，在之后的找出频繁模式调用mlxtend库来实现，因此还需要将数据处理成相应的格式。*"
   ],
   "cell_type": "markdown",
   "metadata": {}
  },
  {
   "cell_type": "code",
   "execution_count": 6,
   "metadata": {},
   "outputs": [],
   "source": [
    "data_15k = pd.read_csv(path_15k)\n",
    "\n",
    "#处理country的空值\n",
    "country_nan_hander(data_15k)\n",
    "\n",
    "#过滤属性\n",
    "data_15k = data_15k.drop(['Unnamed: 0','description','province','region_1','region_2','variety','winery','designation'],axis = 1)"
   ]
  },
  {
   "cell_type": "code",
   "execution_count": 7,
   "metadata": {},
   "outputs": [],
   "source": [
    "#离散化处理\n",
    "data_15k.loc[:,'points'] = data_15k['points'].map(lambda x:points_discretization(x))\n",
    "data_15k.loc[:,'price'] = data_15k['price'].map(lambda x:price_discretization(x))"
   ]
  },
  {
   "cell_type": "code",
   "execution_count": 8,
   "metadata": {},
   "outputs": [],
   "source": [
    "#dataframe转换为列表\n",
    "def deal(data):\n",
    "    return data.to_list()\n",
    "data_15k_arr = data_15k.apply(deal,axis=1).tolist()"
   ]
  },
  {
   "cell_type": "code",
   "execution_count": 10,
   "metadata": {},
   "outputs": [],
   "source": [
    "#TransactionEncoder转换\n",
    "from mlxtend.preprocessing import TransactionEncoder\n",
    "te = TransactionEncoder()\n",
    "tf = te.fit_transform(data_15k_arr)\n",
    "new_df = pd.DataFrame(tf,columns=te.columns_)"
   ]
  },
  {
   "source": [
    "3. **频繁模式**"
   ],
   "cell_type": "markdown",
   "metadata": {}
  },
  {
   "source": [
    "*然后调用mlxtend中的apriori函数寻找频繁模式，最小支持度阈值取0.03*"
   ],
   "cell_type": "markdown",
   "metadata": {}
  },
  {
   "cell_type": "code",
   "execution_count": 11,
   "metadata": {},
   "outputs": [],
   "source": [
    "from mlxtend.frequent_patterns import apriori\n",
    "result = apriori(new_df, min_support=0.03, use_colnames=True, max_len=4).sort_values(by='support', ascending=False)"
   ]
  },
  {
   "cell_type": "code",
   "execution_count": 12,
   "metadata": {},
   "outputs": [
    {
     "output_type": "stream",
     "name": "stdout",
     "text": [
      "(52, 2)\n"
     ]
    },
    {
     "output_type": "execute_result",
     "data": {
      "text/plain": [
       "     support              itemsets\n",
       "9   0.526887           (points-17)\n",
       "7   0.413423                  (US)\n",
       "12  0.303419             (price-1)\n",
       "10  0.299669           (points-18)\n",
       "14  0.212986             (price-2)\n",
       "37  0.201034  (price-1, points-17)\n",
       "29  0.199788       (points-17, US)\n",
       "4   0.155556               (Italy)\n",
       "8   0.153694           (points-16)\n",
       "3   0.139787              (France)\n",
       "39  0.131604  (points-17, price-2)\n",
       "30  0.128748       (points-18, US)\n",
       "15  0.124554             (price-3)\n",
       "13  0.118121            (price-10)\n",
       "32  0.106460         (price-2, US)\n",
       "31  0.101617         (price-1, US)\n",
       "23  0.093964    (points-17, Italy)\n",
       "16  0.082840             (price-4)\n",
       "35  0.079454  (price-1, points-16)\n",
       "33  0.076784         (price-3, US)"
      ],
      "text/html": "<div>\n<style scoped>\n    .dataframe tbody tr th:only-of-type {\n        vertical-align: middle;\n    }\n\n    .dataframe tbody tr th {\n        vertical-align: top;\n    }\n\n    .dataframe thead th {\n        text-align: right;\n    }\n</style>\n<table border=\"1\" class=\"dataframe\">\n  <thead>\n    <tr style=\"text-align: right;\">\n      <th></th>\n      <th>support</th>\n      <th>itemsets</th>\n    </tr>\n  </thead>\n  <tbody>\n    <tr>\n      <th>9</th>\n      <td>0.526887</td>\n      <td>(points-17)</td>\n    </tr>\n    <tr>\n      <th>7</th>\n      <td>0.413423</td>\n      <td>(US)</td>\n    </tr>\n    <tr>\n      <th>12</th>\n      <td>0.303419</td>\n      <td>(price-1)</td>\n    </tr>\n    <tr>\n      <th>10</th>\n      <td>0.299669</td>\n      <td>(points-18)</td>\n    </tr>\n    <tr>\n      <th>14</th>\n      <td>0.212986</td>\n      <td>(price-2)</td>\n    </tr>\n    <tr>\n      <th>37</th>\n      <td>0.201034</td>\n      <td>(price-1, points-17)</td>\n    </tr>\n    <tr>\n      <th>29</th>\n      <td>0.199788</td>\n      <td>(points-17, US)</td>\n    </tr>\n    <tr>\n      <th>4</th>\n      <td>0.155556</td>\n      <td>(Italy)</td>\n    </tr>\n    <tr>\n      <th>8</th>\n      <td>0.153694</td>\n      <td>(points-16)</td>\n    </tr>\n    <tr>\n      <th>3</th>\n      <td>0.139787</td>\n      <td>(France)</td>\n    </tr>\n    <tr>\n      <th>39</th>\n      <td>0.131604</td>\n      <td>(points-17, price-2)</td>\n    </tr>\n    <tr>\n      <th>30</th>\n      <td>0.128748</td>\n      <td>(points-18, US)</td>\n    </tr>\n    <tr>\n      <th>15</th>\n      <td>0.124554</td>\n      <td>(price-3)</td>\n    </tr>\n    <tr>\n      <th>13</th>\n      <td>0.118121</td>\n      <td>(price-10)</td>\n    </tr>\n    <tr>\n      <th>32</th>\n      <td>0.106460</td>\n      <td>(price-2, US)</td>\n    </tr>\n    <tr>\n      <th>31</th>\n      <td>0.101617</td>\n      <td>(price-1, US)</td>\n    </tr>\n    <tr>\n      <th>23</th>\n      <td>0.093964</td>\n      <td>(points-17, Italy)</td>\n    </tr>\n    <tr>\n      <th>16</th>\n      <td>0.082840</td>\n      <td>(price-4)</td>\n    </tr>\n    <tr>\n      <th>35</th>\n      <td>0.079454</td>\n      <td>(price-1, points-16)</td>\n    </tr>\n    <tr>\n      <th>33</th>\n      <td>0.076784</td>\n      <td>(price-3, US)</td>\n    </tr>\n  </tbody>\n</table>\n</div>"
     },
     "metadata": {},
     "execution_count": 12
    }
   ],
   "source": [
    "print(result.shape)\n",
    "result[:20]"
   ]
  },
  {
   "source": [
    "4. **关联规则**"
   ],
   "cell_type": "markdown",
   "metadata": {}
  },
  {
   "source": [
    "*然后从频繁项集中导出关联规则，并计算其支持度和置信度。这里使用mlxtend包中的association_rules方法，支持度阈值为0.03，置信度阈值设为0.4，方法默认状态下会计算关联规则的计算支持度、置信度和提升度。*"
   ],
   "cell_type": "markdown",
   "metadata": {}
  },
  {
   "cell_type": "code",
   "execution_count": 13,
   "metadata": {},
   "outputs": [
    {
     "output_type": "stream",
     "name": "stdout",
     "text": [
      "(28, 7)\n"
     ]
    },
    {
     "output_type": "execute_result",
     "data": {
      "text/plain": [
       "             antecedents  consequents  antecedent support  consequent support  \\\n",
       "0              (price-1)  (points-17)            0.303419            0.526887   \n",
       "1                   (US)  (points-17)            0.413423            0.526887   \n",
       "2              (price-2)  (points-17)            0.212986            0.526887   \n",
       "3            (points-18)         (US)            0.299669            0.413423   \n",
       "4              (price-2)         (US)            0.212986            0.413423   \n",
       "5                (Italy)  (points-17)            0.155556            0.526887   \n",
       "6            (points-16)    (price-1)            0.153694            0.303419   \n",
       "7              (price-3)         (US)            0.124554            0.413423   \n",
       "8            (points-16)         (US)            0.153694            0.413423   \n",
       "9               (France)  (points-17)            0.139787            0.526887   \n",
       "10             (price-3)  (points-17)            0.124554            0.526887   \n",
       "11  (points-17, price-2)         (US)            0.131604            0.413423   \n",
       "12         (price-2, US)  (points-17)            0.106460            0.526887   \n",
       "13         (price-1, US)  (points-17)            0.101617            0.526887   \n",
       "14            (price-10)  (points-18)            0.118121            0.299669   \n",
       "15             (price-3)  (points-18)            0.124554            0.299669   \n",
       "16            (price-10)     (France)            0.118121            0.139787   \n",
       "17             (price-4)         (US)            0.082840            0.413423   \n",
       "18            (price-10)  (points-17)            0.118121            0.526887   \n",
       "19             (price-4)  (points-18)            0.082840            0.299669   \n",
       "20  (price-3, points-17)         (US)            0.062327            0.413423   \n",
       "21         (price-3, US)  (points-17)            0.076784            0.526887   \n",
       "22  (price-1, points-16)         (US)            0.079454            0.413423   \n",
       "23       (US, points-16)    (price-1)            0.076048            0.303419   \n",
       "24      (price-1, Italy)  (points-17)            0.039422            0.526887   \n",
       "25             (price-4)  (points-17)            0.082840            0.526887   \n",
       "26               (Spain)  (points-17)            0.054780            0.526887   \n",
       "27             (price-5)  (points-18)            0.049990            0.299669   \n",
       "\n",
       "     support  confidence      lift  \n",
       "0   0.201034    0.662561  1.257503  \n",
       "1   0.199788    0.483253  0.917185  \n",
       "2   0.131604    0.617900  1.172737  \n",
       "3   0.128748    0.429636  1.039215  \n",
       "4   0.106460    0.499844  1.209038  \n",
       "5   0.093964    0.604055  1.146461  \n",
       "6   0.079454    0.516963  1.703795  \n",
       "7   0.076784    0.616469  1.491132  \n",
       "8   0.076048    0.494805  1.196849  \n",
       "9   0.066998    0.479287  0.909659  \n",
       "10  0.062327    0.500399  0.949728  \n",
       "11  0.060757    0.461662  1.116682  \n",
       "12  0.060757    0.570700  1.083154  \n",
       "13  0.058424    0.574949  1.091220  \n",
       "14  0.051898    0.439365  1.466169  \n",
       "15  0.049990    0.401351  1.339316  \n",
       "16  0.049930    0.422706  3.023936  \n",
       "17  0.049692    0.599856  1.450948  \n",
       "18  0.049102    0.415694  0.788964  \n",
       "19  0.043855    0.529393  1.766594  \n",
       "20  0.038064    0.610715  1.477215  \n",
       "21  0.038064    0.495729  0.940864  \n",
       "22  0.033936    0.427118  1.033125  \n",
       "23  0.033936    0.446245  1.470723  \n",
       "24  0.033426    0.847899  1.609263  \n",
       "25  0.033380    0.402943  0.764763  \n",
       "26  0.030504    0.556846  1.056860  \n",
       "27  0.030405    0.608217  2.029632  "
      ],
      "text/html": "<div>\n<style scoped>\n    .dataframe tbody tr th:only-of-type {\n        vertical-align: middle;\n    }\n\n    .dataframe tbody tr th {\n        vertical-align: top;\n    }\n\n    .dataframe thead th {\n        text-align: right;\n    }\n</style>\n<table border=\"1\" class=\"dataframe\">\n  <thead>\n    <tr style=\"text-align: right;\">\n      <th></th>\n      <th>antecedents</th>\n      <th>consequents</th>\n      <th>antecedent support</th>\n      <th>consequent support</th>\n      <th>support</th>\n      <th>confidence</th>\n      <th>lift</th>\n    </tr>\n  </thead>\n  <tbody>\n    <tr>\n      <th>0</th>\n      <td>(price-1)</td>\n      <td>(points-17)</td>\n      <td>0.303419</td>\n      <td>0.526887</td>\n      <td>0.201034</td>\n      <td>0.662561</td>\n      <td>1.257503</td>\n    </tr>\n    <tr>\n      <th>1</th>\n      <td>(US)</td>\n      <td>(points-17)</td>\n      <td>0.413423</td>\n      <td>0.526887</td>\n      <td>0.199788</td>\n      <td>0.483253</td>\n      <td>0.917185</td>\n    </tr>\n    <tr>\n      <th>2</th>\n      <td>(price-2)</td>\n      <td>(points-17)</td>\n      <td>0.212986</td>\n      <td>0.526887</td>\n      <td>0.131604</td>\n      <td>0.617900</td>\n      <td>1.172737</td>\n    </tr>\n    <tr>\n      <th>3</th>\n      <td>(points-18)</td>\n      <td>(US)</td>\n      <td>0.299669</td>\n      <td>0.413423</td>\n      <td>0.128748</td>\n      <td>0.429636</td>\n      <td>1.039215</td>\n    </tr>\n    <tr>\n      <th>4</th>\n      <td>(price-2)</td>\n      <td>(US)</td>\n      <td>0.212986</td>\n      <td>0.413423</td>\n      <td>0.106460</td>\n      <td>0.499844</td>\n      <td>1.209038</td>\n    </tr>\n    <tr>\n      <th>5</th>\n      <td>(Italy)</td>\n      <td>(points-17)</td>\n      <td>0.155556</td>\n      <td>0.526887</td>\n      <td>0.093964</td>\n      <td>0.604055</td>\n      <td>1.146461</td>\n    </tr>\n    <tr>\n      <th>6</th>\n      <td>(points-16)</td>\n      <td>(price-1)</td>\n      <td>0.153694</td>\n      <td>0.303419</td>\n      <td>0.079454</td>\n      <td>0.516963</td>\n      <td>1.703795</td>\n    </tr>\n    <tr>\n      <th>7</th>\n      <td>(price-3)</td>\n      <td>(US)</td>\n      <td>0.124554</td>\n      <td>0.413423</td>\n      <td>0.076784</td>\n      <td>0.616469</td>\n      <td>1.491132</td>\n    </tr>\n    <tr>\n      <th>8</th>\n      <td>(points-16)</td>\n      <td>(US)</td>\n      <td>0.153694</td>\n      <td>0.413423</td>\n      <td>0.076048</td>\n      <td>0.494805</td>\n      <td>1.196849</td>\n    </tr>\n    <tr>\n      <th>9</th>\n      <td>(France)</td>\n      <td>(points-17)</td>\n      <td>0.139787</td>\n      <td>0.526887</td>\n      <td>0.066998</td>\n      <td>0.479287</td>\n      <td>0.909659</td>\n    </tr>\n    <tr>\n      <th>10</th>\n      <td>(price-3)</td>\n      <td>(points-17)</td>\n      <td>0.124554</td>\n      <td>0.526887</td>\n      <td>0.062327</td>\n      <td>0.500399</td>\n      <td>0.949728</td>\n    </tr>\n    <tr>\n      <th>11</th>\n      <td>(points-17, price-2)</td>\n      <td>(US)</td>\n      <td>0.131604</td>\n      <td>0.413423</td>\n      <td>0.060757</td>\n      <td>0.461662</td>\n      <td>1.116682</td>\n    </tr>\n    <tr>\n      <th>12</th>\n      <td>(price-2, US)</td>\n      <td>(points-17)</td>\n      <td>0.106460</td>\n      <td>0.526887</td>\n      <td>0.060757</td>\n      <td>0.570700</td>\n      <td>1.083154</td>\n    </tr>\n    <tr>\n      <th>13</th>\n      <td>(price-1, US)</td>\n      <td>(points-17)</td>\n      <td>0.101617</td>\n      <td>0.526887</td>\n      <td>0.058424</td>\n      <td>0.574949</td>\n      <td>1.091220</td>\n    </tr>\n    <tr>\n      <th>14</th>\n      <td>(price-10)</td>\n      <td>(points-18)</td>\n      <td>0.118121</td>\n      <td>0.299669</td>\n      <td>0.051898</td>\n      <td>0.439365</td>\n      <td>1.466169</td>\n    </tr>\n    <tr>\n      <th>15</th>\n      <td>(price-3)</td>\n      <td>(points-18)</td>\n      <td>0.124554</td>\n      <td>0.299669</td>\n      <td>0.049990</td>\n      <td>0.401351</td>\n      <td>1.339316</td>\n    </tr>\n    <tr>\n      <th>16</th>\n      <td>(price-10)</td>\n      <td>(France)</td>\n      <td>0.118121</td>\n      <td>0.139787</td>\n      <td>0.049930</td>\n      <td>0.422706</td>\n      <td>3.023936</td>\n    </tr>\n    <tr>\n      <th>17</th>\n      <td>(price-4)</td>\n      <td>(US)</td>\n      <td>0.082840</td>\n      <td>0.413423</td>\n      <td>0.049692</td>\n      <td>0.599856</td>\n      <td>1.450948</td>\n    </tr>\n    <tr>\n      <th>18</th>\n      <td>(price-10)</td>\n      <td>(points-17)</td>\n      <td>0.118121</td>\n      <td>0.526887</td>\n      <td>0.049102</td>\n      <td>0.415694</td>\n      <td>0.788964</td>\n    </tr>\n    <tr>\n      <th>19</th>\n      <td>(price-4)</td>\n      <td>(points-18)</td>\n      <td>0.082840</td>\n      <td>0.299669</td>\n      <td>0.043855</td>\n      <td>0.529393</td>\n      <td>1.766594</td>\n    </tr>\n    <tr>\n      <th>20</th>\n      <td>(price-3, points-17)</td>\n      <td>(US)</td>\n      <td>0.062327</td>\n      <td>0.413423</td>\n      <td>0.038064</td>\n      <td>0.610715</td>\n      <td>1.477215</td>\n    </tr>\n    <tr>\n      <th>21</th>\n      <td>(price-3, US)</td>\n      <td>(points-17)</td>\n      <td>0.076784</td>\n      <td>0.526887</td>\n      <td>0.038064</td>\n      <td>0.495729</td>\n      <td>0.940864</td>\n    </tr>\n    <tr>\n      <th>22</th>\n      <td>(price-1, points-16)</td>\n      <td>(US)</td>\n      <td>0.079454</td>\n      <td>0.413423</td>\n      <td>0.033936</td>\n      <td>0.427118</td>\n      <td>1.033125</td>\n    </tr>\n    <tr>\n      <th>23</th>\n      <td>(US, points-16)</td>\n      <td>(price-1)</td>\n      <td>0.076048</td>\n      <td>0.303419</td>\n      <td>0.033936</td>\n      <td>0.446245</td>\n      <td>1.470723</td>\n    </tr>\n    <tr>\n      <th>24</th>\n      <td>(price-1, Italy)</td>\n      <td>(points-17)</td>\n      <td>0.039422</td>\n      <td>0.526887</td>\n      <td>0.033426</td>\n      <td>0.847899</td>\n      <td>1.609263</td>\n    </tr>\n    <tr>\n      <th>25</th>\n      <td>(price-4)</td>\n      <td>(points-17)</td>\n      <td>0.082840</td>\n      <td>0.526887</td>\n      <td>0.033380</td>\n      <td>0.402943</td>\n      <td>0.764763</td>\n    </tr>\n    <tr>\n      <th>26</th>\n      <td>(Spain)</td>\n      <td>(points-17)</td>\n      <td>0.054780</td>\n      <td>0.526887</td>\n      <td>0.030504</td>\n      <td>0.556846</td>\n      <td>1.056860</td>\n    </tr>\n    <tr>\n      <th>27</th>\n      <td>(price-5)</td>\n      <td>(points-18)</td>\n      <td>0.049990</td>\n      <td>0.299669</td>\n      <td>0.030405</td>\n      <td>0.608217</td>\n      <td>2.029632</td>\n    </tr>\n  </tbody>\n</table>\n</div>"
     },
     "metadata": {},
     "execution_count": 13
    }
   ],
   "source": [
    "from mlxtend.frequent_patterns import association_rules\n",
    "rules =  association_rules(result,metric ='confidence',min_threshold = 0.4)\n",
    "rules = rules.drop(['leverage','conviction'],axis = 1)\n",
    "print(rules.shape)\n",
    "rules"
   ]
  },
  {
   "source": [
    "\n",
    "*如下列出导出的各项关联规则：*"
   ],
   "cell_type": "markdown",
   "metadata": {}
  },
  {
   "cell_type": "code",
   "execution_count": 14,
   "metadata": {},
   "outputs": [
    {
     "output_type": "stream",
     "name": "stdout",
     "text": [
      "('price-1',) ⇒ ('points-17',) (suupport = 0.201034, confidence = 0.662561 )\n('US',) ⇒ ('points-17',) (suupport = 0.199788, confidence = 0.483253 )\n('price-2',) ⇒ ('points-17',) (suupport = 0.131604, confidence = 0.617900 )\n('points-18',) ⇒ ('US',) (suupport = 0.128748, confidence = 0.429636 )\n('price-2',) ⇒ ('US',) (suupport = 0.106460, confidence = 0.499844 )\n('Italy',) ⇒ ('points-17',) (suupport = 0.093964, confidence = 0.604055 )\n('points-16',) ⇒ ('price-1',) (suupport = 0.079454, confidence = 0.516963 )\n('price-3',) ⇒ ('US',) (suupport = 0.076784, confidence = 0.616469 )\n('points-16',) ⇒ ('US',) (suupport = 0.076048, confidence = 0.494805 )\n('France',) ⇒ ('points-17',) (suupport = 0.066998, confidence = 0.479287 )\n('price-3',) ⇒ ('points-17',) (suupport = 0.062327, confidence = 0.500399 )\n('points-17', 'price-2') ⇒ ('US',) (suupport = 0.060757, confidence = 0.461662 )\n('price-2', 'US') ⇒ ('points-17',) (suupport = 0.060757, confidence = 0.570700 )\n('price-1', 'US') ⇒ ('points-17',) (suupport = 0.058424, confidence = 0.574949 )\n('price-10',) ⇒ ('points-18',) (suupport = 0.051898, confidence = 0.439365 )\n('price-3',) ⇒ ('points-18',) (suupport = 0.049990, confidence = 0.401351 )\n('price-10',) ⇒ ('France',) (suupport = 0.049930, confidence = 0.422706 )\n('price-4',) ⇒ ('US',) (suupport = 0.049692, confidence = 0.599856 )\n('price-10',) ⇒ ('points-17',) (suupport = 0.049102, confidence = 0.415694 )\n('price-4',) ⇒ ('points-18',) (suupport = 0.043855, confidence = 0.529393 )\n('price-3', 'points-17') ⇒ ('US',) (suupport = 0.038064, confidence = 0.610715 )\n('price-3', 'US') ⇒ ('points-17',) (suupport = 0.038064, confidence = 0.495729 )\n('price-1', 'points-16') ⇒ ('US',) (suupport = 0.033936, confidence = 0.427118 )\n('US', 'points-16') ⇒ ('price-1',) (suupport = 0.033936, confidence = 0.446245 )\n('price-1', 'Italy') ⇒ ('points-17',) (suupport = 0.033426, confidence = 0.847899 )\n('price-4',) ⇒ ('points-17',) (suupport = 0.033380, confidence = 0.402943 )\n('Spain',) ⇒ ('points-17',) (suupport = 0.030504, confidence = 0.556846 )\n('price-5',) ⇒ ('points-18',) (suupport = 0.030405, confidence = 0.608217 )\n"
     ]
    }
   ],
   "source": [
    "for index, row in rules.iterrows():\n",
    "    #print(row)\n",
    "    t1 = tuple(row['antecedents'])\n",
    "    t2 = tuple(row['consequents'])\n",
    "    print(\"%s ⇒ %s (suupport = %f, confidence = %f )\"%(t1,t2,row['support'],row['confidence']))"
   ]
  },
  {
   "source": [
    "5. **规则评价**"
   ],
   "cell_type": "markdown",
   "metadata": {}
  },
  {
   "source": [
    "*然后对规则进行评价，这里使用提升度Lift和全置信度allconf。提升度Lift已经在 4.导出关联规则 的过程中被计算出来了，如下计算全置信度。*"
   ],
   "cell_type": "markdown",
   "metadata": {}
  },
  {
   "cell_type": "code",
   "execution_count": 15,
   "metadata": {},
   "outputs": [
    {
     "output_type": "execute_result",
     "data": {
      "text/plain": [
       "             antecedents  consequents   support  confidence      lift  \\\n",
       "0              (price-1)  (points-17)  0.201034    0.662561  1.257503   \n",
       "1                   (US)  (points-17)  0.199788    0.483253  0.917185   \n",
       "2              (price-2)  (points-17)  0.131604    0.617900  1.172737   \n",
       "3            (points-18)         (US)  0.128748    0.429636  1.039215   \n",
       "4              (price-2)         (US)  0.106460    0.499844  1.209038   \n",
       "5                (Italy)  (points-17)  0.093964    0.604055  1.146461   \n",
       "6            (points-16)    (price-1)  0.079454    0.516963  1.703795   \n",
       "7              (price-3)         (US)  0.076784    0.616469  1.491132   \n",
       "8            (points-16)         (US)  0.076048    0.494805  1.196849   \n",
       "9               (France)  (points-17)  0.066998    0.479287  0.909659   \n",
       "10             (price-3)  (points-17)  0.062327    0.500399  0.949728   \n",
       "11  (points-17, price-2)         (US)  0.060757    0.461662  1.116682   \n",
       "12         (price-2, US)  (points-17)  0.060757    0.570700  1.083154   \n",
       "13         (price-1, US)  (points-17)  0.058424    0.574949  1.091220   \n",
       "14            (price-10)  (points-18)  0.051898    0.439365  1.466169   \n",
       "15             (price-3)  (points-18)  0.049990    0.401351  1.339316   \n",
       "16            (price-10)     (France)  0.049930    0.422706  3.023936   \n",
       "17             (price-4)         (US)  0.049692    0.599856  1.450948   \n",
       "18            (price-10)  (points-17)  0.049102    0.415694  0.788964   \n",
       "19             (price-4)  (points-18)  0.043855    0.529393  1.766594   \n",
       "20  (price-3, points-17)         (US)  0.038064    0.610715  1.477215   \n",
       "21         (price-3, US)  (points-17)  0.038064    0.495729  0.940864   \n",
       "22  (price-1, points-16)         (US)  0.033936    0.427118  1.033125   \n",
       "23       (US, points-16)    (price-1)  0.033936    0.446245  1.470723   \n",
       "24      (price-1, Italy)  (points-17)  0.033426    0.847899  1.609263   \n",
       "25             (price-4)  (points-17)  0.033380    0.402943  0.764763   \n",
       "26               (Spain)  (points-17)  0.030504    0.556846  1.056860   \n",
       "27             (price-5)  (points-18)  0.030405    0.608217  2.029632   \n",
       "\n",
       "     allconf  \n",
       "0   0.381550  \n",
       "1   0.379186  \n",
       "2   0.249777  \n",
       "3   0.311420  \n",
       "4   0.257508  \n",
       "5   0.178338  \n",
       "6   0.261863  \n",
       "7   0.185727  \n",
       "8   0.183948  \n",
       "9   0.127158  \n",
       "10  0.118293  \n",
       "11  0.146960  \n",
       "12  0.115313  \n",
       "13  0.110886  \n",
       "14  0.173185  \n",
       "15  0.166818  \n",
       "16  0.357190  \n",
       "17  0.120196  \n",
       "18  0.093193  \n",
       "19  0.146344  \n",
       "20  0.092070  \n",
       "21  0.072243  \n",
       "22  0.082086  \n",
       "23  0.111846  \n",
       "24  0.063441  \n",
       "25  0.063353  \n",
       "26  0.057895  \n",
       "27  0.101461  "
      ],
      "text/html": "<div>\n<style scoped>\n    .dataframe tbody tr th:only-of-type {\n        vertical-align: middle;\n    }\n\n    .dataframe tbody tr th {\n        vertical-align: top;\n    }\n\n    .dataframe thead th {\n        text-align: right;\n    }\n</style>\n<table border=\"1\" class=\"dataframe\">\n  <thead>\n    <tr style=\"text-align: right;\">\n      <th></th>\n      <th>antecedents</th>\n      <th>consequents</th>\n      <th>support</th>\n      <th>confidence</th>\n      <th>lift</th>\n      <th>allconf</th>\n    </tr>\n  </thead>\n  <tbody>\n    <tr>\n      <th>0</th>\n      <td>(price-1)</td>\n      <td>(points-17)</td>\n      <td>0.201034</td>\n      <td>0.662561</td>\n      <td>1.257503</td>\n      <td>0.381550</td>\n    </tr>\n    <tr>\n      <th>1</th>\n      <td>(US)</td>\n      <td>(points-17)</td>\n      <td>0.199788</td>\n      <td>0.483253</td>\n      <td>0.917185</td>\n      <td>0.379186</td>\n    </tr>\n    <tr>\n      <th>2</th>\n      <td>(price-2)</td>\n      <td>(points-17)</td>\n      <td>0.131604</td>\n      <td>0.617900</td>\n      <td>1.172737</td>\n      <td>0.249777</td>\n    </tr>\n    <tr>\n      <th>3</th>\n      <td>(points-18)</td>\n      <td>(US)</td>\n      <td>0.128748</td>\n      <td>0.429636</td>\n      <td>1.039215</td>\n      <td>0.311420</td>\n    </tr>\n    <tr>\n      <th>4</th>\n      <td>(price-2)</td>\n      <td>(US)</td>\n      <td>0.106460</td>\n      <td>0.499844</td>\n      <td>1.209038</td>\n      <td>0.257508</td>\n    </tr>\n    <tr>\n      <th>5</th>\n      <td>(Italy)</td>\n      <td>(points-17)</td>\n      <td>0.093964</td>\n      <td>0.604055</td>\n      <td>1.146461</td>\n      <td>0.178338</td>\n    </tr>\n    <tr>\n      <th>6</th>\n      <td>(points-16)</td>\n      <td>(price-1)</td>\n      <td>0.079454</td>\n      <td>0.516963</td>\n      <td>1.703795</td>\n      <td>0.261863</td>\n    </tr>\n    <tr>\n      <th>7</th>\n      <td>(price-3)</td>\n      <td>(US)</td>\n      <td>0.076784</td>\n      <td>0.616469</td>\n      <td>1.491132</td>\n      <td>0.185727</td>\n    </tr>\n    <tr>\n      <th>8</th>\n      <td>(points-16)</td>\n      <td>(US)</td>\n      <td>0.076048</td>\n      <td>0.494805</td>\n      <td>1.196849</td>\n      <td>0.183948</td>\n    </tr>\n    <tr>\n      <th>9</th>\n      <td>(France)</td>\n      <td>(points-17)</td>\n      <td>0.066998</td>\n      <td>0.479287</td>\n      <td>0.909659</td>\n      <td>0.127158</td>\n    </tr>\n    <tr>\n      <th>10</th>\n      <td>(price-3)</td>\n      <td>(points-17)</td>\n      <td>0.062327</td>\n      <td>0.500399</td>\n      <td>0.949728</td>\n      <td>0.118293</td>\n    </tr>\n    <tr>\n      <th>11</th>\n      <td>(points-17, price-2)</td>\n      <td>(US)</td>\n      <td>0.060757</td>\n      <td>0.461662</td>\n      <td>1.116682</td>\n      <td>0.146960</td>\n    </tr>\n    <tr>\n      <th>12</th>\n      <td>(price-2, US)</td>\n      <td>(points-17)</td>\n      <td>0.060757</td>\n      <td>0.570700</td>\n      <td>1.083154</td>\n      <td>0.115313</td>\n    </tr>\n    <tr>\n      <th>13</th>\n      <td>(price-1, US)</td>\n      <td>(points-17)</td>\n      <td>0.058424</td>\n      <td>0.574949</td>\n      <td>1.091220</td>\n      <td>0.110886</td>\n    </tr>\n    <tr>\n      <th>14</th>\n      <td>(price-10)</td>\n      <td>(points-18)</td>\n      <td>0.051898</td>\n      <td>0.439365</td>\n      <td>1.466169</td>\n      <td>0.173185</td>\n    </tr>\n    <tr>\n      <th>15</th>\n      <td>(price-3)</td>\n      <td>(points-18)</td>\n      <td>0.049990</td>\n      <td>0.401351</td>\n      <td>1.339316</td>\n      <td>0.166818</td>\n    </tr>\n    <tr>\n      <th>16</th>\n      <td>(price-10)</td>\n      <td>(France)</td>\n      <td>0.049930</td>\n      <td>0.422706</td>\n      <td>3.023936</td>\n      <td>0.357190</td>\n    </tr>\n    <tr>\n      <th>17</th>\n      <td>(price-4)</td>\n      <td>(US)</td>\n      <td>0.049692</td>\n      <td>0.599856</td>\n      <td>1.450948</td>\n      <td>0.120196</td>\n    </tr>\n    <tr>\n      <th>18</th>\n      <td>(price-10)</td>\n      <td>(points-17)</td>\n      <td>0.049102</td>\n      <td>0.415694</td>\n      <td>0.788964</td>\n      <td>0.093193</td>\n    </tr>\n    <tr>\n      <th>19</th>\n      <td>(price-4)</td>\n      <td>(points-18)</td>\n      <td>0.043855</td>\n      <td>0.529393</td>\n      <td>1.766594</td>\n      <td>0.146344</td>\n    </tr>\n    <tr>\n      <th>20</th>\n      <td>(price-3, points-17)</td>\n      <td>(US)</td>\n      <td>0.038064</td>\n      <td>0.610715</td>\n      <td>1.477215</td>\n      <td>0.092070</td>\n    </tr>\n    <tr>\n      <th>21</th>\n      <td>(price-3, US)</td>\n      <td>(points-17)</td>\n      <td>0.038064</td>\n      <td>0.495729</td>\n      <td>0.940864</td>\n      <td>0.072243</td>\n    </tr>\n    <tr>\n      <th>22</th>\n      <td>(price-1, points-16)</td>\n      <td>(US)</td>\n      <td>0.033936</td>\n      <td>0.427118</td>\n      <td>1.033125</td>\n      <td>0.082086</td>\n    </tr>\n    <tr>\n      <th>23</th>\n      <td>(US, points-16)</td>\n      <td>(price-1)</td>\n      <td>0.033936</td>\n      <td>0.446245</td>\n      <td>1.470723</td>\n      <td>0.111846</td>\n    </tr>\n    <tr>\n      <th>24</th>\n      <td>(price-1, Italy)</td>\n      <td>(points-17)</td>\n      <td>0.033426</td>\n      <td>0.847899</td>\n      <td>1.609263</td>\n      <td>0.063441</td>\n    </tr>\n    <tr>\n      <th>25</th>\n      <td>(price-4)</td>\n      <td>(points-17)</td>\n      <td>0.033380</td>\n      <td>0.402943</td>\n      <td>0.764763</td>\n      <td>0.063353</td>\n    </tr>\n    <tr>\n      <th>26</th>\n      <td>(Spain)</td>\n      <td>(points-17)</td>\n      <td>0.030504</td>\n      <td>0.556846</td>\n      <td>1.056860</td>\n      <td>0.057895</td>\n    </tr>\n    <tr>\n      <th>27</th>\n      <td>(price-5)</td>\n      <td>(points-18)</td>\n      <td>0.030405</td>\n      <td>0.608217</td>\n      <td>2.029632</td>\n      <td>0.101461</td>\n    </tr>\n  </tbody>\n</table>\n</div>"
     },
     "metadata": {},
     "execution_count": 15
    }
   ],
   "source": [
    "def allconf(x):\n",
    "    return x.support/max(x['antecedent support'],x['consequent support'])\n",
    "allconf_list = []\n",
    "for index, row in rules.iterrows():\n",
    "    allconf_list.append(allconf(row))\n",
    "rules['allconf'] = allconf_list\n",
    "rules.drop(['antecedent support','consequent support'],axis=1,inplace=False)#.sort_values(by=['lift'], ascending=False)"
   ]
  },
  {
   "cell_type": "code",
   "execution_count": 16,
   "metadata": {},
   "outputs": [
    {
     "output_type": "execute_result",
     "data": {
      "text/plain": [
       "             antecedents  consequents  antecedent support  consequent support  \\\n",
       "16            (price-10)     (France)            0.118121            0.139787   \n",
       "27             (price-5)  (points-18)            0.049990            0.299669   \n",
       "19             (price-4)  (points-18)            0.082840            0.299669   \n",
       "6            (points-16)    (price-1)            0.153694            0.303419   \n",
       "7              (price-3)         (US)            0.124554            0.413423   \n",
       "23       (US, points-16)    (price-1)            0.076048            0.303419   \n",
       "14            (price-10)  (points-18)            0.118121            0.299669   \n",
       "17             (price-4)         (US)            0.082840            0.413423   \n",
       "15             (price-3)  (points-18)            0.124554            0.299669   \n",
       "0              (price-1)  (points-17)            0.303419            0.526887   \n",
       "4              (price-2)         (US)            0.212986            0.413423   \n",
       "8            (points-16)         (US)            0.153694            0.413423   \n",
       "2              (price-2)  (points-17)            0.212986            0.526887   \n",
       "5                (Italy)  (points-17)            0.155556            0.526887   \n",
       "11  (points-17, price-2)         (US)            0.131604            0.413423   \n",
       "13         (price-1, US)  (points-17)            0.101617            0.526887   \n",
       "\n",
       "     support  confidence      lift   allconf  \n",
       "16  0.049930    0.422706  3.023936  0.357190  \n",
       "27  0.030405    0.608217  2.029632  0.101461  \n",
       "19  0.043855    0.529393  1.766594  0.146344  \n",
       "6   0.079454    0.516963  1.703795  0.261863  \n",
       "7   0.076784    0.616469  1.491132  0.185727  \n",
       "23  0.033936    0.446245  1.470723  0.111846  \n",
       "14  0.051898    0.439365  1.466169  0.173185  \n",
       "17  0.049692    0.599856  1.450948  0.120196  \n",
       "15  0.049990    0.401351  1.339316  0.166818  \n",
       "0   0.201034    0.662561  1.257503  0.381550  \n",
       "4   0.106460    0.499844  1.209038  0.257508  \n",
       "8   0.076048    0.494805  1.196849  0.183948  \n",
       "2   0.131604    0.617900  1.172737  0.249777  \n",
       "5   0.093964    0.604055  1.146461  0.178338  \n",
       "11  0.060757    0.461662  1.116682  0.146960  \n",
       "13  0.058424    0.574949  1.091220  0.110886  "
      ],
      "text/html": "<div>\n<style scoped>\n    .dataframe tbody tr th:only-of-type {\n        vertical-align: middle;\n    }\n\n    .dataframe tbody tr th {\n        vertical-align: top;\n    }\n\n    .dataframe thead th {\n        text-align: right;\n    }\n</style>\n<table border=\"1\" class=\"dataframe\">\n  <thead>\n    <tr style=\"text-align: right;\">\n      <th></th>\n      <th>antecedents</th>\n      <th>consequents</th>\n      <th>antecedent support</th>\n      <th>consequent support</th>\n      <th>support</th>\n      <th>confidence</th>\n      <th>lift</th>\n      <th>allconf</th>\n    </tr>\n  </thead>\n  <tbody>\n    <tr>\n      <th>16</th>\n      <td>(price-10)</td>\n      <td>(France)</td>\n      <td>0.118121</td>\n      <td>0.139787</td>\n      <td>0.049930</td>\n      <td>0.422706</td>\n      <td>3.023936</td>\n      <td>0.357190</td>\n    </tr>\n    <tr>\n      <th>27</th>\n      <td>(price-5)</td>\n      <td>(points-18)</td>\n      <td>0.049990</td>\n      <td>0.299669</td>\n      <td>0.030405</td>\n      <td>0.608217</td>\n      <td>2.029632</td>\n      <td>0.101461</td>\n    </tr>\n    <tr>\n      <th>19</th>\n      <td>(price-4)</td>\n      <td>(points-18)</td>\n      <td>0.082840</td>\n      <td>0.299669</td>\n      <td>0.043855</td>\n      <td>0.529393</td>\n      <td>1.766594</td>\n      <td>0.146344</td>\n    </tr>\n    <tr>\n      <th>6</th>\n      <td>(points-16)</td>\n      <td>(price-1)</td>\n      <td>0.153694</td>\n      <td>0.303419</td>\n      <td>0.079454</td>\n      <td>0.516963</td>\n      <td>1.703795</td>\n      <td>0.261863</td>\n    </tr>\n    <tr>\n      <th>7</th>\n      <td>(price-3)</td>\n      <td>(US)</td>\n      <td>0.124554</td>\n      <td>0.413423</td>\n      <td>0.076784</td>\n      <td>0.616469</td>\n      <td>1.491132</td>\n      <td>0.185727</td>\n    </tr>\n    <tr>\n      <th>23</th>\n      <td>(US, points-16)</td>\n      <td>(price-1)</td>\n      <td>0.076048</td>\n      <td>0.303419</td>\n      <td>0.033936</td>\n      <td>0.446245</td>\n      <td>1.470723</td>\n      <td>0.111846</td>\n    </tr>\n    <tr>\n      <th>14</th>\n      <td>(price-10)</td>\n      <td>(points-18)</td>\n      <td>0.118121</td>\n      <td>0.299669</td>\n      <td>0.051898</td>\n      <td>0.439365</td>\n      <td>1.466169</td>\n      <td>0.173185</td>\n    </tr>\n    <tr>\n      <th>17</th>\n      <td>(price-4)</td>\n      <td>(US)</td>\n      <td>0.082840</td>\n      <td>0.413423</td>\n      <td>0.049692</td>\n      <td>0.599856</td>\n      <td>1.450948</td>\n      <td>0.120196</td>\n    </tr>\n    <tr>\n      <th>15</th>\n      <td>(price-3)</td>\n      <td>(points-18)</td>\n      <td>0.124554</td>\n      <td>0.299669</td>\n      <td>0.049990</td>\n      <td>0.401351</td>\n      <td>1.339316</td>\n      <td>0.166818</td>\n    </tr>\n    <tr>\n      <th>0</th>\n      <td>(price-1)</td>\n      <td>(points-17)</td>\n      <td>0.303419</td>\n      <td>0.526887</td>\n      <td>0.201034</td>\n      <td>0.662561</td>\n      <td>1.257503</td>\n      <td>0.381550</td>\n    </tr>\n    <tr>\n      <th>4</th>\n      <td>(price-2)</td>\n      <td>(US)</td>\n      <td>0.212986</td>\n      <td>0.413423</td>\n      <td>0.106460</td>\n      <td>0.499844</td>\n      <td>1.209038</td>\n      <td>0.257508</td>\n    </tr>\n    <tr>\n      <th>8</th>\n      <td>(points-16)</td>\n      <td>(US)</td>\n      <td>0.153694</td>\n      <td>0.413423</td>\n      <td>0.076048</td>\n      <td>0.494805</td>\n      <td>1.196849</td>\n      <td>0.183948</td>\n    </tr>\n    <tr>\n      <th>2</th>\n      <td>(price-2)</td>\n      <td>(points-17)</td>\n      <td>0.212986</td>\n      <td>0.526887</td>\n      <td>0.131604</td>\n      <td>0.617900</td>\n      <td>1.172737</td>\n      <td>0.249777</td>\n    </tr>\n    <tr>\n      <th>5</th>\n      <td>(Italy)</td>\n      <td>(points-17)</td>\n      <td>0.155556</td>\n      <td>0.526887</td>\n      <td>0.093964</td>\n      <td>0.604055</td>\n      <td>1.146461</td>\n      <td>0.178338</td>\n    </tr>\n    <tr>\n      <th>11</th>\n      <td>(points-17, price-2)</td>\n      <td>(US)</td>\n      <td>0.131604</td>\n      <td>0.413423</td>\n      <td>0.060757</td>\n      <td>0.461662</td>\n      <td>1.116682</td>\n      <td>0.146960</td>\n    </tr>\n    <tr>\n      <th>13</th>\n      <td>(price-1, US)</td>\n      <td>(points-17)</td>\n      <td>0.101617</td>\n      <td>0.526887</td>\n      <td>0.058424</td>\n      <td>0.574949</td>\n      <td>1.091220</td>\n      <td>0.110886</td>\n    </tr>\n  </tbody>\n</table>\n</div>"
     },
     "metadata": {},
     "execution_count": 16
    }
   ],
   "source": [
    "#过滤allconf小于0.1的规则，按照lift从大到小排序取前16项，得到用于分析的关联规则。\n",
    "final_rules = rules.iloc[:]\n",
    "from sklearn.preprocessing import LabelEncoder\n",
    "for index, row in final_rules.iterrows():\n",
    "    #print(row)\n",
    "    if row['allconf'] < 0.1:\n",
    "        final_rules.drop(index=index,inplace=True) \n",
    "final_rules = final_rules.sort_values(by=['lift'], ascending=False)[:16]\n",
    "final_rules"
   ]
  },
  {
   "source": [
    "6. **结果分析/可视化展示**"
   ],
   "cell_type": "markdown",
   "metadata": {}
  },
  {
   "cell_type": "code",
   "execution_count": 17,
   "metadata": {},
   "outputs": [
    {
     "output_type": "stream",
     "name": "stdout",
     "text": [
      "1 : ('price-10',) ⇒ ('France',) (suupport = 0.049930, confidence = 0.422706 )\n2 : ('price-5',) ⇒ ('points-18',) (suupport = 0.030405, confidence = 0.608217 )\n3 : ('price-4',) ⇒ ('points-18',) (suupport = 0.043855, confidence = 0.529393 )\n4 : ('points-16',) ⇒ ('price-1',) (suupport = 0.079454, confidence = 0.516963 )\n5 : ('price-3',) ⇒ ('US',) (suupport = 0.076784, confidence = 0.616469 )\n6 : ('US', 'points-16') ⇒ ('price-1',) (suupport = 0.033936, confidence = 0.446245 )\n7 : ('price-10',) ⇒ ('points-18',) (suupport = 0.051898, confidence = 0.439365 )\n8 : ('price-4',) ⇒ ('US',) (suupport = 0.049692, confidence = 0.599856 )\n9 : ('price-3',) ⇒ ('points-18',) (suupport = 0.049990, confidence = 0.401351 )\n10 : ('price-1',) ⇒ ('points-17',) (suupport = 0.201034, confidence = 0.662561 )\n11 : ('price-2',) ⇒ ('US',) (suupport = 0.106460, confidence = 0.499844 )\n12 : ('points-16',) ⇒ ('US',) (suupport = 0.076048, confidence = 0.494805 )\n13 : ('price-2',) ⇒ ('points-17',) (suupport = 0.131604, confidence = 0.617900 )\n14 : ('Italy',) ⇒ ('points-17',) (suupport = 0.093964, confidence = 0.604055 )\n15 : ('points-17', 'price-2') ⇒ ('US',) (suupport = 0.060757, confidence = 0.461662 )\n16 : ('price-1', 'US') ⇒ ('points-17',) (suupport = 0.058424, confidence = 0.574949 )\n"
     ]
    }
   ],
   "source": [
    "#最后生成的规则如下列出：\n",
    "i = 1\n",
    "for index, row in final_rules.iterrows():\n",
    "    t1 = tuple(row['antecedents'])\n",
    "    t2 = tuple(row['consequents'])\n",
    "    print(\"%d : %s ⇒ %s (suupport = %f, confidence = %f )\"%(i,t1,t2,row['support'],row['confidence']))\n",
    "    i = i + 1"
   ]
  },
  {
   "source": [
    "*在price和points的数值越大代表价格越高、分数越高。根据规则2，3，4，7，9，10，13可以看出，价格对葡萄酒的评分存在一定的影响，价格比较低（price-1和price-2，对应价格区间为10-29）的葡萄酒的评分更多地集中在16和17的评分档位（对应百分制评分的80-89）。而价格相对较高的葡萄酒（price-3到price-10，价格为30以上的）评分集中在18的评分档位（对应百分制评分的90-95），而且当价格高于price-40（price>40）档位后，评分并不会升高。*"
   ],
   "cell_type": "markdown",
   "metadata": {}
  },
  {
   "source": [
    "*从('price-4',) ⇒ ('US',) ('price-2',) ⇒ ('US',) ('price-16',) ⇒ ('US',) ('price-1', 'US')的规则可以看出，来自美国的葡萄酒的价格分布比较广泛。*"
   ],
   "cell_type": "markdown",
   "metadata": {}
  },
  {
   "source": [
    "*从('price-10',) ⇒ ('France',),('Italy',) ⇒ ('points-17',)的规则可以看出，法国的葡萄酒的价格较高（price超过100），来自意大利的葡萄酒评分居中（points位于85-90之间）。*"
   ],
   "cell_type": "markdown",
   "metadata": {}
  },
  {
   "source": [
    "**可视化展示**"
   ],
   "cell_type": "markdown",
   "metadata": {}
  },
  {
   "cell_type": "code",
   "execution_count": 19,
   "metadata": {},
   "outputs": [
    {
     "output_type": "display_data",
     "data": {
      "text/plain": "<Figure size 432x288 with 1 Axes>",
      "image/svg+xml": "<?xml version=\"1.0\" encoding=\"utf-8\" standalone=\"no\"?>\r\n<!DOCTYPE svg PUBLIC \"-//W3C//DTD SVG 1.1//EN\"\r\n  \"http://www.w3.org/Graphics/SVG/1.1/DTD/svg11.dtd\">\r\n<!-- Created with matplotlib (https://matplotlib.org/) -->\r\n<svg height=\"262.19625pt\" version=\"1.1\" viewBox=\"0 0 385.78125 262.19625\" width=\"385.78125pt\" xmlns=\"http://www.w3.org/2000/svg\" xmlns:xlink=\"http://www.w3.org/1999/xlink\">\r\n <metadata>\r\n  <rdf:RDF xmlns:cc=\"http://creativecommons.org/ns#\" xmlns:dc=\"http://purl.org/dc/elements/1.1/\" xmlns:rdf=\"http://www.w3.org/1999/02/22-rdf-syntax-ns#\">\r\n   <cc:Work>\r\n    <dc:type rdf:resource=\"http://purl.org/dc/dcmitype/StillImage\"/>\r\n    <dc:date>2021-05-30T13:30:22.475400</dc:date>\r\n    <dc:format>image/svg+xml</dc:format>\r\n    <dc:creator>\r\n     <cc:Agent>\r\n      <dc:title>Matplotlib v3.3.2, https://matplotlib.org/</dc:title>\r\n     </cc:Agent>\r\n    </dc:creator>\r\n   </cc:Work>\r\n  </rdf:RDF>\r\n </metadata>\r\n <defs>\r\n  <style type=\"text/css\">*{stroke-linecap:butt;stroke-linejoin:round;}</style>\r\n </defs>\r\n <g id=\"figure_1\">\r\n  <g id=\"patch_1\">\r\n   <path d=\"M 0 262.19625 \r\nL 385.78125 262.19625 \r\nL 385.78125 0 \r\nL 0 0 \r\nz\r\n\" style=\"fill:none;\"/>\r\n  </g>\r\n  <g id=\"axes_1\">\r\n   <g id=\"patch_2\">\r\n    <path d=\"M 43.78125 224.64 \r\nL 378.58125 224.64 \r\nL 378.58125 7.2 \r\nL 43.78125 7.2 \r\nz\r\n\" style=\"fill:#ffffff;\"/>\r\n   </g>\r\n   <g id=\"PathCollection_1\">\r\n    <defs>\r\n     <path d=\"M 0 3 \r\nC 0.795609 3 1.55874 2.683901 2.12132 2.12132 \r\nC 2.683901 1.55874 3 0.795609 3 0 \r\nC 3 -0.795609 2.683901 -1.55874 2.12132 -2.12132 \r\nC 1.55874 -2.683901 0.795609 -3 0 -3 \r\nC -0.795609 -3 -1.55874 -2.683901 -2.12132 -2.12132 \r\nC -2.683901 -1.55874 -3 -0.795609 -3 0 \r\nC -3 0.795609 -2.683901 1.55874 -2.12132 2.12132 \r\nC -1.55874 2.683901 -0.795609 3 0 3 \r\nz\r\n\" id=\"m2a6ce5d2b3\" style=\"stroke:#ff0000;\"/>\r\n    </defs>\r\n    <g clip-path=\"url(#paf52bc8951)\">\r\n     <use style=\"fill:#ff0000;stroke:#ff0000;\" x=\"363.363068\" xlink:href=\"#m2a6ce5d2b3\" y=\"99.126811\"/>\r\n    </g>\r\n   </g>\r\n   <g id=\"PathCollection_2\">\r\n    <g clip-path=\"url(#paf52bc8951)\">\r\n     <use style=\"fill:#ff0000;stroke:#ff0000;\" x=\"361.141177\" xlink:href=\"#m2a6ce5d2b3\" y=\"178.501138\"/>\r\n    </g>\r\n   </g>\r\n   <g id=\"PathCollection_3\">\r\n    <g clip-path=\"url(#paf52bc8951)\">\r\n     <use style=\"fill:#ff0000;stroke:#ff0000;\" x=\"239.516272\" xlink:href=\"#m2a6ce5d2b3\" y=\"118.897195\"/>\r\n    </g>\r\n   </g>\r\n   <g id=\"PathCollection_4\">\r\n    <g clip-path=\"url(#paf52bc8951)\">\r\n     <use style=\"fill:#ff0000;stroke:#ff0000;\" x=\"234.422468\" xlink:href=\"#m2a6ce5d2b3\" y=\"202.235611\"/>\r\n    </g>\r\n   </g>\r\n   <g id=\"PathCollection_5\">\r\n    <g clip-path=\"url(#paf52bc8951)\">\r\n     <use style=\"fill:#ff0000;stroke:#ff0000;\" x=\"194.664798\" xlink:href=\"#m2a6ce5d2b3\" y=\"171.156475\"/>\r\n    </g>\r\n   </g>\r\n   <g id=\"PathCollection_6\">\r\n    <g clip-path=\"url(#paf52bc8951)\">\r\n     <use style=\"fill:#ff0000;stroke:#ff0000;\" x=\"172.374975\" xlink:href=\"#m2a6ce5d2b3\" y=\"125.025818\"/>\r\n    </g>\r\n   </g>\r\n   <g id=\"PathCollection_7\">\r\n    <g clip-path=\"url(#paf52bc8951)\">\r\n     <use style=\"fill:#ff0000;stroke:#ff0000;\" x=\"146.492306\" xlink:href=\"#m2a6ce5d2b3\" y=\"163.57846\"/>\r\n    </g>\r\n   </g>\r\n   <g id=\"PathCollection_8\">\r\n    <g clip-path=\"url(#paf52bc8951)\">\r\n     <use style=\"fill:#ff0000;stroke:#ff0000;\" x=\"141.729423\" xlink:href=\"#m2a6ce5d2b3\" y=\"119.530487\"/>\r\n    </g>\r\n   </g>\r\n   <g id=\"PathCollection_9\">\r\n    <g clip-path=\"url(#paf52bc8951)\">\r\n     <use style=\"fill:#ff0000;stroke:#ff0000;\" x=\"140.417561\" xlink:href=\"#m2a6ce5d2b3\" y=\"173.387125\"/>\r\n    </g>\r\n   </g>\r\n   <g id=\"PathCollection_10\">\r\n    <g clip-path=\"url(#paf52bc8951)\">\r\n     <use style=\"fill:#ff0000;stroke:#ff0000;\" x=\"124.273395\" xlink:href=\"#m2a6ce5d2b3\" y=\"180.256554\"/>\r\n    </g>\r\n   </g>\r\n   <g id=\"PathCollection_11\">\r\n    <g clip-path=\"url(#paf52bc8951)\">\r\n     <use style=\"fill:#ff0000;stroke:#ff0000;\" x=\"115.941303\" xlink:href=\"#m2a6ce5d2b3\" y=\"170.911017\"/>\r\n    </g>\r\n   </g>\r\n   <g id=\"PathCollection_12\">\r\n    <g clip-path=\"url(#paf52bc8951)\">\r\n     <use style=\"fill:#ff0000;stroke:#ff0000;\" x=\"113.140302\" xlink:href=\"#m2a6ce5d2b3\" y=\"188.058475\"/>\r\n    </g>\r\n   </g>\r\n   <g id=\"PathCollection_13\">\r\n    <g clip-path=\"url(#paf52bc8951)\">\r\n     <use style=\"fill:#ff0000;stroke:#ff0000;\" x=\"113.140302\" xlink:href=\"#m2a6ce5d2b3\" y=\"139.791172\"/>\r\n    </g>\r\n   </g>\r\n   <g id=\"PathCollection_14\">\r\n    <g clip-path=\"url(#paf52bc8951)\">\r\n     <use style=\"fill:#ff0000;stroke:#ff0000;\" x=\"108.980165\" xlink:href=\"#m2a6ce5d2b3\" y=\"137.909856\"/>\r\n    </g>\r\n   </g>\r\n   <g id=\"PathCollection_15\">\r\n    <g clip-path=\"url(#paf52bc8951)\">\r\n     <use style=\"fill:#ff0000;stroke:#ff0000;\" x=\"97.338873\" xlink:href=\"#m2a6ce5d2b3\" y=\"197.928805\"/>\r\n    </g>\r\n   </g>\r\n   <g id=\"PathCollection_16\">\r\n    <g clip-path=\"url(#paf52bc8951)\">\r\n     <use style=\"fill:#ff0000;stroke:#ff0000;\" x=\"93.935125\" xlink:href=\"#m2a6ce5d2b3\" y=\"214.756364\"/>\r\n    </g>\r\n   </g>\r\n   <g id=\"PathCollection_17\">\r\n    <g clip-path=\"url(#paf52bc8951)\">\r\n     <use style=\"fill:#ff0000;stroke:#ff0000;\" x=\"93.828758\" xlink:href=\"#m2a6ce5d2b3\" y=\"205.303302\"/>\r\n    </g>\r\n   </g>\r\n   <g id=\"PathCollection_18\">\r\n    <g clip-path=\"url(#paf52bc8951)\">\r\n     <use style=\"fill:#ff0000;stroke:#ff0000;\" x=\"93.403289\" xlink:href=\"#m2a6ce5d2b3\" y=\"126.884505\"/>\r\n    </g>\r\n   </g>\r\n   <g id=\"PathCollection_19\">\r\n    <g clip-path=\"url(#paf52bc8951)\">\r\n     <use style=\"fill:#ff0000;stroke:#ff0000;\" x=\"92.351437\" xlink:href=\"#m2a6ce5d2b3\" y=\"208.407047\"/>\r\n    </g>\r\n   </g>\r\n   <g id=\"PathCollection_20\">\r\n    <g clip-path=\"url(#paf52bc8951)\">\r\n     <use style=\"fill:#ff0000;stroke:#ff0000;\" x=\"82.991129\" xlink:href=\"#m2a6ce5d2b3\" y=\"158.076292\"/>\r\n    </g>\r\n   </g>\r\n   <g id=\"PathCollection_21\">\r\n    <g clip-path=\"url(#paf52bc8951)\">\r\n     <use style=\"fill:#ff0000;stroke:#ff0000;\" x=\"72.661699\" xlink:href=\"#m2a6ce5d2b3\" y=\"122.077396\"/>\r\n    </g>\r\n   </g>\r\n   <g id=\"PathCollection_22\">\r\n    <g clip-path=\"url(#paf52bc8951)\">\r\n     <use style=\"fill:#ff0000;stroke:#ff0000;\" x=\"72.661699\" xlink:href=\"#m2a6ce5d2b3\" y=\"172.978389\"/>\r\n    </g>\r\n   </g>\r\n   <g id=\"PathCollection_23\">\r\n    <g clip-path=\"url(#paf52bc8951)\">\r\n     <use style=\"fill:#ff0000;stroke:#ff0000;\" x=\"65.29873\" xlink:href=\"#m2a6ce5d2b3\" y=\"203.350151\"/>\r\n    </g>\r\n   </g>\r\n   <g id=\"PathCollection_24\">\r\n    <g clip-path=\"url(#paf52bc8951)\">\r\n     <use style=\"fill:#ff0000;stroke:#ff0000;\" x=\"65.29873\" xlink:href=\"#m2a6ce5d2b3\" y=\"194.88327\"/>\r\n    </g>\r\n   </g>\r\n   <g id=\"PathCollection_25\">\r\n    <g clip-path=\"url(#paf52bc8951)\">\r\n     <use style=\"fill:#ff0000;stroke:#ff0000;\" x=\"64.3887\" xlink:href=\"#m2a6ce5d2b3\" y=\"17.083636\"/>\r\n    </g>\r\n   </g>\r\n   <g id=\"PathCollection_26\">\r\n    <g clip-path=\"url(#paf52bc8951)\">\r\n     <use style=\"fill:#ff0000;stroke:#ff0000;\" x=\"64.30597\" xlink:href=\"#m2a6ce5d2b3\" y=\"214.051566\"/>\r\n    </g>\r\n   </g>\r\n   <g id=\"PathCollection_27\">\r\n    <g clip-path=\"url(#paf52bc8951)\">\r\n     <use style=\"fill:#ff0000;stroke:#ff0000;\" x=\"59.17671\" xlink:href=\"#m2a6ce5d2b3\" y=\"145.923837\"/>\r\n    </g>\r\n   </g>\r\n   <g id=\"PathCollection_28\">\r\n    <g clip-path=\"url(#paf52bc8951)\">\r\n     <use style=\"fill:#ff0000;stroke:#ff0000;\" x=\"58.999432\" xlink:href=\"#m2a6ce5d2b3\" y=\"123.183209\"/>\r\n    </g>\r\n   </g>\r\n   <g id=\"matplotlib.axis_1\">\r\n    <g id=\"xtick_1\">\r\n     <g id=\"line2d_1\">\r\n      <defs>\r\n       <path d=\"M 0 0 \r\nL 0 3.5 \r\n\" id=\"mb035d4fbd3\" style=\"stroke:#000000;stroke-width:0.8;\"/>\r\n      </defs>\r\n      <g>\r\n       <use style=\"stroke:#000000;stroke-width:0.8;\" x=\"49.358433\" xlink:href=\"#mb035d4fbd3\" y=\"224.64\"/>\r\n      </g>\r\n     </g>\r\n     <g id=\"text_1\">\r\n      <!-- 0.025 -->\r\n      <g transform=\"translate(35.044371 239.238437)scale(0.1 -0.1)\">\r\n       <defs>\r\n        <path d=\"M 31.78125 66.40625 \r\nQ 24.171875 66.40625 20.328125 58.90625 \r\nQ 16.5 51.421875 16.5 36.375 \r\nQ 16.5 21.390625 20.328125 13.890625 \r\nQ 24.171875 6.390625 31.78125 6.390625 \r\nQ 39.453125 6.390625 43.28125 13.890625 \r\nQ 47.125 21.390625 47.125 36.375 \r\nQ 47.125 51.421875 43.28125 58.90625 \r\nQ 39.453125 66.40625 31.78125 66.40625 \r\nz\r\nM 31.78125 74.21875 \r\nQ 44.046875 74.21875 50.515625 64.515625 \r\nQ 56.984375 54.828125 56.984375 36.375 \r\nQ 56.984375 17.96875 50.515625 8.265625 \r\nQ 44.046875 -1.421875 31.78125 -1.421875 \r\nQ 19.53125 -1.421875 13.0625 8.265625 \r\nQ 6.59375 17.96875 6.59375 36.375 \r\nQ 6.59375 54.828125 13.0625 64.515625 \r\nQ 19.53125 74.21875 31.78125 74.21875 \r\nz\r\n\" id=\"DejaVuSans-48\"/>\r\n        <path d=\"M 10.6875 12.40625 \r\nL 21 12.40625 \r\nL 21 0 \r\nL 10.6875 0 \r\nz\r\n\" id=\"DejaVuSans-46\"/>\r\n        <path d=\"M 19.1875 8.296875 \r\nL 53.609375 8.296875 \r\nL 53.609375 0 \r\nL 7.328125 0 \r\nL 7.328125 8.296875 \r\nQ 12.9375 14.109375 22.625 23.890625 \r\nQ 32.328125 33.6875 34.8125 36.53125 \r\nQ 39.546875 41.84375 41.421875 45.53125 \r\nQ 43.3125 49.21875 43.3125 52.78125 \r\nQ 43.3125 58.59375 39.234375 62.25 \r\nQ 35.15625 65.921875 28.609375 65.921875 \r\nQ 23.96875 65.921875 18.8125 64.3125 \r\nQ 13.671875 62.703125 7.8125 59.421875 \r\nL 7.8125 69.390625 \r\nQ 13.765625 71.78125 18.9375 73 \r\nQ 24.125 74.21875 28.421875 74.21875 \r\nQ 39.75 74.21875 46.484375 68.546875 \r\nQ 53.21875 62.890625 53.21875 53.421875 \r\nQ 53.21875 48.921875 51.53125 44.890625 \r\nQ 49.859375 40.875 45.40625 35.40625 \r\nQ 44.1875 33.984375 37.640625 27.21875 \r\nQ 31.109375 20.453125 19.1875 8.296875 \r\nz\r\n\" id=\"DejaVuSans-50\"/>\r\n        <path d=\"M 10.796875 72.90625 \r\nL 49.515625 72.90625 \r\nL 49.515625 64.59375 \r\nL 19.828125 64.59375 \r\nL 19.828125 46.734375 \r\nQ 21.96875 47.46875 24.109375 47.828125 \r\nQ 26.265625 48.1875 28.421875 48.1875 \r\nQ 40.625 48.1875 47.75 41.5 \r\nQ 54.890625 34.8125 54.890625 23.390625 \r\nQ 54.890625 11.625 47.5625 5.09375 \r\nQ 40.234375 -1.421875 26.90625 -1.421875 \r\nQ 22.3125 -1.421875 17.546875 -0.640625 \r\nQ 12.796875 0.140625 7.71875 1.703125 \r\nL 7.71875 11.625 \r\nQ 12.109375 9.234375 16.796875 8.0625 \r\nQ 21.484375 6.890625 26.703125 6.890625 \r\nQ 35.15625 6.890625 40.078125 11.328125 \r\nQ 45.015625 15.765625 45.015625 23.390625 \r\nQ 45.015625 31 40.078125 35.4375 \r\nQ 35.15625 39.890625 26.703125 39.890625 \r\nQ 22.75 39.890625 18.8125 39.015625 \r\nQ 14.890625 38.140625 10.796875 36.28125 \r\nz\r\n\" id=\"DejaVuSans-53\"/>\r\n       </defs>\r\n       <use xlink:href=\"#DejaVuSans-48\"/>\r\n       <use x=\"63.623047\" xlink:href=\"#DejaVuSans-46\"/>\r\n       <use x=\"95.410156\" xlink:href=\"#DejaVuSans-48\"/>\r\n       <use x=\"159.033203\" xlink:href=\"#DejaVuSans-50\"/>\r\n       <use x=\"222.65625\" xlink:href=\"#DejaVuSans-53\"/>\r\n      </g>\r\n     </g>\r\n    </g>\r\n    <g id=\"xtick_2\">\r\n     <g id=\"line2d_2\">\r\n      <g>\r\n       <use style=\"stroke:#000000;stroke-width:0.8;\" x=\"93.952853\" xlink:href=\"#mb035d4fbd3\" y=\"224.64\"/>\r\n      </g>\r\n     </g>\r\n     <g id=\"text_2\">\r\n      <!-- 0.050 -->\r\n      <g transform=\"translate(79.63879 239.238437)scale(0.1 -0.1)\">\r\n       <use xlink:href=\"#DejaVuSans-48\"/>\r\n       <use x=\"63.623047\" xlink:href=\"#DejaVuSans-46\"/>\r\n       <use x=\"95.410156\" xlink:href=\"#DejaVuSans-48\"/>\r\n       <use x=\"159.033203\" xlink:href=\"#DejaVuSans-53\"/>\r\n       <use x=\"222.65625\" xlink:href=\"#DejaVuSans-48\"/>\r\n      </g>\r\n     </g>\r\n    </g>\r\n    <g id=\"xtick_3\">\r\n     <g id=\"line2d_3\">\r\n      <g>\r\n       <use style=\"stroke:#000000;stroke-width:0.8;\" x=\"138.547273\" xlink:href=\"#mb035d4fbd3\" y=\"224.64\"/>\r\n      </g>\r\n     </g>\r\n     <g id=\"text_3\">\r\n      <!-- 0.075 -->\r\n      <g transform=\"translate(124.23321 239.238437)scale(0.1 -0.1)\">\r\n       <defs>\r\n        <path d=\"M 8.203125 72.90625 \r\nL 55.078125 72.90625 \r\nL 55.078125 68.703125 \r\nL 28.609375 0 \r\nL 18.3125 0 \r\nL 43.21875 64.59375 \r\nL 8.203125 64.59375 \r\nz\r\n\" id=\"DejaVuSans-55\"/>\r\n       </defs>\r\n       <use xlink:href=\"#DejaVuSans-48\"/>\r\n       <use x=\"63.623047\" xlink:href=\"#DejaVuSans-46\"/>\r\n       <use x=\"95.410156\" xlink:href=\"#DejaVuSans-48\"/>\r\n       <use x=\"159.033203\" xlink:href=\"#DejaVuSans-55\"/>\r\n       <use x=\"222.65625\" xlink:href=\"#DejaVuSans-53\"/>\r\n      </g>\r\n     </g>\r\n    </g>\r\n    <g id=\"xtick_4\">\r\n     <g id=\"line2d_4\">\r\n      <g>\r\n       <use style=\"stroke:#000000;stroke-width:0.8;\" x=\"183.141692\" xlink:href=\"#mb035d4fbd3\" y=\"224.64\"/>\r\n      </g>\r\n     </g>\r\n     <g id=\"text_4\">\r\n      <!-- 0.100 -->\r\n      <g transform=\"translate(168.82763 239.238437)scale(0.1 -0.1)\">\r\n       <defs>\r\n        <path d=\"M 12.40625 8.296875 \r\nL 28.515625 8.296875 \r\nL 28.515625 63.921875 \r\nL 10.984375 60.40625 \r\nL 10.984375 69.390625 \r\nL 28.421875 72.90625 \r\nL 38.28125 72.90625 \r\nL 38.28125 8.296875 \r\nL 54.390625 8.296875 \r\nL 54.390625 0 \r\nL 12.40625 0 \r\nz\r\n\" id=\"DejaVuSans-49\"/>\r\n       </defs>\r\n       <use xlink:href=\"#DejaVuSans-48\"/>\r\n       <use x=\"63.623047\" xlink:href=\"#DejaVuSans-46\"/>\r\n       <use x=\"95.410156\" xlink:href=\"#DejaVuSans-49\"/>\r\n       <use x=\"159.033203\" xlink:href=\"#DejaVuSans-48\"/>\r\n       <use x=\"222.65625\" xlink:href=\"#DejaVuSans-48\"/>\r\n      </g>\r\n     </g>\r\n    </g>\r\n    <g id=\"xtick_5\">\r\n     <g id=\"line2d_5\">\r\n      <g>\r\n       <use style=\"stroke:#000000;stroke-width:0.8;\" x=\"227.736112\" xlink:href=\"#mb035d4fbd3\" y=\"224.64\"/>\r\n      </g>\r\n     </g>\r\n     <g id=\"text_5\">\r\n      <!-- 0.125 -->\r\n      <g transform=\"translate(213.42205 239.238437)scale(0.1 -0.1)\">\r\n       <use xlink:href=\"#DejaVuSans-48\"/>\r\n       <use x=\"63.623047\" xlink:href=\"#DejaVuSans-46\"/>\r\n       <use x=\"95.410156\" xlink:href=\"#DejaVuSans-49\"/>\r\n       <use x=\"159.033203\" xlink:href=\"#DejaVuSans-50\"/>\r\n       <use x=\"222.65625\" xlink:href=\"#DejaVuSans-53\"/>\r\n      </g>\r\n     </g>\r\n    </g>\r\n    <g id=\"xtick_6\">\r\n     <g id=\"line2d_6\">\r\n      <g>\r\n       <use style=\"stroke:#000000;stroke-width:0.8;\" x=\"272.330532\" xlink:href=\"#mb035d4fbd3\" y=\"224.64\"/>\r\n      </g>\r\n     </g>\r\n     <g id=\"text_6\">\r\n      <!-- 0.150 -->\r\n      <g transform=\"translate(258.016469 239.238437)scale(0.1 -0.1)\">\r\n       <use xlink:href=\"#DejaVuSans-48\"/>\r\n       <use x=\"63.623047\" xlink:href=\"#DejaVuSans-46\"/>\r\n       <use x=\"95.410156\" xlink:href=\"#DejaVuSans-49\"/>\r\n       <use x=\"159.033203\" xlink:href=\"#DejaVuSans-53\"/>\r\n       <use x=\"222.65625\" xlink:href=\"#DejaVuSans-48\"/>\r\n      </g>\r\n     </g>\r\n    </g>\r\n    <g id=\"xtick_7\">\r\n     <g id=\"line2d_7\">\r\n      <g>\r\n       <use style=\"stroke:#000000;stroke-width:0.8;\" x=\"316.924952\" xlink:href=\"#mb035d4fbd3\" y=\"224.64\"/>\r\n      </g>\r\n     </g>\r\n     <g id=\"text_7\">\r\n      <!-- 0.175 -->\r\n      <g transform=\"translate(302.610889 239.238437)scale(0.1 -0.1)\">\r\n       <use xlink:href=\"#DejaVuSans-48\"/>\r\n       <use x=\"63.623047\" xlink:href=\"#DejaVuSans-46\"/>\r\n       <use x=\"95.410156\" xlink:href=\"#DejaVuSans-49\"/>\r\n       <use x=\"159.033203\" xlink:href=\"#DejaVuSans-55\"/>\r\n       <use x=\"222.65625\" xlink:href=\"#DejaVuSans-53\"/>\r\n      </g>\r\n     </g>\r\n    </g>\r\n    <g id=\"xtick_8\">\r\n     <g id=\"line2d_8\">\r\n      <g>\r\n       <use style=\"stroke:#000000;stroke-width:0.8;\" x=\"361.519371\" xlink:href=\"#mb035d4fbd3\" y=\"224.64\"/>\r\n      </g>\r\n     </g>\r\n     <g id=\"text_8\">\r\n      <!-- 0.200 -->\r\n      <g transform=\"translate(347.205309 239.238437)scale(0.1 -0.1)\">\r\n       <use xlink:href=\"#DejaVuSans-48\"/>\r\n       <use x=\"63.623047\" xlink:href=\"#DejaVuSans-46\"/>\r\n       <use x=\"95.410156\" xlink:href=\"#DejaVuSans-50\"/>\r\n       <use x=\"159.033203\" xlink:href=\"#DejaVuSans-48\"/>\r\n       <use x=\"222.65625\" xlink:href=\"#DejaVuSans-48\"/>\r\n      </g>\r\n     </g>\r\n    </g>\r\n    <g id=\"text_9\">\r\n     <!-- support -->\r\n     <g transform=\"translate(191.984375 252.916562)scale(0.1 -0.1)\">\r\n      <defs>\r\n       <path d=\"M 44.28125 53.078125 \r\nL 44.28125 44.578125 \r\nQ 40.484375 46.53125 36.375 47.5 \r\nQ 32.28125 48.484375 27.875 48.484375 \r\nQ 21.1875 48.484375 17.84375 46.4375 \r\nQ 14.5 44.390625 14.5 40.28125 \r\nQ 14.5 37.15625 16.890625 35.375 \r\nQ 19.28125 33.59375 26.515625 31.984375 \r\nL 29.59375 31.296875 \r\nQ 39.15625 29.25 43.1875 25.515625 \r\nQ 47.21875 21.78125 47.21875 15.09375 \r\nQ 47.21875 7.46875 41.1875 3.015625 \r\nQ 35.15625 -1.421875 24.609375 -1.421875 \r\nQ 20.21875 -1.421875 15.453125 -0.5625 \r\nQ 10.6875 0.296875 5.421875 2 \r\nL 5.421875 11.28125 \r\nQ 10.40625 8.6875 15.234375 7.390625 \r\nQ 20.0625 6.109375 24.8125 6.109375 \r\nQ 31.15625 6.109375 34.5625 8.28125 \r\nQ 37.984375 10.453125 37.984375 14.40625 \r\nQ 37.984375 18.0625 35.515625 20.015625 \r\nQ 33.0625 21.96875 24.703125 23.78125 \r\nL 21.578125 24.515625 \r\nQ 13.234375 26.265625 9.515625 29.90625 \r\nQ 5.8125 33.546875 5.8125 39.890625 \r\nQ 5.8125 47.609375 11.28125 51.796875 \r\nQ 16.75 56 26.8125 56 \r\nQ 31.78125 56 36.171875 55.265625 \r\nQ 40.578125 54.546875 44.28125 53.078125 \r\nz\r\n\" id=\"DejaVuSans-115\"/>\r\n       <path d=\"M 8.5 21.578125 \r\nL 8.5 54.6875 \r\nL 17.484375 54.6875 \r\nL 17.484375 21.921875 \r\nQ 17.484375 14.15625 20.5 10.265625 \r\nQ 23.53125 6.390625 29.59375 6.390625 \r\nQ 36.859375 6.390625 41.078125 11.03125 \r\nQ 45.3125 15.671875 45.3125 23.6875 \r\nL 45.3125 54.6875 \r\nL 54.296875 54.6875 \r\nL 54.296875 0 \r\nL 45.3125 0 \r\nL 45.3125 8.40625 \r\nQ 42.046875 3.421875 37.71875 1 \r\nQ 33.40625 -1.421875 27.6875 -1.421875 \r\nQ 18.265625 -1.421875 13.375 4.4375 \r\nQ 8.5 10.296875 8.5 21.578125 \r\nz\r\nM 31.109375 56 \r\nz\r\n\" id=\"DejaVuSans-117\"/>\r\n       <path d=\"M 18.109375 8.203125 \r\nL 18.109375 -20.796875 \r\nL 9.078125 -20.796875 \r\nL 9.078125 54.6875 \r\nL 18.109375 54.6875 \r\nL 18.109375 46.390625 \r\nQ 20.953125 51.265625 25.265625 53.625 \r\nQ 29.59375 56 35.59375 56 \r\nQ 45.5625 56 51.78125 48.09375 \r\nQ 58.015625 40.1875 58.015625 27.296875 \r\nQ 58.015625 14.40625 51.78125 6.484375 \r\nQ 45.5625 -1.421875 35.59375 -1.421875 \r\nQ 29.59375 -1.421875 25.265625 0.953125 \r\nQ 20.953125 3.328125 18.109375 8.203125 \r\nz\r\nM 48.6875 27.296875 \r\nQ 48.6875 37.203125 44.609375 42.84375 \r\nQ 40.53125 48.484375 33.40625 48.484375 \r\nQ 26.265625 48.484375 22.1875 42.84375 \r\nQ 18.109375 37.203125 18.109375 27.296875 \r\nQ 18.109375 17.390625 22.1875 11.75 \r\nQ 26.265625 6.109375 33.40625 6.109375 \r\nQ 40.53125 6.109375 44.609375 11.75 \r\nQ 48.6875 17.390625 48.6875 27.296875 \r\nz\r\n\" id=\"DejaVuSans-112\"/>\r\n       <path d=\"M 30.609375 48.390625 \r\nQ 23.390625 48.390625 19.1875 42.75 \r\nQ 14.984375 37.109375 14.984375 27.296875 \r\nQ 14.984375 17.484375 19.15625 11.84375 \r\nQ 23.34375 6.203125 30.609375 6.203125 \r\nQ 37.796875 6.203125 41.984375 11.859375 \r\nQ 46.1875 17.53125 46.1875 27.296875 \r\nQ 46.1875 37.015625 41.984375 42.703125 \r\nQ 37.796875 48.390625 30.609375 48.390625 \r\nz\r\nM 30.609375 56 \r\nQ 42.328125 56 49.015625 48.375 \r\nQ 55.71875 40.765625 55.71875 27.296875 \r\nQ 55.71875 13.875 49.015625 6.21875 \r\nQ 42.328125 -1.421875 30.609375 -1.421875 \r\nQ 18.84375 -1.421875 12.171875 6.21875 \r\nQ 5.515625 13.875 5.515625 27.296875 \r\nQ 5.515625 40.765625 12.171875 48.375 \r\nQ 18.84375 56 30.609375 56 \r\nz\r\n\" id=\"DejaVuSans-111\"/>\r\n       <path d=\"M 41.109375 46.296875 \r\nQ 39.59375 47.171875 37.8125 47.578125 \r\nQ 36.03125 48 33.890625 48 \r\nQ 26.265625 48 22.1875 43.046875 \r\nQ 18.109375 38.09375 18.109375 28.8125 \r\nL 18.109375 0 \r\nL 9.078125 0 \r\nL 9.078125 54.6875 \r\nL 18.109375 54.6875 \r\nL 18.109375 46.1875 \r\nQ 20.953125 51.171875 25.484375 53.578125 \r\nQ 30.03125 56 36.53125 56 \r\nQ 37.453125 56 38.578125 55.875 \r\nQ 39.703125 55.765625 41.0625 55.515625 \r\nz\r\n\" id=\"DejaVuSans-114\"/>\r\n       <path d=\"M 18.3125 70.21875 \r\nL 18.3125 54.6875 \r\nL 36.8125 54.6875 \r\nL 36.8125 47.703125 \r\nL 18.3125 47.703125 \r\nL 18.3125 18.015625 \r\nQ 18.3125 11.328125 20.140625 9.421875 \r\nQ 21.96875 7.515625 27.59375 7.515625 \r\nL 36.8125 7.515625 \r\nL 36.8125 0 \r\nL 27.59375 0 \r\nQ 17.1875 0 13.234375 3.875 \r\nQ 9.28125 7.765625 9.28125 18.015625 \r\nL 9.28125 47.703125 \r\nL 2.6875 47.703125 \r\nL 2.6875 54.6875 \r\nL 9.28125 54.6875 \r\nL 9.28125 70.21875 \r\nz\r\n\" id=\"DejaVuSans-116\"/>\r\n      </defs>\r\n      <use xlink:href=\"#DejaVuSans-115\"/>\r\n      <use x=\"52.099609\" xlink:href=\"#DejaVuSans-117\"/>\r\n      <use x=\"115.478516\" xlink:href=\"#DejaVuSans-112\"/>\r\n      <use x=\"178.955078\" xlink:href=\"#DejaVuSans-112\"/>\r\n      <use x=\"242.431641\" xlink:href=\"#DejaVuSans-111\"/>\r\n      <use x=\"303.613281\" xlink:href=\"#DejaVuSans-114\"/>\r\n      <use x=\"344.726562\" xlink:href=\"#DejaVuSans-116\"/>\r\n     </g>\r\n    </g>\r\n   </g>\r\n   <g id=\"matplotlib.axis_2\">\r\n    <g id=\"ytick_1\">\r\n     <g id=\"line2d_9\">\r\n      <defs>\r\n       <path d=\"M 0 0 \r\nL -3.5 0 \r\n\" id=\"me2a72f6436\" style=\"stroke:#000000;stroke-width:0.8;\"/>\r\n      </defs>\r\n      <g>\r\n       <use style=\"stroke:#000000;stroke-width:0.8;\" x=\"43.78125\" xlink:href=\"#me2a72f6436\" y=\"215.354469\"/>\r\n      </g>\r\n     </g>\r\n     <g id=\"text_10\">\r\n      <!-- 0.4 -->\r\n      <g transform=\"translate(20.878125 219.153688)scale(0.1 -0.1)\">\r\n       <defs>\r\n        <path d=\"M 37.796875 64.3125 \r\nL 12.890625 25.390625 \r\nL 37.796875 25.390625 \r\nz\r\nM 35.203125 72.90625 \r\nL 47.609375 72.90625 \r\nL 47.609375 25.390625 \r\nL 58.015625 25.390625 \r\nL 58.015625 17.1875 \r\nL 47.609375 17.1875 \r\nL 47.609375 0 \r\nL 37.796875 0 \r\nL 37.796875 17.1875 \r\nL 4.890625 17.1875 \r\nL 4.890625 26.703125 \r\nz\r\n\" id=\"DejaVuSans-52\"/>\r\n       </defs>\r\n       <use xlink:href=\"#DejaVuSans-48\"/>\r\n       <use x=\"63.623047\" xlink:href=\"#DejaVuSans-46\"/>\r\n       <use x=\"95.410156\" xlink:href=\"#DejaVuSans-52\"/>\r\n      </g>\r\n     </g>\r\n    </g>\r\n    <g id=\"ytick_2\">\r\n     <g id=\"line2d_10\">\r\n      <g>\r\n       <use style=\"stroke:#000000;stroke-width:0.8;\" x=\"43.78125\" xlink:href=\"#me2a72f6436\" y=\"171.087623\"/>\r\n      </g>\r\n     </g>\r\n     <g id=\"text_11\">\r\n      <!-- 0.5 -->\r\n      <g transform=\"translate(20.878125 174.886841)scale(0.1 -0.1)\">\r\n       <use xlink:href=\"#DejaVuSans-48\"/>\r\n       <use x=\"63.623047\" xlink:href=\"#DejaVuSans-46\"/>\r\n       <use x=\"95.410156\" xlink:href=\"#DejaVuSans-53\"/>\r\n      </g>\r\n     </g>\r\n    </g>\r\n    <g id=\"ytick_3\">\r\n     <g id=\"line2d_11\">\r\n      <g>\r\n       <use style=\"stroke:#000000;stroke-width:0.8;\" x=\"43.78125\" xlink:href=\"#me2a72f6436\" y=\"126.820776\"/>\r\n      </g>\r\n     </g>\r\n     <g id=\"text_12\">\r\n      <!-- 0.6 -->\r\n      <g transform=\"translate(20.878125 130.619995)scale(0.1 -0.1)\">\r\n       <defs>\r\n        <path d=\"M 33.015625 40.375 \r\nQ 26.375 40.375 22.484375 35.828125 \r\nQ 18.609375 31.296875 18.609375 23.390625 \r\nQ 18.609375 15.53125 22.484375 10.953125 \r\nQ 26.375 6.390625 33.015625 6.390625 \r\nQ 39.65625 6.390625 43.53125 10.953125 \r\nQ 47.40625 15.53125 47.40625 23.390625 \r\nQ 47.40625 31.296875 43.53125 35.828125 \r\nQ 39.65625 40.375 33.015625 40.375 \r\nz\r\nM 52.59375 71.296875 \r\nL 52.59375 62.3125 \r\nQ 48.875 64.0625 45.09375 64.984375 \r\nQ 41.3125 65.921875 37.59375 65.921875 \r\nQ 27.828125 65.921875 22.671875 59.328125 \r\nQ 17.53125 52.734375 16.796875 39.40625 \r\nQ 19.671875 43.65625 24.015625 45.921875 \r\nQ 28.375 48.1875 33.59375 48.1875 \r\nQ 44.578125 48.1875 50.953125 41.515625 \r\nQ 57.328125 34.859375 57.328125 23.390625 \r\nQ 57.328125 12.15625 50.6875 5.359375 \r\nQ 44.046875 -1.421875 33.015625 -1.421875 \r\nQ 20.359375 -1.421875 13.671875 8.265625 \r\nQ 6.984375 17.96875 6.984375 36.375 \r\nQ 6.984375 53.65625 15.1875 63.9375 \r\nQ 23.390625 74.21875 37.203125 74.21875 \r\nQ 40.921875 74.21875 44.703125 73.484375 \r\nQ 48.484375 72.75 52.59375 71.296875 \r\nz\r\n\" id=\"DejaVuSans-54\"/>\r\n       </defs>\r\n       <use xlink:href=\"#DejaVuSans-48\"/>\r\n       <use x=\"63.623047\" xlink:href=\"#DejaVuSans-46\"/>\r\n       <use x=\"95.410156\" xlink:href=\"#DejaVuSans-54\"/>\r\n      </g>\r\n     </g>\r\n    </g>\r\n    <g id=\"ytick_4\">\r\n     <g id=\"line2d_12\">\r\n      <g>\r\n       <use style=\"stroke:#000000;stroke-width:0.8;\" x=\"43.78125\" xlink:href=\"#me2a72f6436\" y=\"82.55393\"/>\r\n      </g>\r\n     </g>\r\n     <g id=\"text_13\">\r\n      <!-- 0.7 -->\r\n      <g transform=\"translate(20.878125 86.353149)scale(0.1 -0.1)\">\r\n       <use xlink:href=\"#DejaVuSans-48\"/>\r\n       <use x=\"63.623047\" xlink:href=\"#DejaVuSans-46\"/>\r\n       <use x=\"95.410156\" xlink:href=\"#DejaVuSans-55\"/>\r\n      </g>\r\n     </g>\r\n    </g>\r\n    <g id=\"ytick_5\">\r\n     <g id=\"line2d_13\">\r\n      <g>\r\n       <use style=\"stroke:#000000;stroke-width:0.8;\" x=\"43.78125\" xlink:href=\"#me2a72f6436\" y=\"38.287084\"/>\r\n      </g>\r\n     </g>\r\n     <g id=\"text_14\">\r\n      <!-- 0.8 -->\r\n      <g transform=\"translate(20.878125 42.086302)scale(0.1 -0.1)\">\r\n       <defs>\r\n        <path d=\"M 31.78125 34.625 \r\nQ 24.75 34.625 20.71875 30.859375 \r\nQ 16.703125 27.09375 16.703125 20.515625 \r\nQ 16.703125 13.921875 20.71875 10.15625 \r\nQ 24.75 6.390625 31.78125 6.390625 \r\nQ 38.8125 6.390625 42.859375 10.171875 \r\nQ 46.921875 13.96875 46.921875 20.515625 \r\nQ 46.921875 27.09375 42.890625 30.859375 \r\nQ 38.875 34.625 31.78125 34.625 \r\nz\r\nM 21.921875 38.8125 \r\nQ 15.578125 40.375 12.03125 44.71875 \r\nQ 8.5 49.078125 8.5 55.328125 \r\nQ 8.5 64.0625 14.71875 69.140625 \r\nQ 20.953125 74.21875 31.78125 74.21875 \r\nQ 42.671875 74.21875 48.875 69.140625 \r\nQ 55.078125 64.0625 55.078125 55.328125 \r\nQ 55.078125 49.078125 51.53125 44.71875 \r\nQ 48 40.375 41.703125 38.8125 \r\nQ 48.828125 37.15625 52.796875 32.3125 \r\nQ 56.78125 27.484375 56.78125 20.515625 \r\nQ 56.78125 9.90625 50.3125 4.234375 \r\nQ 43.84375 -1.421875 31.78125 -1.421875 \r\nQ 19.734375 -1.421875 13.25 4.234375 \r\nQ 6.78125 9.90625 6.78125 20.515625 \r\nQ 6.78125 27.484375 10.78125 32.3125 \r\nQ 14.796875 37.15625 21.921875 38.8125 \r\nz\r\nM 18.3125 54.390625 \r\nQ 18.3125 48.734375 21.84375 45.5625 \r\nQ 25.390625 42.390625 31.78125 42.390625 \r\nQ 38.140625 42.390625 41.71875 45.5625 \r\nQ 45.3125 48.734375 45.3125 54.390625 \r\nQ 45.3125 60.0625 41.71875 63.234375 \r\nQ 38.140625 66.40625 31.78125 66.40625 \r\nQ 25.390625 66.40625 21.84375 63.234375 \r\nQ 18.3125 60.0625 18.3125 54.390625 \r\nz\r\n\" id=\"DejaVuSans-56\"/>\r\n       </defs>\r\n       <use xlink:href=\"#DejaVuSans-48\"/>\r\n       <use x=\"63.623047\" xlink:href=\"#DejaVuSans-46\"/>\r\n       <use x=\"95.410156\" xlink:href=\"#DejaVuSans-56\"/>\r\n      </g>\r\n     </g>\r\n    </g>\r\n    <g id=\"text_15\">\r\n     <!-- confidence -->\r\n     <g transform=\"translate(14.798438 143.291875)rotate(-90)scale(0.1 -0.1)\">\r\n      <defs>\r\n       <path d=\"M 48.78125 52.59375 \r\nL 48.78125 44.1875 \r\nQ 44.96875 46.296875 41.140625 47.34375 \r\nQ 37.3125 48.390625 33.40625 48.390625 \r\nQ 24.65625 48.390625 19.8125 42.84375 \r\nQ 14.984375 37.3125 14.984375 27.296875 \r\nQ 14.984375 17.28125 19.8125 11.734375 \r\nQ 24.65625 6.203125 33.40625 6.203125 \r\nQ 37.3125 6.203125 41.140625 7.25 \r\nQ 44.96875 8.296875 48.78125 10.40625 \r\nL 48.78125 2.09375 \r\nQ 45.015625 0.34375 40.984375 -0.53125 \r\nQ 36.96875 -1.421875 32.421875 -1.421875 \r\nQ 20.0625 -1.421875 12.78125 6.34375 \r\nQ 5.515625 14.109375 5.515625 27.296875 \r\nQ 5.515625 40.671875 12.859375 48.328125 \r\nQ 20.21875 56 33.015625 56 \r\nQ 37.15625 56 41.109375 55.140625 \r\nQ 45.0625 54.296875 48.78125 52.59375 \r\nz\r\n\" id=\"DejaVuSans-99\"/>\r\n       <path d=\"M 54.890625 33.015625 \r\nL 54.890625 0 \r\nL 45.90625 0 \r\nL 45.90625 32.71875 \r\nQ 45.90625 40.484375 42.875 44.328125 \r\nQ 39.84375 48.1875 33.796875 48.1875 \r\nQ 26.515625 48.1875 22.3125 43.546875 \r\nQ 18.109375 38.921875 18.109375 30.90625 \r\nL 18.109375 0 \r\nL 9.078125 0 \r\nL 9.078125 54.6875 \r\nL 18.109375 54.6875 \r\nL 18.109375 46.1875 \r\nQ 21.34375 51.125 25.703125 53.5625 \r\nQ 30.078125 56 35.796875 56 \r\nQ 45.21875 56 50.046875 50.171875 \r\nQ 54.890625 44.34375 54.890625 33.015625 \r\nz\r\n\" id=\"DejaVuSans-110\"/>\r\n       <path d=\"M 37.109375 75.984375 \r\nL 37.109375 68.5 \r\nL 28.515625 68.5 \r\nQ 23.6875 68.5 21.796875 66.546875 \r\nQ 19.921875 64.59375 19.921875 59.515625 \r\nL 19.921875 54.6875 \r\nL 34.71875 54.6875 \r\nL 34.71875 47.703125 \r\nL 19.921875 47.703125 \r\nL 19.921875 0 \r\nL 10.890625 0 \r\nL 10.890625 47.703125 \r\nL 2.296875 47.703125 \r\nL 2.296875 54.6875 \r\nL 10.890625 54.6875 \r\nL 10.890625 58.5 \r\nQ 10.890625 67.625 15.140625 71.796875 \r\nQ 19.390625 75.984375 28.609375 75.984375 \r\nz\r\n\" id=\"DejaVuSans-102\"/>\r\n       <path d=\"M 9.421875 54.6875 \r\nL 18.40625 54.6875 \r\nL 18.40625 0 \r\nL 9.421875 0 \r\nz\r\nM 9.421875 75.984375 \r\nL 18.40625 75.984375 \r\nL 18.40625 64.59375 \r\nL 9.421875 64.59375 \r\nz\r\n\" id=\"DejaVuSans-105\"/>\r\n       <path d=\"M 45.40625 46.390625 \r\nL 45.40625 75.984375 \r\nL 54.390625 75.984375 \r\nL 54.390625 0 \r\nL 45.40625 0 \r\nL 45.40625 8.203125 \r\nQ 42.578125 3.328125 38.25 0.953125 \r\nQ 33.9375 -1.421875 27.875 -1.421875 \r\nQ 17.96875 -1.421875 11.734375 6.484375 \r\nQ 5.515625 14.40625 5.515625 27.296875 \r\nQ 5.515625 40.1875 11.734375 48.09375 \r\nQ 17.96875 56 27.875 56 \r\nQ 33.9375 56 38.25 53.625 \r\nQ 42.578125 51.265625 45.40625 46.390625 \r\nz\r\nM 14.796875 27.296875 \r\nQ 14.796875 17.390625 18.875 11.75 \r\nQ 22.953125 6.109375 30.078125 6.109375 \r\nQ 37.203125 6.109375 41.296875 11.75 \r\nQ 45.40625 17.390625 45.40625 27.296875 \r\nQ 45.40625 37.203125 41.296875 42.84375 \r\nQ 37.203125 48.484375 30.078125 48.484375 \r\nQ 22.953125 48.484375 18.875 42.84375 \r\nQ 14.796875 37.203125 14.796875 27.296875 \r\nz\r\n\" id=\"DejaVuSans-100\"/>\r\n       <path d=\"M 56.203125 29.59375 \r\nL 56.203125 25.203125 \r\nL 14.890625 25.203125 \r\nQ 15.484375 15.921875 20.484375 11.0625 \r\nQ 25.484375 6.203125 34.421875 6.203125 \r\nQ 39.59375 6.203125 44.453125 7.46875 \r\nQ 49.3125 8.734375 54.109375 11.28125 \r\nL 54.109375 2.78125 \r\nQ 49.265625 0.734375 44.1875 -0.34375 \r\nQ 39.109375 -1.421875 33.890625 -1.421875 \r\nQ 20.796875 -1.421875 13.15625 6.1875 \r\nQ 5.515625 13.8125 5.515625 26.8125 \r\nQ 5.515625 40.234375 12.765625 48.109375 \r\nQ 20.015625 56 32.328125 56 \r\nQ 43.359375 56 49.78125 48.890625 \r\nQ 56.203125 41.796875 56.203125 29.59375 \r\nz\r\nM 47.21875 32.234375 \r\nQ 47.125 39.59375 43.09375 43.984375 \r\nQ 39.0625 48.390625 32.421875 48.390625 \r\nQ 24.90625 48.390625 20.390625 44.140625 \r\nQ 15.875 39.890625 15.1875 32.171875 \r\nz\r\n\" id=\"DejaVuSans-101\"/>\r\n      </defs>\r\n      <use xlink:href=\"#DejaVuSans-99\"/>\r\n      <use x=\"54.980469\" xlink:href=\"#DejaVuSans-111\"/>\r\n      <use x=\"116.162109\" xlink:href=\"#DejaVuSans-110\"/>\r\n      <use x=\"179.541016\" xlink:href=\"#DejaVuSans-102\"/>\r\n      <use x=\"214.746094\" xlink:href=\"#DejaVuSans-105\"/>\r\n      <use x=\"242.529297\" xlink:href=\"#DejaVuSans-100\"/>\r\n      <use x=\"306.005859\" xlink:href=\"#DejaVuSans-101\"/>\r\n      <use x=\"367.529297\" xlink:href=\"#DejaVuSans-110\"/>\r\n      <use x=\"430.908203\" xlink:href=\"#DejaVuSans-99\"/>\r\n      <use x=\"485.888672\" xlink:href=\"#DejaVuSans-101\"/>\r\n     </g>\r\n    </g>\r\n   </g>\r\n   <g id=\"patch_3\">\r\n    <path d=\"M 43.78125 224.64 \r\nL 43.78125 7.2 \r\n\" style=\"fill:none;stroke:#000000;stroke-linecap:square;stroke-linejoin:miter;stroke-width:0.8;\"/>\r\n   </g>\r\n   <g id=\"patch_4\">\r\n    <path d=\"M 378.58125 224.64 \r\nL 378.58125 7.2 \r\n\" style=\"fill:none;stroke:#000000;stroke-linecap:square;stroke-linejoin:miter;stroke-width:0.8;\"/>\r\n   </g>\r\n   <g id=\"patch_5\">\r\n    <path d=\"M 43.78125 224.64 \r\nL 378.58125 224.64 \r\n\" style=\"fill:none;stroke:#000000;stroke-linecap:square;stroke-linejoin:miter;stroke-width:0.8;\"/>\r\n   </g>\r\n   <g id=\"patch_6\">\r\n    <path d=\"M 43.78125 7.2 \r\nL 378.58125 7.2 \r\n\" style=\"fill:none;stroke:#000000;stroke-linecap:square;stroke-linejoin:miter;stroke-width:0.8;\"/>\r\n   </g>\r\n  </g>\r\n </g>\r\n <defs>\r\n  <clipPath id=\"paf52bc8951\">\r\n   <rect height=\"217.44\" width=\"334.8\" x=\"43.78125\" y=\"7.2\"/>\r\n  </clipPath>\r\n </defs>\r\n</svg>\r\n",
      "image/png": "[encoded data removed]"
     },
     "metadata": {
      "needs_background": "light"
     }
    }
   ],
   "source": [
    "#使用散点图可视化生成的rules规则：\n",
    "import  matplotlib.pyplot as plt\n",
    "plt.xlabel('support')\n",
    "plt.ylabel('confidence')\n",
    "for i in range(rules.shape[0]):\n",
    "    plt.scatter(rules.support[i],rules.confidence[i],c='r')"
   ]
  },
  {
   "source": [
    "plt.xlabel('support')\n",
    "plt.ylabel('lift')\n",
    "for i in range(rules.shape[0]):\n",
    "    plt.scatter(rules.support[i],rules.lift[i],c='r')"
   ],
   "cell_type": "code",
   "metadata": {},
   "execution_count": 20,
   "outputs": [
    {
     "output_type": "display_data",
     "data": {
      "text/plain": "<Figure size 432x288 with 1 Axes>",
      "image/svg+xml": "<?xml version=\"1.0\" encoding=\"utf-8\" standalone=\"no\"?>\r\n<!DOCTYPE svg PUBLIC \"-//W3C//DTD SVG 1.1//EN\"\r\n  \"http://www.w3.org/Graphics/SVG/1.1/DTD/svg11.dtd\">\r\n<!-- Created with matplotlib (https://matplotlib.org/) -->\r\n<svg height=\"262.19625pt\" version=\"1.1\" viewBox=\"0 0 385.78125 262.19625\" width=\"385.78125pt\" xmlns=\"http://www.w3.org/2000/svg\" xmlns:xlink=\"http://www.w3.org/1999/xlink\">\r\n <metadata>\r\n  <rdf:RDF xmlns:cc=\"http://creativecommons.org/ns#\" xmlns:dc=\"http://purl.org/dc/elements/1.1/\" xmlns:rdf=\"http://www.w3.org/1999/02/22-rdf-syntax-ns#\">\r\n   <cc:Work>\r\n    <dc:type rdf:resource=\"http://purl.org/dc/dcmitype/StillImage\"/>\r\n    <dc:date>2021-05-30T13:30:42.617410</dc:date>\r\n    <dc:format>image/svg+xml</dc:format>\r\n    <dc:creator>\r\n     <cc:Agent>\r\n      <dc:title>Matplotlib v3.3.2, https://matplotlib.org/</dc:title>\r\n     </cc:Agent>\r\n    </dc:creator>\r\n   </cc:Work>\r\n  </rdf:RDF>\r\n </metadata>\r\n <defs>\r\n  <style type=\"text/css\">*{stroke-linecap:butt;stroke-linejoin:round;}</style>\r\n </defs>\r\n <g id=\"figure_1\">\r\n  <g id=\"patch_1\">\r\n   <path d=\"M 0 262.19625 \r\nL 385.78125 262.19625 \r\nL 385.78125 0 \r\nL 0 0 \r\nz\r\n\" style=\"fill:none;\"/>\r\n  </g>\r\n  <g id=\"axes_1\">\r\n   <g id=\"patch_2\">\r\n    <path d=\"M 43.78125 224.64 \r\nL 378.58125 224.64 \r\nL 378.58125 7.2 \r\nL 43.78125 7.2 \r\nz\r\n\" style=\"fill:#ffffff;\"/>\r\n   </g>\r\n   <g id=\"PathCollection_1\">\r\n    <defs>\r\n     <path d=\"M 0 3 \r\nC 0.795609 3 1.55874 2.683901 2.12132 2.12132 \r\nC 2.683901 1.55874 3 0.795609 3 0 \r\nC 3 -0.795609 2.683901 -1.55874 2.12132 -2.12132 \r\nC 1.55874 -2.683901 0.795609 -3 0 -3 \r\nC -0.795609 -3 -1.55874 -2.683901 -2.12132 -2.12132 \r\nC -2.683901 -1.55874 -3 -0.795609 -3 0 \r\nC -3 0.795609 -2.683901 1.55874 -2.12132 2.12132 \r\nC -1.55874 2.683901 -0.795609 3 0 3 \r\nz\r\n\" id=\"me37eefa7a9\" style=\"stroke:#ff0000;\"/>\r\n    </defs>\r\n    <g clip-path=\"url(#p7fdcca93eb)\">\r\n     <use style=\"fill:#ff0000;stroke:#ff0000;\" x=\"363.363068\" xlink:href=\"#me37eefa7a9\" y=\"171.642682\"/>\r\n    </g>\r\n   </g>\r\n   <g id=\"PathCollection_2\">\r\n    <g clip-path=\"url(#p7fdcca93eb)\">\r\n     <use style=\"fill:#ff0000;stroke:#ff0000;\" x=\"361.141177\" xlink:href=\"#me37eefa7a9\" y=\"201.419726\"/>\r\n    </g>\r\n   </g>\r\n   <g id=\"PathCollection_3\">\r\n    <g clip-path=\"url(#p7fdcca93eb)\">\r\n     <use style=\"fill:#ff0000;stroke:#ff0000;\" x=\"239.516272\" xlink:href=\"#me37eefa7a9\" y=\"179.059483\"/>\r\n    </g>\r\n   </g>\r\n   <g id=\"PathCollection_4\">\r\n    <g clip-path=\"url(#p7fdcca93eb)\">\r\n     <use style=\"fill:#ff0000;stroke:#ff0000;\" x=\"234.422468\" xlink:href=\"#me37eefa7a9\" y=\"190.742388\"/>\r\n    </g>\r\n   </g>\r\n   <g id=\"PathCollection_5\">\r\n    <g clip-path=\"url(#p7fdcca93eb)\">\r\n     <use style=\"fill:#ff0000;stroke:#ff0000;\" x=\"194.664798\" xlink:href=\"#me37eefa7a9\" y=\"175.883287\"/>\r\n    </g>\r\n   </g>\r\n   <g id=\"PathCollection_6\">\r\n    <g clip-path=\"url(#p7fdcca93eb)\">\r\n     <use style=\"fill:#ff0000;stroke:#ff0000;\" x=\"172.374975\" xlink:href=\"#me37eefa7a9\" y=\"181.358618\"/>\r\n    </g>\r\n   </g>\r\n   <g id=\"PathCollection_7\">\r\n    <g clip-path=\"url(#p7fdcca93eb)\">\r\n     <use style=\"fill:#ff0000;stroke:#ff0000;\" x=\"146.492306\" xlink:href=\"#me37eefa7a9\" y=\"132.593093\"/>\r\n    </g>\r\n   </g>\r\n   <g id=\"PathCollection_8\">\r\n    <g clip-path=\"url(#p7fdcca93eb)\">\r\n     <use style=\"fill:#ff0000;stroke:#ff0000;\" x=\"141.729423\" xlink:href=\"#me37eefa7a9\" y=\"151.200625\"/>\r\n    </g>\r\n   </g>\r\n   <g id=\"PathCollection_9\">\r\n    <g clip-path=\"url(#p7fdcca93eb)\">\r\n     <use style=\"fill:#ff0000;stroke:#ff0000;\" x=\"140.417561\" xlink:href=\"#me37eefa7a9\" y=\"176.949772\"/>\r\n    </g>\r\n   </g>\r\n   <g id=\"PathCollection_10\">\r\n    <g clip-path=\"url(#p7fdcca93eb)\">\r\n     <use style=\"fill:#ff0000;stroke:#ff0000;\" x=\"124.273395\" xlink:href=\"#me37eefa7a9\" y=\"202.078265\"/>\r\n    </g>\r\n   </g>\r\n   <g id=\"PathCollection_11\">\r\n    <g clip-path=\"url(#p7fdcca93eb)\">\r\n     <use style=\"fill:#ff0000;stroke:#ff0000;\" x=\"115.941303\" xlink:href=\"#me37eefa7a9\" y=\"198.572315\"/>\r\n    </g>\r\n   </g>\r\n   <g id=\"PathCollection_12\">\r\n    <g clip-path=\"url(#p7fdcca93eb)\">\r\n     <use style=\"fill:#ff0000;stroke:#ff0000;\" x=\"113.140302\" xlink:href=\"#me37eefa7a9\" y=\"183.964223\"/>\r\n    </g>\r\n   </g>\r\n   <g id=\"PathCollection_13\">\r\n    <g clip-path=\"url(#p7fdcca93eb)\">\r\n     <use style=\"fill:#ff0000;stroke:#ff0000;\" x=\"113.140302\" xlink:href=\"#me37eefa7a9\" y=\"186.897797\"/>\r\n    </g>\r\n   </g>\r\n   <g id=\"PathCollection_14\">\r\n    <g clip-path=\"url(#p7fdcca93eb)\">\r\n     <use style=\"fill:#ff0000;stroke:#ff0000;\" x=\"108.980165\" xlink:href=\"#me37eefa7a9\" y=\"186.192027\"/>\r\n    </g>\r\n   </g>\r\n   <g id=\"PathCollection_15\">\r\n    <g clip-path=\"url(#p7fdcca93eb)\">\r\n     <use style=\"fill:#ff0000;stroke:#ff0000;\" x=\"97.338873\" xlink:href=\"#me37eefa7a9\" y=\"153.384825\"/>\r\n    </g>\r\n   </g>\r\n   <g id=\"PathCollection_16\">\r\n    <g clip-path=\"url(#p7fdcca93eb)\">\r\n     <use style=\"fill:#ff0000;stroke:#ff0000;\" x=\"93.935125\" xlink:href=\"#me37eefa7a9\" y=\"164.484197\"/>\r\n    </g>\r\n   </g>\r\n   <g id=\"PathCollection_17\">\r\n    <g clip-path=\"url(#p7fdcca93eb)\">\r\n     <use style=\"fill:#ff0000;stroke:#ff0000;\" x=\"93.828758\" xlink:href=\"#me37eefa7a9\" y=\"17.083636\"/>\r\n    </g>\r\n   </g>\r\n   <g id=\"PathCollection_18\">\r\n    <g clip-path=\"url(#p7fdcca93eb)\">\r\n     <use style=\"fill:#ff0000;stroke:#ff0000;\" x=\"93.403289\" xlink:href=\"#me37eefa7a9\" y=\"154.716621\"/>\r\n    </g>\r\n   </g>\r\n   <g id=\"PathCollection_19\">\r\n    <g clip-path=\"url(#p7fdcca93eb)\">\r\n     <use style=\"fill:#ff0000;stroke:#ff0000;\" x=\"92.351437\" xlink:href=\"#me37eefa7a9\" y=\"212.638839\"/>\r\n    </g>\r\n   </g>\r\n   <g id=\"PathCollection_20\">\r\n    <g clip-path=\"url(#p7fdcca93eb)\">\r\n     <use style=\"fill:#ff0000;stroke:#ff0000;\" x=\"82.991129\" xlink:href=\"#me37eefa7a9\" y=\"127.098311\"/>\r\n    </g>\r\n   </g>\r\n   <g id=\"PathCollection_21\">\r\n    <g clip-path=\"url(#p7fdcca93eb)\">\r\n     <use style=\"fill:#ff0000;stroke:#ff0000;\" x=\"72.661699\" xlink:href=\"#me37eefa7a9\" y=\"152.418316\"/>\r\n    </g>\r\n   </g>\r\n   <g id=\"PathCollection_22\">\r\n    <g clip-path=\"url(#p7fdcca93eb)\">\r\n     <use style=\"fill:#ff0000;stroke:#ff0000;\" x=\"72.661699\" xlink:href=\"#me37eefa7a9\" y=\"199.347883\"/>\r\n    </g>\r\n   </g>\r\n   <g id=\"PathCollection_23\">\r\n    <g clip-path=\"url(#p7fdcca93eb)\">\r\n     <use style=\"fill:#ff0000;stroke:#ff0000;\" x=\"65.29873\" xlink:href=\"#me37eefa7a9\" y=\"191.275255\"/>\r\n    </g>\r\n   </g>\r\n   <g id=\"PathCollection_24\">\r\n    <g clip-path=\"url(#p7fdcca93eb)\">\r\n     <use style=\"fill:#ff0000;stroke:#ff0000;\" x=\"65.29873\" xlink:href=\"#me37eefa7a9\" y=\"152.986383\"/>\r\n    </g>\r\n   </g>\r\n   <g id=\"PathCollection_25\">\r\n    <g clip-path=\"url(#p7fdcca93eb)\">\r\n     <use style=\"fill:#ff0000;stroke:#ff0000;\" x=\"64.3887\" xlink:href=\"#me37eefa7a9\" y=\"140.864428\"/>\r\n    </g>\r\n   </g>\r\n   <g id=\"PathCollection_26\">\r\n    <g clip-path=\"url(#p7fdcca93eb)\">\r\n     <use style=\"fill:#ff0000;stroke:#ff0000;\" x=\"64.30597\" xlink:href=\"#me37eefa7a9\" y=\"214.756364\"/>\r\n    </g>\r\n   </g>\r\n   <g id=\"PathCollection_27\">\r\n    <g clip-path=\"url(#p7fdcca93eb)\">\r\n     <use style=\"fill:#ff0000;stroke:#ff0000;\" x=\"59.17671\" xlink:href=\"#me37eefa7a9\" y=\"189.198448\"/>\r\n    </g>\r\n   </g>\r\n   <g id=\"PathCollection_28\">\r\n    <g clip-path=\"url(#p7fdcca93eb)\">\r\n     <use style=\"fill:#ff0000;stroke:#ff0000;\" x=\"58.999432\" xlink:href=\"#me37eefa7a9\" y=\"104.083011\"/>\r\n    </g>\r\n   </g>\r\n   <g id=\"matplotlib.axis_1\">\r\n    <g id=\"xtick_1\">\r\n     <g id=\"line2d_1\">\r\n      <defs>\r\n       <path d=\"M 0 0 \r\nL 0 3.5 \r\n\" id=\"md242a04f30\" style=\"stroke:#000000;stroke-width:0.8;\"/>\r\n      </defs>\r\n      <g>\r\n       <use style=\"stroke:#000000;stroke-width:0.8;\" x=\"49.358433\" xlink:href=\"#md242a04f30\" y=\"224.64\"/>\r\n      </g>\r\n     </g>\r\n     <g id=\"text_1\">\r\n      <!-- 0.025 -->\r\n      <g transform=\"translate(35.044371 239.238437)scale(0.1 -0.1)\">\r\n       <defs>\r\n        <path d=\"M 31.78125 66.40625 \r\nQ 24.171875 66.40625 20.328125 58.90625 \r\nQ 16.5 51.421875 16.5 36.375 \r\nQ 16.5 21.390625 20.328125 13.890625 \r\nQ 24.171875 6.390625 31.78125 6.390625 \r\nQ 39.453125 6.390625 43.28125 13.890625 \r\nQ 47.125 21.390625 47.125 36.375 \r\nQ 47.125 51.421875 43.28125 58.90625 \r\nQ 39.453125 66.40625 31.78125 66.40625 \r\nz\r\nM 31.78125 74.21875 \r\nQ 44.046875 74.21875 50.515625 64.515625 \r\nQ 56.984375 54.828125 56.984375 36.375 \r\nQ 56.984375 17.96875 50.515625 8.265625 \r\nQ 44.046875 -1.421875 31.78125 -1.421875 \r\nQ 19.53125 -1.421875 13.0625 8.265625 \r\nQ 6.59375 17.96875 6.59375 36.375 \r\nQ 6.59375 54.828125 13.0625 64.515625 \r\nQ 19.53125 74.21875 31.78125 74.21875 \r\nz\r\n\" id=\"DejaVuSans-48\"/>\r\n        <path d=\"M 10.6875 12.40625 \r\nL 21 12.40625 \r\nL 21 0 \r\nL 10.6875 0 \r\nz\r\n\" id=\"DejaVuSans-46\"/>\r\n        <path d=\"M 19.1875 8.296875 \r\nL 53.609375 8.296875 \r\nL 53.609375 0 \r\nL 7.328125 0 \r\nL 7.328125 8.296875 \r\nQ 12.9375 14.109375 22.625 23.890625 \r\nQ 32.328125 33.6875 34.8125 36.53125 \r\nQ 39.546875 41.84375 41.421875 45.53125 \r\nQ 43.3125 49.21875 43.3125 52.78125 \r\nQ 43.3125 58.59375 39.234375 62.25 \r\nQ 35.15625 65.921875 28.609375 65.921875 \r\nQ 23.96875 65.921875 18.8125 64.3125 \r\nQ 13.671875 62.703125 7.8125 59.421875 \r\nL 7.8125 69.390625 \r\nQ 13.765625 71.78125 18.9375 73 \r\nQ 24.125 74.21875 28.421875 74.21875 \r\nQ 39.75 74.21875 46.484375 68.546875 \r\nQ 53.21875 62.890625 53.21875 53.421875 \r\nQ 53.21875 48.921875 51.53125 44.890625 \r\nQ 49.859375 40.875 45.40625 35.40625 \r\nQ 44.1875 33.984375 37.640625 27.21875 \r\nQ 31.109375 20.453125 19.1875 8.296875 \r\nz\r\n\" id=\"DejaVuSans-50\"/>\r\n        <path d=\"M 10.796875 72.90625 \r\nL 49.515625 72.90625 \r\nL 49.515625 64.59375 \r\nL 19.828125 64.59375 \r\nL 19.828125 46.734375 \r\nQ 21.96875 47.46875 24.109375 47.828125 \r\nQ 26.265625 48.1875 28.421875 48.1875 \r\nQ 40.625 48.1875 47.75 41.5 \r\nQ 54.890625 34.8125 54.890625 23.390625 \r\nQ 54.890625 11.625 47.5625 5.09375 \r\nQ 40.234375 -1.421875 26.90625 -1.421875 \r\nQ 22.3125 -1.421875 17.546875 -0.640625 \r\nQ 12.796875 0.140625 7.71875 1.703125 \r\nL 7.71875 11.625 \r\nQ 12.109375 9.234375 16.796875 8.0625 \r\nQ 21.484375 6.890625 26.703125 6.890625 \r\nQ 35.15625 6.890625 40.078125 11.328125 \r\nQ 45.015625 15.765625 45.015625 23.390625 \r\nQ 45.015625 31 40.078125 35.4375 \r\nQ 35.15625 39.890625 26.703125 39.890625 \r\nQ 22.75 39.890625 18.8125 39.015625 \r\nQ 14.890625 38.140625 10.796875 36.28125 \r\nz\r\n\" id=\"DejaVuSans-53\"/>\r\n       </defs>\r\n       <use xlink:href=\"#DejaVuSans-48\"/>\r\n       <use x=\"63.623047\" xlink:href=\"#DejaVuSans-46\"/>\r\n       <use x=\"95.410156\" xlink:href=\"#DejaVuSans-48\"/>\r\n       <use x=\"159.033203\" xlink:href=\"#DejaVuSans-50\"/>\r\n       <use x=\"222.65625\" xlink:href=\"#DejaVuSans-53\"/>\r\n      </g>\r\n     </g>\r\n    </g>\r\n    <g id=\"xtick_2\">\r\n     <g id=\"line2d_2\">\r\n      <g>\r\n       <use style=\"stroke:#000000;stroke-width:0.8;\" x=\"93.952853\" xlink:href=\"#md242a04f30\" y=\"224.64\"/>\r\n      </g>\r\n     </g>\r\n     <g id=\"text_2\">\r\n      <!-- 0.050 -->\r\n      <g transform=\"translate(79.63879 239.238437)scale(0.1 -0.1)\">\r\n       <use xlink:href=\"#DejaVuSans-48\"/>\r\n       <use x=\"63.623047\" xlink:href=\"#DejaVuSans-46\"/>\r\n       <use x=\"95.410156\" xlink:href=\"#DejaVuSans-48\"/>\r\n       <use x=\"159.033203\" xlink:href=\"#DejaVuSans-53\"/>\r\n       <use x=\"222.65625\" xlink:href=\"#DejaVuSans-48\"/>\r\n      </g>\r\n     </g>\r\n    </g>\r\n    <g id=\"xtick_3\">\r\n     <g id=\"line2d_3\">\r\n      <g>\r\n       <use style=\"stroke:#000000;stroke-width:0.8;\" x=\"138.547273\" xlink:href=\"#md242a04f30\" y=\"224.64\"/>\r\n      </g>\r\n     </g>\r\n     <g id=\"text_3\">\r\n      <!-- 0.075 -->\r\n      <g transform=\"translate(124.23321 239.238437)scale(0.1 -0.1)\">\r\n       <defs>\r\n        <path d=\"M 8.203125 72.90625 \r\nL 55.078125 72.90625 \r\nL 55.078125 68.703125 \r\nL 28.609375 0 \r\nL 18.3125 0 \r\nL 43.21875 64.59375 \r\nL 8.203125 64.59375 \r\nz\r\n\" id=\"DejaVuSans-55\"/>\r\n       </defs>\r\n       <use xlink:href=\"#DejaVuSans-48\"/>\r\n       <use x=\"63.623047\" xlink:href=\"#DejaVuSans-46\"/>\r\n       <use x=\"95.410156\" xlink:href=\"#DejaVuSans-48\"/>\r\n       <use x=\"159.033203\" xlink:href=\"#DejaVuSans-55\"/>\r\n       <use x=\"222.65625\" xlink:href=\"#DejaVuSans-53\"/>\r\n      </g>\r\n     </g>\r\n    </g>\r\n    <g id=\"xtick_4\">\r\n     <g id=\"line2d_4\">\r\n      <g>\r\n       <use style=\"stroke:#000000;stroke-width:0.8;\" x=\"183.141692\" xlink:href=\"#md242a04f30\" y=\"224.64\"/>\r\n      </g>\r\n     </g>\r\n     <g id=\"text_4\">\r\n      <!-- 0.100 -->\r\n      <g transform=\"translate(168.82763 239.238437)scale(0.1 -0.1)\">\r\n       <defs>\r\n        <path d=\"M 12.40625 8.296875 \r\nL 28.515625 8.296875 \r\nL 28.515625 63.921875 \r\nL 10.984375 60.40625 \r\nL 10.984375 69.390625 \r\nL 28.421875 72.90625 \r\nL 38.28125 72.90625 \r\nL 38.28125 8.296875 \r\nL 54.390625 8.296875 \r\nL 54.390625 0 \r\nL 12.40625 0 \r\nz\r\n\" id=\"DejaVuSans-49\"/>\r\n       </defs>\r\n       <use xlink:href=\"#DejaVuSans-48\"/>\r\n       <use x=\"63.623047\" xlink:href=\"#DejaVuSans-46\"/>\r\n       <use x=\"95.410156\" xlink:href=\"#DejaVuSans-49\"/>\r\n       <use x=\"159.033203\" xlink:href=\"#DejaVuSans-48\"/>\r\n       <use x=\"222.65625\" xlink:href=\"#DejaVuSans-48\"/>\r\n      </g>\r\n     </g>\r\n    </g>\r\n    <g id=\"xtick_5\">\r\n     <g id=\"line2d_5\">\r\n      <g>\r\n       <use style=\"stroke:#000000;stroke-width:0.8;\" x=\"227.736112\" xlink:href=\"#md242a04f30\" y=\"224.64\"/>\r\n      </g>\r\n     </g>\r\n     <g id=\"text_5\">\r\n      <!-- 0.125 -->\r\n      <g transform=\"translate(213.42205 239.238437)scale(0.1 -0.1)\">\r\n       <use xlink:href=\"#DejaVuSans-48\"/>\r\n       <use x=\"63.623047\" xlink:href=\"#DejaVuSans-46\"/>\r\n       <use x=\"95.410156\" xlink:href=\"#DejaVuSans-49\"/>\r\n       <use x=\"159.033203\" xlink:href=\"#DejaVuSans-50\"/>\r\n       <use x=\"222.65625\" xlink:href=\"#DejaVuSans-53\"/>\r\n      </g>\r\n     </g>\r\n    </g>\r\n    <g id=\"xtick_6\">\r\n     <g id=\"line2d_6\">\r\n      <g>\r\n       <use style=\"stroke:#000000;stroke-width:0.8;\" x=\"272.330532\" xlink:href=\"#md242a04f30\" y=\"224.64\"/>\r\n      </g>\r\n     </g>\r\n     <g id=\"text_6\">\r\n      <!-- 0.150 -->\r\n      <g transform=\"translate(258.016469 239.238437)scale(0.1 -0.1)\">\r\n       <use xlink:href=\"#DejaVuSans-48\"/>\r\n       <use x=\"63.623047\" xlink:href=\"#DejaVuSans-46\"/>\r\n       <use x=\"95.410156\" xlink:href=\"#DejaVuSans-49\"/>\r\n       <use x=\"159.033203\" xlink:href=\"#DejaVuSans-53\"/>\r\n       <use x=\"222.65625\" xlink:href=\"#DejaVuSans-48\"/>\r\n      </g>\r\n     </g>\r\n    </g>\r\n    <g id=\"xtick_7\">\r\n     <g id=\"line2d_7\">\r\n      <g>\r\n       <use style=\"stroke:#000000;stroke-width:0.8;\" x=\"316.924952\" xlink:href=\"#md242a04f30\" y=\"224.64\"/>\r\n      </g>\r\n     </g>\r\n     <g id=\"text_7\">\r\n      <!-- 0.175 -->\r\n      <g transform=\"translate(302.610889 239.238437)scale(0.1 -0.1)\">\r\n       <use xlink:href=\"#DejaVuSans-48\"/>\r\n       <use x=\"63.623047\" xlink:href=\"#DejaVuSans-46\"/>\r\n       <use x=\"95.410156\" xlink:href=\"#DejaVuSans-49\"/>\r\n       <use x=\"159.033203\" xlink:href=\"#DejaVuSans-55\"/>\r\n       <use x=\"222.65625\" xlink:href=\"#DejaVuSans-53\"/>\r\n      </g>\r\n     </g>\r\n    </g>\r\n    <g id=\"xtick_8\">\r\n     <g id=\"line2d_8\">\r\n      <g>\r\n       <use style=\"stroke:#000000;stroke-width:0.8;\" x=\"361.519371\" xlink:href=\"#md242a04f30\" y=\"224.64\"/>\r\n      </g>\r\n     </g>\r\n     <g id=\"text_8\">\r\n      <!-- 0.200 -->\r\n      <g transform=\"translate(347.205309 239.238437)scale(0.1 -0.1)\">\r\n       <use xlink:href=\"#DejaVuSans-48\"/>\r\n       <use x=\"63.623047\" xlink:href=\"#DejaVuSans-46\"/>\r\n       <use x=\"95.410156\" xlink:href=\"#DejaVuSans-50\"/>\r\n       <use x=\"159.033203\" xlink:href=\"#DejaVuSans-48\"/>\r\n       <use x=\"222.65625\" xlink:href=\"#DejaVuSans-48\"/>\r\n      </g>\r\n     </g>\r\n    </g>\r\n    <g id=\"text_9\">\r\n     <!-- support -->\r\n     <g transform=\"translate(191.984375 252.916562)scale(0.1 -0.1)\">\r\n      <defs>\r\n       <path d=\"M 44.28125 53.078125 \r\nL 44.28125 44.578125 \r\nQ 40.484375 46.53125 36.375 47.5 \r\nQ 32.28125 48.484375 27.875 48.484375 \r\nQ 21.1875 48.484375 17.84375 46.4375 \r\nQ 14.5 44.390625 14.5 40.28125 \r\nQ 14.5 37.15625 16.890625 35.375 \r\nQ 19.28125 33.59375 26.515625 31.984375 \r\nL 29.59375 31.296875 \r\nQ 39.15625 29.25 43.1875 25.515625 \r\nQ 47.21875 21.78125 47.21875 15.09375 \r\nQ 47.21875 7.46875 41.1875 3.015625 \r\nQ 35.15625 -1.421875 24.609375 -1.421875 \r\nQ 20.21875 -1.421875 15.453125 -0.5625 \r\nQ 10.6875 0.296875 5.421875 2 \r\nL 5.421875 11.28125 \r\nQ 10.40625 8.6875 15.234375 7.390625 \r\nQ 20.0625 6.109375 24.8125 6.109375 \r\nQ 31.15625 6.109375 34.5625 8.28125 \r\nQ 37.984375 10.453125 37.984375 14.40625 \r\nQ 37.984375 18.0625 35.515625 20.015625 \r\nQ 33.0625 21.96875 24.703125 23.78125 \r\nL 21.578125 24.515625 \r\nQ 13.234375 26.265625 9.515625 29.90625 \r\nQ 5.8125 33.546875 5.8125 39.890625 \r\nQ 5.8125 47.609375 11.28125 51.796875 \r\nQ 16.75 56 26.8125 56 \r\nQ 31.78125 56 36.171875 55.265625 \r\nQ 40.578125 54.546875 44.28125 53.078125 \r\nz\r\n\" id=\"DejaVuSans-115\"/>\r\n       <path d=\"M 8.5 21.578125 \r\nL 8.5 54.6875 \r\nL 17.484375 54.6875 \r\nL 17.484375 21.921875 \r\nQ 17.484375 14.15625 20.5 10.265625 \r\nQ 23.53125 6.390625 29.59375 6.390625 \r\nQ 36.859375 6.390625 41.078125 11.03125 \r\nQ 45.3125 15.671875 45.3125 23.6875 \r\nL 45.3125 54.6875 \r\nL 54.296875 54.6875 \r\nL 54.296875 0 \r\nL 45.3125 0 \r\nL 45.3125 8.40625 \r\nQ 42.046875 3.421875 37.71875 1 \r\nQ 33.40625 -1.421875 27.6875 -1.421875 \r\nQ 18.265625 -1.421875 13.375 4.4375 \r\nQ 8.5 10.296875 8.5 21.578125 \r\nz\r\nM 31.109375 56 \r\nz\r\n\" id=\"DejaVuSans-117\"/>\r\n       <path d=\"M 18.109375 8.203125 \r\nL 18.109375 -20.796875 \r\nL 9.078125 -20.796875 \r\nL 9.078125 54.6875 \r\nL 18.109375 54.6875 \r\nL 18.109375 46.390625 \r\nQ 20.953125 51.265625 25.265625 53.625 \r\nQ 29.59375 56 35.59375 56 \r\nQ 45.5625 56 51.78125 48.09375 \r\nQ 58.015625 40.1875 58.015625 27.296875 \r\nQ 58.015625 14.40625 51.78125 6.484375 \r\nQ 45.5625 -1.421875 35.59375 -1.421875 \r\nQ 29.59375 -1.421875 25.265625 0.953125 \r\nQ 20.953125 3.328125 18.109375 8.203125 \r\nz\r\nM 48.6875 27.296875 \r\nQ 48.6875 37.203125 44.609375 42.84375 \r\nQ 40.53125 48.484375 33.40625 48.484375 \r\nQ 26.265625 48.484375 22.1875 42.84375 \r\nQ 18.109375 37.203125 18.109375 27.296875 \r\nQ 18.109375 17.390625 22.1875 11.75 \r\nQ 26.265625 6.109375 33.40625 6.109375 \r\nQ 40.53125 6.109375 44.609375 11.75 \r\nQ 48.6875 17.390625 48.6875 27.296875 \r\nz\r\n\" id=\"DejaVuSans-112\"/>\r\n       <path d=\"M 30.609375 48.390625 \r\nQ 23.390625 48.390625 19.1875 42.75 \r\nQ 14.984375 37.109375 14.984375 27.296875 \r\nQ 14.984375 17.484375 19.15625 11.84375 \r\nQ 23.34375 6.203125 30.609375 6.203125 \r\nQ 37.796875 6.203125 41.984375 11.859375 \r\nQ 46.1875 17.53125 46.1875 27.296875 \r\nQ 46.1875 37.015625 41.984375 42.703125 \r\nQ 37.796875 48.390625 30.609375 48.390625 \r\nz\r\nM 30.609375 56 \r\nQ 42.328125 56 49.015625 48.375 \r\nQ 55.71875 40.765625 55.71875 27.296875 \r\nQ 55.71875 13.875 49.015625 6.21875 \r\nQ 42.328125 -1.421875 30.609375 -1.421875 \r\nQ 18.84375 -1.421875 12.171875 6.21875 \r\nQ 5.515625 13.875 5.515625 27.296875 \r\nQ 5.515625 40.765625 12.171875 48.375 \r\nQ 18.84375 56 30.609375 56 \r\nz\r\n\" id=\"DejaVuSans-111\"/>\r\n       <path d=\"M 41.109375 46.296875 \r\nQ 39.59375 47.171875 37.8125 47.578125 \r\nQ 36.03125 48 33.890625 48 \r\nQ 26.265625 48 22.1875 43.046875 \r\nQ 18.109375 38.09375 18.109375 28.8125 \r\nL 18.109375 0 \r\nL 9.078125 0 \r\nL 9.078125 54.6875 \r\nL 18.109375 54.6875 \r\nL 18.109375 46.1875 \r\nQ 20.953125 51.171875 25.484375 53.578125 \r\nQ 30.03125 56 36.53125 56 \r\nQ 37.453125 56 38.578125 55.875 \r\nQ 39.703125 55.765625 41.0625 55.515625 \r\nz\r\n\" id=\"DejaVuSans-114\"/>\r\n       <path d=\"M 18.3125 70.21875 \r\nL 18.3125 54.6875 \r\nL 36.8125 54.6875 \r\nL 36.8125 47.703125 \r\nL 18.3125 47.703125 \r\nL 18.3125 18.015625 \r\nQ 18.3125 11.328125 20.140625 9.421875 \r\nQ 21.96875 7.515625 27.59375 7.515625 \r\nL 36.8125 7.515625 \r\nL 36.8125 0 \r\nL 27.59375 0 \r\nQ 17.1875 0 13.234375 3.875 \r\nQ 9.28125 7.765625 9.28125 18.015625 \r\nL 9.28125 47.703125 \r\nL 2.6875 47.703125 \r\nL 2.6875 54.6875 \r\nL 9.28125 54.6875 \r\nL 9.28125 70.21875 \r\nz\r\n\" id=\"DejaVuSans-116\"/>\r\n      </defs>\r\n      <use xlink:href=\"#DejaVuSans-115\"/>\r\n      <use x=\"52.099609\" xlink:href=\"#DejaVuSans-117\"/>\r\n      <use x=\"115.478516\" xlink:href=\"#DejaVuSans-112\"/>\r\n      <use x=\"178.955078\" xlink:href=\"#DejaVuSans-112\"/>\r\n      <use x=\"242.431641\" xlink:href=\"#DejaVuSans-111\"/>\r\n      <use x=\"303.613281\" xlink:href=\"#DejaVuSans-114\"/>\r\n      <use x=\"344.726562\" xlink:href=\"#DejaVuSans-116\"/>\r\n     </g>\r\n    </g>\r\n   </g>\r\n   <g id=\"matplotlib.axis_2\">\r\n    <g id=\"ytick_1\">\r\n     <g id=\"line2d_9\">\r\n      <defs>\r\n       <path d=\"M 0 0 \r\nL -3.5 0 \r\n\" id=\"m139f159558\" style=\"stroke:#000000;stroke-width:0.8;\"/>\r\n      </defs>\r\n      <g>\r\n       <use style=\"stroke:#000000;stroke-width:0.8;\" x=\"43.78125\" xlink:href=\"#m139f159558\" y=\"194.173618\"/>\r\n      </g>\r\n     </g>\r\n     <g id=\"text_10\">\r\n      <!-- 1.0 -->\r\n      <g transform=\"translate(20.878125 197.972837)scale(0.1 -0.1)\">\r\n       <use xlink:href=\"#DejaVuSans-49\"/>\r\n       <use x=\"63.623047\" xlink:href=\"#DejaVuSans-46\"/>\r\n       <use x=\"95.410156\" xlink:href=\"#DejaVuSans-48\"/>\r\n      </g>\r\n     </g>\r\n    </g>\r\n    <g id=\"ytick_2\">\r\n     <g id=\"line2d_10\">\r\n      <g>\r\n       <use style=\"stroke:#000000;stroke-width:0.8;\" x=\"43.78125\" xlink:href=\"#m139f159558\" y=\"150.424702\"/>\r\n      </g>\r\n     </g>\r\n     <g id=\"text_11\">\r\n      <!-- 1.5 -->\r\n      <g transform=\"translate(20.878125 154.223921)scale(0.1 -0.1)\">\r\n       <use xlink:href=\"#DejaVuSans-49\"/>\r\n       <use x=\"63.623047\" xlink:href=\"#DejaVuSans-46\"/>\r\n       <use x=\"95.410156\" xlink:href=\"#DejaVuSans-53\"/>\r\n      </g>\r\n     </g>\r\n    </g>\r\n    <g id=\"ytick_3\">\r\n     <g id=\"line2d_11\">\r\n      <g>\r\n       <use style=\"stroke:#000000;stroke-width:0.8;\" x=\"43.78125\" xlink:href=\"#m139f159558\" y=\"106.675787\"/>\r\n      </g>\r\n     </g>\r\n     <g id=\"text_12\">\r\n      <!-- 2.0 -->\r\n      <g transform=\"translate(20.878125 110.475006)scale(0.1 -0.1)\">\r\n       <use xlink:href=\"#DejaVuSans-50\"/>\r\n       <use x=\"63.623047\" xlink:href=\"#DejaVuSans-46\"/>\r\n       <use x=\"95.410156\" xlink:href=\"#DejaVuSans-48\"/>\r\n      </g>\r\n     </g>\r\n    </g>\r\n    <g id=\"ytick_4\">\r\n     <g id=\"line2d_12\">\r\n      <g>\r\n       <use style=\"stroke:#000000;stroke-width:0.8;\" x=\"43.78125\" xlink:href=\"#m139f159558\" y=\"62.926871\"/>\r\n      </g>\r\n     </g>\r\n     <g id=\"text_13\">\r\n      <!-- 2.5 -->\r\n      <g transform=\"translate(20.878125 66.72609)scale(0.1 -0.1)\">\r\n       <use xlink:href=\"#DejaVuSans-50\"/>\r\n       <use x=\"63.623047\" xlink:href=\"#DejaVuSans-46\"/>\r\n       <use x=\"95.410156\" xlink:href=\"#DejaVuSans-53\"/>\r\n      </g>\r\n     </g>\r\n    </g>\r\n    <g id=\"ytick_5\">\r\n     <g id=\"line2d_13\">\r\n      <g>\r\n       <use style=\"stroke:#000000;stroke-width:0.8;\" x=\"43.78125\" xlink:href=\"#m139f159558\" y=\"19.177956\"/>\r\n      </g>\r\n     </g>\r\n     <g id=\"text_14\">\r\n      <!-- 3.0 -->\r\n      <g transform=\"translate(20.878125 22.977175)scale(0.1 -0.1)\">\r\n       <defs>\r\n        <path d=\"M 40.578125 39.3125 \r\nQ 47.65625 37.796875 51.625 33 \r\nQ 55.609375 28.21875 55.609375 21.1875 \r\nQ 55.609375 10.40625 48.1875 4.484375 \r\nQ 40.765625 -1.421875 27.09375 -1.421875 \r\nQ 22.515625 -1.421875 17.65625 -0.515625 \r\nQ 12.796875 0.390625 7.625 2.203125 \r\nL 7.625 11.71875 \r\nQ 11.71875 9.328125 16.59375 8.109375 \r\nQ 21.484375 6.890625 26.8125 6.890625 \r\nQ 36.078125 6.890625 40.9375 10.546875 \r\nQ 45.796875 14.203125 45.796875 21.1875 \r\nQ 45.796875 27.640625 41.28125 31.265625 \r\nQ 36.765625 34.90625 28.71875 34.90625 \r\nL 20.21875 34.90625 \r\nL 20.21875 43.015625 \r\nL 29.109375 43.015625 \r\nQ 36.375 43.015625 40.234375 45.921875 \r\nQ 44.09375 48.828125 44.09375 54.296875 \r\nQ 44.09375 59.90625 40.109375 62.90625 \r\nQ 36.140625 65.921875 28.71875 65.921875 \r\nQ 24.65625 65.921875 20.015625 65.03125 \r\nQ 15.375 64.15625 9.8125 62.3125 \r\nL 9.8125 71.09375 \r\nQ 15.4375 72.65625 20.34375 73.4375 \r\nQ 25.25 74.21875 29.59375 74.21875 \r\nQ 40.828125 74.21875 47.359375 69.109375 \r\nQ 53.90625 64.015625 53.90625 55.328125 \r\nQ 53.90625 49.265625 50.4375 45.09375 \r\nQ 46.96875 40.921875 40.578125 39.3125 \r\nz\r\n\" id=\"DejaVuSans-51\"/>\r\n       </defs>\r\n       <use xlink:href=\"#DejaVuSans-51\"/>\r\n       <use x=\"63.623047\" xlink:href=\"#DejaVuSans-46\"/>\r\n       <use x=\"95.410156\" xlink:href=\"#DejaVuSans-48\"/>\r\n      </g>\r\n     </g>\r\n    </g>\r\n    <g id=\"text_15\">\r\n     <!-- lift -->\r\n     <g transform=\"translate(14.798438 122.330937)rotate(-90)scale(0.1 -0.1)\">\r\n      <defs>\r\n       <path d=\"M 9.421875 75.984375 \r\nL 18.40625 75.984375 \r\nL 18.40625 0 \r\nL 9.421875 0 \r\nz\r\n\" id=\"DejaVuSans-108\"/>\r\n       <path d=\"M 9.421875 54.6875 \r\nL 18.40625 54.6875 \r\nL 18.40625 0 \r\nL 9.421875 0 \r\nz\r\nM 9.421875 75.984375 \r\nL 18.40625 75.984375 \r\nL 18.40625 64.59375 \r\nL 9.421875 64.59375 \r\nz\r\n\" id=\"DejaVuSans-105\"/>\r\n       <path d=\"M 37.109375 75.984375 \r\nL 37.109375 68.5 \r\nL 28.515625 68.5 \r\nQ 23.6875 68.5 21.796875 66.546875 \r\nQ 19.921875 64.59375 19.921875 59.515625 \r\nL 19.921875 54.6875 \r\nL 34.71875 54.6875 \r\nL 34.71875 47.703125 \r\nL 19.921875 47.703125 \r\nL 19.921875 0 \r\nL 10.890625 0 \r\nL 10.890625 47.703125 \r\nL 2.296875 47.703125 \r\nL 2.296875 54.6875 \r\nL 10.890625 54.6875 \r\nL 10.890625 58.5 \r\nQ 10.890625 67.625 15.140625 71.796875 \r\nQ 19.390625 75.984375 28.609375 75.984375 \r\nz\r\n\" id=\"DejaVuSans-102\"/>\r\n      </defs>\r\n      <use xlink:href=\"#DejaVuSans-108\"/>\r\n      <use x=\"27.783203\" xlink:href=\"#DejaVuSans-105\"/>\r\n      <use x=\"55.566406\" xlink:href=\"#DejaVuSans-102\"/>\r\n      <use x=\"89.021484\" xlink:href=\"#DejaVuSans-116\"/>\r\n     </g>\r\n    </g>\r\n   </g>\r\n   <g id=\"patch_3\">\r\n    <path d=\"M 43.78125 224.64 \r\nL 43.78125 7.2 \r\n\" style=\"fill:none;stroke:#000000;stroke-linecap:square;stroke-linejoin:miter;stroke-width:0.8;\"/>\r\n   </g>\r\n   <g id=\"patch_4\">\r\n    <path d=\"M 378.58125 224.64 \r\nL 378.58125 7.2 \r\n\" style=\"fill:none;stroke:#000000;stroke-linecap:square;stroke-linejoin:miter;stroke-width:0.8;\"/>\r\n   </g>\r\n   <g id=\"patch_5\">\r\n    <path d=\"M 43.78125 224.64 \r\nL 378.58125 224.64 \r\n\" style=\"fill:none;stroke:#000000;stroke-linecap:square;stroke-linejoin:miter;stroke-width:0.8;\"/>\r\n   </g>\r\n   <g id=\"patch_6\">\r\n    <path d=\"M 43.78125 7.2 \r\nL 378.58125 7.2 \r\n\" style=\"fill:none;stroke:#000000;stroke-linecap:square;stroke-linejoin:miter;stroke-width:0.8;\"/>\r\n   </g>\r\n  </g>\r\n </g>\r\n <defs>\r\n  <clipPath id=\"p7fdcca93eb\">\r\n   <rect height=\"217.44\" width=\"334.8\" x=\"43.78125\" y=\"7.2\"/>\r\n  </clipPath>\r\n </defs>\r\n</svg>\r\n",
      "image/png": "[encoded data removed]"
     },
     "metadata": {
      "needs_background": "light"
     }
    }
   ]
  },
  {
   "cell_type": "code",
   "execution_count": null,
   "metadata": {},
   "outputs": [],
   "source": []
  }
 ]
}